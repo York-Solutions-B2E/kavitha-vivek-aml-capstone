{
 "cells": [
  {
   "cell_type": "code",
   "execution_count": null,
   "id": "5496b75a-b6eb-4d92-b5ec-1d77408fe686",
   "metadata": {
    "tags": []
   },
   "outputs": [],
   "source": [
    "from google.cloud import bigquery\n",
    "from google.cloud import aiplatform as vertexai\n",
    "import numpy as np\n",
    "import pandas as pd"
   ]
  },
  {
   "cell_type": "code",
   "execution_count": 1,
   "id": "0fcc0794-cf18-45fc-ac10-53826e1905c8",
   "metadata": {
    "tags": []
   },
   "outputs": [
    {
     "name": "stdout",
     "output_type": "stream",
     "text": [
      "york-bb-cohort\n"
     ]
    }
   ],
   "source": [
    "# Retrieve and set PROJECT_ID environment variable\n",
    "PROJECT_ID = !(gcloud config get-value core/project)\n",
    "PROJECT_ID = PROJECT_ID[0]\n",
    "print(PROJECT_ID)"
   ]
  },
  {
   "cell_type": "code",
   "execution_count": 2,
   "id": "b8240158-b64a-4f1b-ab91-499b446e7454",
   "metadata": {
    "tags": []
   },
   "outputs": [
    {
     "name": "stdout",
     "output_type": "stream",
     "text": [
      "us-east4\n"
     ]
    }
   ],
   "source": [
    "# Set REGION environment variable\n",
    "REGION = 'us-east4'\n",
    "print(REGION)"
   ]
  },
  {
   "cell_type": "code",
   "execution_count": 3,
   "id": "3cd58039-a02f-44bf-8978-4450b7563098",
   "metadata": {
    "tags": []
   },
   "outputs": [
    {
     "data": {
      "application/vnd.jupyter.widget-view+json": {
       "model_id": "86c95848e5fc4e63bf8a76d57118716a",
       "version_major": 2,
       "version_minor": 0
      },
      "text/plain": [
       "Query is running:   0%|          |"
      ]
     },
     "metadata": {},
     "output_type": "display_data"
    },
    {
     "data": {
      "application/vnd.jupyter.widget-view+json": {
       "model_id": "ae5e88c202b84bdf8939009ae1431c3c",
       "version_major": 2,
       "version_minor": 0
      },
      "text/plain": [
       "Downloading:   0%|          |"
      ]
     },
     "metadata": {},
     "output_type": "display_data"
    }
   ],
   "source": [
    "%%bigquery nested_df --project $PROJECT_ID\n",
    "SELECT * FROM `bigquery-public-data.google_analytics_sample.ga_sessions_*` \n",
    "TABLESAMPLE SYSTEM (2 PERCENT) "
   ]
  },
  {
   "cell_type": "code",
   "execution_count": 4,
   "id": "b0d2ae66-9afc-4c3f-adba-483145159c9c",
   "metadata": {
    "tags": []
   },
   "outputs": [
    {
     "name": "stdout",
     "output_type": "stream",
     "text": [
      "<class 'pandas.core.frame.DataFrame'>\n",
      "RangeIndex: 17637 entries, 0 to 17636\n",
      "Data columns (total 16 columns):\n",
      " #   Column                Non-Null Count  Dtype \n",
      "---  ------                --------------  ----- \n",
      " 0   visitorId             0 non-null      Int64 \n",
      " 1   visitNumber           17637 non-null  Int64 \n",
      " 2   visitId               17637 non-null  Int64 \n",
      " 3   visitStartTime        17637 non-null  Int64 \n",
      " 4   date                  17637 non-null  object\n",
      " 5   totals                17637 non-null  object\n",
      " 6   trafficSource         17637 non-null  object\n",
      " 7   device                17637 non-null  object\n",
      " 8   geoNetwork            17637 non-null  object\n",
      " 9   customDimensions      17637 non-null  object\n",
      " 10  hits                  17637 non-null  object\n",
      " 11  fullVisitorId         17637 non-null  object\n",
      " 12  userId                0 non-null      object\n",
      " 13  clientId              0 non-null      object\n",
      " 14  channelGrouping       17637 non-null  object\n",
      " 15  socialEngagementType  17637 non-null  object\n",
      "dtypes: Int64(4), object(12)\n",
      "memory usage: 2.2+ MB\n",
      "None\n"
     ]
    }
   ],
   "source": [
    "print(nested_df.info())"
   ]
  },
  {
   "cell_type": "code",
   "execution_count": 7,
   "id": "69d98407-813b-4a35-ae0c-eb8dd449a51a",
   "metadata": {
    "tags": []
   },
   "outputs": [
    {
     "name": "stdout",
     "output_type": "stream",
     "text": [
      "visitNumber 108 <IntegerArray>\n",
      "[  2,  17,  14,   1,  10,   8,   7,   3,  16,   6,\n",
      " ...\n",
      "  43,  44, 125, 142,  72, 167,  94,  92, 165,  97]\n",
      "Length: 108, dtype: Int64\n",
      "visitId 17380 <IntegerArray>\n",
      "[1486723248, 1486767842, 1486774707, 1486722539, 1486775773, 1486734665,\n",
      " 1486792302, 1486748004, 1486747995, 1486751942,\n",
      " ...\n",
      " 1474897587, 1474925084, 1474934708, 1474897429, 1474915581, 1474880184,\n",
      " 1474928938, 1474915297, 1474922295, 1474953356]\n",
      "Length: 17380, dtype: Int64\n",
      "visitStartTime 17380 <IntegerArray>\n",
      "[1486723248, 1486767842, 1486774707, 1486722539, 1486775773, 1486734665,\n",
      " 1486792302, 1486748004, 1486747995, 1486751942,\n",
      " ...\n",
      " 1474897587, 1474925087, 1474934708, 1474897429, 1474915581, 1474880184,\n",
      " 1474928938, 1474915297, 1474922295, 1474953356]\n",
      "Length: 17380, dtype: Int64\n",
      "date 7 ['20170210' '20161222' '20161217' '20160923' '20161119' '20160816'\n",
      " '20160926']\n",
      "fullVisitorId 16148 ['3537240514615185660' '9334655840242218288' '274075099018939329' ...\n",
      " '4137305465781411175' '6966498085786819087' '0027867334197534558']\n",
      "channelGrouping 7 ['Organic Search' 'Display' 'Direct' 'Paid Search' 'Referral' 'Social'\n",
      " 'Affiliates']\n",
      "socialEngagementType 1 ['Not Socially Engaged']\n"
     ]
    }
   ],
   "source": [
    "cols = [\"visitNumber\", \"visitId\", \"visitStartTime\", \"date\",\"fullVisitorId\", \"channelGrouping\", \"socialEngagementType\"]\n",
    "for col in cols:\n",
    "    print(col, nested_df[col].nunique(), nested_df[col].unique())\n",
    "    "
   ]
  },
  {
   "cell_type": "code",
   "execution_count": 5,
   "id": "9544b997-40fe-4418-b2b7-9462e86f8190",
   "metadata": {
    "tags": []
   },
   "outputs": [
    {
     "data": {
      "application/vnd.jupyter.widget-view+json": {
       "model_id": "38cec4898e0b4a1fa6f4643e0f0c5535",
       "version_major": 2,
       "version_minor": 0
      },
      "text/plain": [
       "Query is running:   0%|          |"
      ]
     },
     "metadata": {},
     "output_type": "display_data"
    },
    {
     "data": {
      "application/vnd.jupyter.widget-view+json": {
       "model_id": "cbc951549da042c888ffde217ad96ec4",
       "version_major": 2,
       "version_minor": 0
      },
      "text/plain": [
       "Downloading:   0%|          |"
      ]
     },
     "metadata": {},
     "output_type": "display_data"
    },
    {
     "data": {
      "text/html": [
       "<div>\n",
       "<style scoped>\n",
       "    .dataframe tbody tr th:only-of-type {\n",
       "        vertical-align: middle;\n",
       "    }\n",
       "\n",
       "    .dataframe tbody tr th {\n",
       "        vertical-align: top;\n",
       "    }\n",
       "\n",
       "    .dataframe thead th {\n",
       "        text-align: right;\n",
       "    }\n",
       "</style>\n",
       "<table border=\"1\" class=\"dataframe\">\n",
       "  <thead>\n",
       "    <tr style=\"text-align: right;\">\n",
       "      <th></th>\n",
       "      <th>visitorId_not_null_count</th>\n",
       "    </tr>\n",
       "  </thead>\n",
       "  <tbody>\n",
       "    <tr>\n",
       "      <th>0</th>\n",
       "      <td>0</td>\n",
       "    </tr>\n",
       "  </tbody>\n",
       "</table>\n",
       "</div>"
      ],
      "text/plain": [
       "   visitorId_not_null_count\n",
       "0                         0"
      ]
     },
     "execution_count": 5,
     "metadata": {},
     "output_type": "execute_result"
    }
   ],
   "source": [
    "%%bigquery --project $PROJECT_ID\n",
    "SELECT count(visitorId) AS visitorId_not_null_count\n",
    "FROM `bigquery-public-data.google_analytics_sample.ga_sessions_*` \n",
    "WHERE visitorId IS NOT NULL"
   ]
  },
  {
   "cell_type": "code",
   "execution_count": 6,
   "id": "3ab2af33-6a6e-42fd-af38-06675234b0c3",
   "metadata": {
    "tags": []
   },
   "outputs": [
    {
     "data": {
      "application/vnd.jupyter.widget-view+json": {
       "model_id": "1d863a5790fa45aea7634a4ae5b7653b",
       "version_major": 2,
       "version_minor": 0
      },
      "text/plain": [
       "Query is running:   0%|          |"
      ]
     },
     "metadata": {},
     "output_type": "display_data"
    },
    {
     "data": {
      "application/vnd.jupyter.widget-view+json": {
       "model_id": "eda2ebb08b514253965e6cd10639195b",
       "version_major": 2,
       "version_minor": 0
      },
      "text/plain": [
       "Downloading:   0%|          |"
      ]
     },
     "metadata": {},
     "output_type": "display_data"
    },
    {
     "data": {
      "text/html": [
       "<div>\n",
       "<style scoped>\n",
       "    .dataframe tbody tr th:only-of-type {\n",
       "        vertical-align: middle;\n",
       "    }\n",
       "\n",
       "    .dataframe tbody tr th {\n",
       "        vertical-align: top;\n",
       "    }\n",
       "\n",
       "    .dataframe thead th {\n",
       "        text-align: right;\n",
       "    }\n",
       "</style>\n",
       "<table border=\"1\" class=\"dataframe\">\n",
       "  <thead>\n",
       "    <tr style=\"text-align: right;\">\n",
       "      <th></th>\n",
       "      <th>userId_not_null_count</th>\n",
       "    </tr>\n",
       "  </thead>\n",
       "  <tbody>\n",
       "    <tr>\n",
       "      <th>0</th>\n",
       "      <td>0</td>\n",
       "    </tr>\n",
       "  </tbody>\n",
       "</table>\n",
       "</div>"
      ],
      "text/plain": [
       "   userId_not_null_count\n",
       "0                      0"
      ]
     },
     "execution_count": 6,
     "metadata": {},
     "output_type": "execute_result"
    }
   ],
   "source": [
    "%%bigquery --project $PROJECT_ID\n",
    "SELECT count(userId) AS userId_not_null_count\n",
    "FROM `bigquery-public-data.google_analytics_sample.ga_sessions_*` \n",
    "WHERE userId IS NOT NULL"
   ]
  },
  {
   "cell_type": "code",
   "execution_count": 8,
   "id": "a91b8259-26e8-4807-94b6-68e76c81bcf3",
   "metadata": {
    "tags": []
   },
   "outputs": [
    {
     "data": {
      "application/vnd.jupyter.widget-view+json": {
       "model_id": "c0c927d3500e48a0825fbdb9cac9817c",
       "version_major": 2,
       "version_minor": 0
      },
      "text/plain": [
       "Query is running:   0%|          |"
      ]
     },
     "metadata": {},
     "output_type": "display_data"
    },
    {
     "data": {
      "application/vnd.jupyter.widget-view+json": {
       "model_id": "b0d190239504495bbb4198ad1bf985dd",
       "version_major": 2,
       "version_minor": 0
      },
      "text/plain": [
       "Downloading:   0%|          |"
      ]
     },
     "metadata": {},
     "output_type": "display_data"
    }
   ],
   "source": [
    "%%bigquery df --project $PROJECT_ID\n",
    "\n",
    "SELECT * EXCEPT(hits, totals, trafficSource, device, geoNetwork), h.* EXCEPT(product), totals.*, prod.*, trafficSource.*, device.*, geoNetwork.* \n",
    "FROM `bigquery-public-data.google_analytics_sample.ga_sessions_20160801` ,\n",
    "UNNEST (hits) AS h,\n",
    "UNNEST(h.product) AS prod\n"
   ]
  },
  {
   "cell_type": "code",
   "execution_count": 9,
   "id": "fb7a92b4-9ec5-4475-a34d-0cecfaeffded",
   "metadata": {
    "tags": []
   },
   "outputs": [
    {
     "data": {
      "text/html": [
       "<div>\n",
       "<style scoped>\n",
       "    .dataframe tbody tr th:only-of-type {\n",
       "        vertical-align: middle;\n",
       "    }\n",
       "\n",
       "    .dataframe tbody tr th {\n",
       "        vertical-align: top;\n",
       "    }\n",
       "\n",
       "    .dataframe thead th {\n",
       "        text-align: right;\n",
       "    }\n",
       "</style>\n",
       "<table border=\"1\" class=\"dataframe\">\n",
       "  <thead>\n",
       "    <tr style=\"text-align: right;\">\n",
       "      <th></th>\n",
       "      <th>visitorId</th>\n",
       "      <th>visitNumber</th>\n",
       "      <th>visitId</th>\n",
       "      <th>visitStartTime</th>\n",
       "      <th>date</th>\n",
       "      <th>customDimensions</th>\n",
       "      <th>fullVisitorId</th>\n",
       "      <th>userId</th>\n",
       "      <th>channelGrouping</th>\n",
       "      <th>socialEngagementType</th>\n",
       "      <th>...</th>\n",
       "      <th>subContinent</th>\n",
       "      <th>country</th>\n",
       "      <th>region</th>\n",
       "      <th>metro</th>\n",
       "      <th>city</th>\n",
       "      <th>cityId</th>\n",
       "      <th>networkDomain</th>\n",
       "      <th>latitude</th>\n",
       "      <th>longitude</th>\n",
       "      <th>networkLocation</th>\n",
       "    </tr>\n",
       "  </thead>\n",
       "  <tbody>\n",
       "    <tr>\n",
       "      <th>0</th>\n",
       "      <td>&lt;NA&gt;</td>\n",
       "      <td>1</td>\n",
       "      <td>1470046245</td>\n",
       "      <td>1470046245</td>\n",
       "      <td>20160801</td>\n",
       "      <td>[{'index': 4, 'value': 'EMEA'}]</td>\n",
       "      <td>895954260133011192</td>\n",
       "      <td>None</td>\n",
       "      <td>Organic Search</td>\n",
       "      <td>Not Socially Engaged</td>\n",
       "      <td>...</td>\n",
       "      <td>Western Europe</td>\n",
       "      <td>Germany</td>\n",
       "      <td>not available in demo dataset</td>\n",
       "      <td>not available in demo dataset</td>\n",
       "      <td>not available in demo dataset</td>\n",
       "      <td>not available in demo dataset</td>\n",
       "      <td>scalamedia.de</td>\n",
       "      <td>not available in demo dataset</td>\n",
       "      <td>not available in demo dataset</td>\n",
       "      <td>not available in demo dataset</td>\n",
       "    </tr>\n",
       "    <tr>\n",
       "      <th>1</th>\n",
       "      <td>&lt;NA&gt;</td>\n",
       "      <td>1</td>\n",
       "      <td>1470046245</td>\n",
       "      <td>1470046245</td>\n",
       "      <td>20160801</td>\n",
       "      <td>[{'index': 4, 'value': 'EMEA'}]</td>\n",
       "      <td>895954260133011192</td>\n",
       "      <td>None</td>\n",
       "      <td>Organic Search</td>\n",
       "      <td>Not Socially Engaged</td>\n",
       "      <td>...</td>\n",
       "      <td>Western Europe</td>\n",
       "      <td>Germany</td>\n",
       "      <td>not available in demo dataset</td>\n",
       "      <td>not available in demo dataset</td>\n",
       "      <td>not available in demo dataset</td>\n",
       "      <td>not available in demo dataset</td>\n",
       "      <td>scalamedia.de</td>\n",
       "      <td>not available in demo dataset</td>\n",
       "      <td>not available in demo dataset</td>\n",
       "      <td>not available in demo dataset</td>\n",
       "    </tr>\n",
       "    <tr>\n",
       "      <th>2</th>\n",
       "      <td>&lt;NA&gt;</td>\n",
       "      <td>1</td>\n",
       "      <td>1470046245</td>\n",
       "      <td>1470046245</td>\n",
       "      <td>20160801</td>\n",
       "      <td>[{'index': 4, 'value': 'EMEA'}]</td>\n",
       "      <td>895954260133011192</td>\n",
       "      <td>None</td>\n",
       "      <td>Organic Search</td>\n",
       "      <td>Not Socially Engaged</td>\n",
       "      <td>...</td>\n",
       "      <td>Western Europe</td>\n",
       "      <td>Germany</td>\n",
       "      <td>not available in demo dataset</td>\n",
       "      <td>not available in demo dataset</td>\n",
       "      <td>not available in demo dataset</td>\n",
       "      <td>not available in demo dataset</td>\n",
       "      <td>scalamedia.de</td>\n",
       "      <td>not available in demo dataset</td>\n",
       "      <td>not available in demo dataset</td>\n",
       "      <td>not available in demo dataset</td>\n",
       "    </tr>\n",
       "    <tr>\n",
       "      <th>3</th>\n",
       "      <td>&lt;NA&gt;</td>\n",
       "      <td>1</td>\n",
       "      <td>1470046245</td>\n",
       "      <td>1470046245</td>\n",
       "      <td>20160801</td>\n",
       "      <td>[{'index': 4, 'value': 'EMEA'}]</td>\n",
       "      <td>895954260133011192</td>\n",
       "      <td>None</td>\n",
       "      <td>Organic Search</td>\n",
       "      <td>Not Socially Engaged</td>\n",
       "      <td>...</td>\n",
       "      <td>Western Europe</td>\n",
       "      <td>Germany</td>\n",
       "      <td>not available in demo dataset</td>\n",
       "      <td>not available in demo dataset</td>\n",
       "      <td>not available in demo dataset</td>\n",
       "      <td>not available in demo dataset</td>\n",
       "      <td>scalamedia.de</td>\n",
       "      <td>not available in demo dataset</td>\n",
       "      <td>not available in demo dataset</td>\n",
       "      <td>not available in demo dataset</td>\n",
       "    </tr>\n",
       "    <tr>\n",
       "      <th>4</th>\n",
       "      <td>&lt;NA&gt;</td>\n",
       "      <td>1</td>\n",
       "      <td>1470046245</td>\n",
       "      <td>1470046245</td>\n",
       "      <td>20160801</td>\n",
       "      <td>[{'index': 4, 'value': 'EMEA'}]</td>\n",
       "      <td>895954260133011192</td>\n",
       "      <td>None</td>\n",
       "      <td>Organic Search</td>\n",
       "      <td>Not Socially Engaged</td>\n",
       "      <td>...</td>\n",
       "      <td>Western Europe</td>\n",
       "      <td>Germany</td>\n",
       "      <td>not available in demo dataset</td>\n",
       "      <td>not available in demo dataset</td>\n",
       "      <td>not available in demo dataset</td>\n",
       "      <td>not available in demo dataset</td>\n",
       "      <td>scalamedia.de</td>\n",
       "      <td>not available in demo dataset</td>\n",
       "      <td>not available in demo dataset</td>\n",
       "      <td>not available in demo dataset</td>\n",
       "    </tr>\n",
       "  </tbody>\n",
       "</table>\n",
       "<p>5 rows × 161 columns</p>\n",
       "</div>"
      ],
      "text/plain": [
       "   visitorId  visitNumber     visitId  visitStartTime      date  \\\n",
       "0       <NA>            1  1470046245      1470046245  20160801   \n",
       "1       <NA>            1  1470046245      1470046245  20160801   \n",
       "2       <NA>            1  1470046245      1470046245  20160801   \n",
       "3       <NA>            1  1470046245      1470046245  20160801   \n",
       "4       <NA>            1  1470046245      1470046245  20160801   \n",
       "\n",
       "                  customDimensions       fullVisitorId userId channelGrouping  \\\n",
       "0  [{'index': 4, 'value': 'EMEA'}]  895954260133011192   None  Organic Search   \n",
       "1  [{'index': 4, 'value': 'EMEA'}]  895954260133011192   None  Organic Search   \n",
       "2  [{'index': 4, 'value': 'EMEA'}]  895954260133011192   None  Organic Search   \n",
       "3  [{'index': 4, 'value': 'EMEA'}]  895954260133011192   None  Organic Search   \n",
       "4  [{'index': 4, 'value': 'EMEA'}]  895954260133011192   None  Organic Search   \n",
       "\n",
       "   socialEngagementType  ...    subContinent  country  \\\n",
       "0  Not Socially Engaged  ...  Western Europe  Germany   \n",
       "1  Not Socially Engaged  ...  Western Europe  Germany   \n",
       "2  Not Socially Engaged  ...  Western Europe  Germany   \n",
       "3  Not Socially Engaged  ...  Western Europe  Germany   \n",
       "4  Not Socially Engaged  ...  Western Europe  Germany   \n",
       "\n",
       "                          region                          metro  \\\n",
       "0  not available in demo dataset  not available in demo dataset   \n",
       "1  not available in demo dataset  not available in demo dataset   \n",
       "2  not available in demo dataset  not available in demo dataset   \n",
       "3  not available in demo dataset  not available in demo dataset   \n",
       "4  not available in demo dataset  not available in demo dataset   \n",
       "\n",
       "                            city                         cityId  \\\n",
       "0  not available in demo dataset  not available in demo dataset   \n",
       "1  not available in demo dataset  not available in demo dataset   \n",
       "2  not available in demo dataset  not available in demo dataset   \n",
       "3  not available in demo dataset  not available in demo dataset   \n",
       "4  not available in demo dataset  not available in demo dataset   \n",
       "\n",
       "   networkDomain                       latitude  \\\n",
       "0  scalamedia.de  not available in demo dataset   \n",
       "1  scalamedia.de  not available in demo dataset   \n",
       "2  scalamedia.de  not available in demo dataset   \n",
       "3  scalamedia.de  not available in demo dataset   \n",
       "4  scalamedia.de  not available in demo dataset   \n",
       "\n",
       "                       longitude                networkLocation  \n",
       "0  not available in demo dataset  not available in demo dataset  \n",
       "1  not available in demo dataset  not available in demo dataset  \n",
       "2  not available in demo dataset  not available in demo dataset  \n",
       "3  not available in demo dataset  not available in demo dataset  \n",
       "4  not available in demo dataset  not available in demo dataset  \n",
       "\n",
       "[5 rows x 161 columns]"
      ]
     },
     "execution_count": 9,
     "metadata": {},
     "output_type": "execute_result"
    }
   ],
   "source": [
    "df.head()"
   ]
  },
  {
   "cell_type": "code",
   "execution_count": 10,
   "id": "55e7c18e-d2ba-46a2-b21b-7080bdaef0d2",
   "metadata": {
    "tags": []
   },
   "outputs": [
    {
     "data": {
      "text/plain": [
       "(93007, 161)"
      ]
     },
     "execution_count": 10,
     "metadata": {},
     "output_type": "execute_result"
    }
   ],
   "source": [
    "df.shape"
   ]
  },
  {
   "cell_type": "code",
   "execution_count": 11,
   "id": "6f105238-2860-4143-943d-bdb9a6a96201",
   "metadata": {
    "tags": []
   },
   "outputs": [
    {
     "name": "stdout",
     "output_type": "stream",
     "text": [
      "<class 'pandas.core.frame.DataFrame'>\n",
      "RangeIndex: 93007 entries, 0 to 93006\n",
      "Columns: 161 entries, visitorId to networkLocation\n",
      "dtypes: Int64(41), boolean(15), object(105)\n",
      "memory usage: 109.9+ MB\n"
     ]
    }
   ],
   "source": [
    "df.info()"
   ]
  },
  {
   "cell_type": "code",
   "execution_count": 12,
   "id": "62fec2d3-bd6c-4180-b20b-365e189cd508",
   "metadata": {
    "tags": []
   },
   "outputs": [
    {
     "data": {
      "text/plain": [
       "visitorId          93007\n",
       "visitNumber            0\n",
       "visitId                0\n",
       "visitStartTime         0\n",
       "date                   0\n",
       "                   ...  \n",
       "cityId                 0\n",
       "networkDomain          0\n",
       "latitude               0\n",
       "longitude              0\n",
       "networkLocation        0\n",
       "Length: 161, dtype: int64"
      ]
     },
     "execution_count": 12,
     "metadata": {},
     "output_type": "execute_result"
    }
   ],
   "source": [
    "df.isnull().sum()"
   ]
  },
  {
   "cell_type": "markdown",
   "id": "a5a03d85-db5c-4efa-9e6f-9b3022c38d48",
   "metadata": {},
   "source": [
    "Looks like visitorId and userId has all null values."
   ]
  },
  {
   "cell_type": "code",
   "execution_count": 14,
   "id": "9c2c5c6b-59d4-4006-9e31-74b306ed57e6",
   "metadata": {},
   "outputs": [
    {
     "data": {
      "application/vnd.jupyter.widget-view+json": {
       "model_id": "6458776c68c74c739a87065e0650dde1",
       "version_major": 2,
       "version_minor": 0
      },
      "text/plain": [
       "Query is running:   0%|          |"
      ]
     },
     "metadata": {},
     "output_type": "display_data"
    },
    {
     "data": {
      "application/vnd.jupyter.widget-view+json": {
       "model_id": "a4608d5a35f24ba8986d836009defcce",
       "version_major": 2,
       "version_minor": 0
      },
      "text/plain": [
       "Downloading:   0%|          |"
      ]
     },
     "metadata": {},
     "output_type": "display_data"
    }
   ],
   "source": [
    "%%bigquery df --project $PROJECT_ID\n",
    "\n",
    "SELECT * FROM `bigquery-public-data.google_analytics_sample.ga_sessions_20160801`"
   ]
  },
  {
   "cell_type": "code",
   "execution_count": 15,
   "id": "e2a9b4d2-93b2-4e10-a102-81ae0d076d07",
   "metadata": {
    "tags": []
   },
   "outputs": [
    {
     "data": {
      "application/vnd.jupyter.widget-view+json": {
       "model_id": "89254b4e828d48b28362e04594046bce",
       "version_major": 2,
       "version_minor": 0
      },
      "text/plain": [
       "Query is running:   0%|          |"
      ]
     },
     "metadata": {},
     "output_type": "display_data"
    },
    {
     "data": {
      "application/vnd.jupyter.widget-view+json": {
       "model_id": "bbb21992b76a49b3aa22d4692a449d8d",
       "version_major": 2,
       "version_minor": 0
      },
      "text/plain": [
       "Downloading:   0%|          |"
      ]
     },
     "metadata": {},
     "output_type": "display_data"
    }
   ],
   "source": [
    "%%bigquery totals_df --project $PROJECT_ID\n",
    "\n",
    "SELECT totals.* FROM  `bigquery-public-data.google_analytics_sample.ga_sessions_*`"
   ]
  },
  {
   "cell_type": "code",
   "execution_count": 16,
   "id": "c64c603d-a32f-41d6-bbcc-dec15cfbd7fa",
   "metadata": {
    "tags": []
   },
   "outputs": [
    {
     "name": "stdout",
     "output_type": "stream",
     "text": [
      "<class 'pandas.core.frame.DataFrame'>\n",
      "RangeIndex: 903653 entries, 0 to 903652\n",
      "Data columns (total 13 columns):\n",
      " #   Column                   Non-Null Count   Dtype\n",
      "---  ------                   --------------   -----\n",
      " 0   visits                   903653 non-null  Int64\n",
      " 1   hits                     903653 non-null  Int64\n",
      " 2   pageviews                903553 non-null  Int64\n",
      " 3   timeOnSite               451894 non-null  Int64\n",
      " 4   bounces                  450630 non-null  Int64\n",
      " 5   transactions             11552 non-null   Int64\n",
      " 6   transactionRevenue       11515 non-null   Int64\n",
      " 7   newVisits                703060 non-null  Int64\n",
      " 8   screenviews              0 non-null       Int64\n",
      " 9   uniqueScreenviews        0 non-null       Int64\n",
      " 10  timeOnScreen             0 non-null       Int64\n",
      " 11  totalTransactionRevenue  11515 non-null   Int64\n",
      " 12  sessionQualityDim        68379 non-null   Int64\n",
      "dtypes: Int64(13)\n",
      "memory usage: 100.8 MB\n",
      "None\n"
     ]
    }
   ],
   "source": [
    "# Fields of total \n",
    "print(totals_df.info())"
   ]
  },
  {
   "cell_type": "code",
   "execution_count": 17,
   "id": "5474067e-a593-483b-98ea-88ad2cad8f1a",
   "metadata": {
    "tags": []
   },
   "outputs": [
    {
     "data": {
      "text/plain": [
       "visits                        1\n",
       "hits                        274\n",
       "pageviews                   213\n",
       "timeOnSite                 4260\n",
       "bounces                       1\n",
       "transactions                 13\n",
       "transactionRevenue         5332\n",
       "newVisits                     1\n",
       "screenviews                   0\n",
       "uniqueScreenviews             0\n",
       "timeOnScreen                  0\n",
       "totalTransactionRevenue    6200\n",
       "sessionQualityDim            99\n",
       "dtype: int64"
      ]
     },
     "execution_count": 17,
     "metadata": {},
     "output_type": "execute_result"
    }
   ],
   "source": [
    "totals_df.nunique()"
   ]
  },
  {
   "cell_type": "code",
   "execution_count": 18,
   "id": "ca9790b0-0d1f-4b76-b112-d5d626101851",
   "metadata": {
    "tags": []
   },
   "outputs": [
    {
     "name": "stdout",
     "output_type": "stream",
     "text": [
      "visits <IntegerArray>\n",
      "[1]\n",
      "Length: 1, dtype: Int64\n",
      "bounces <IntegerArray>\n",
      "[1, <NA>]\n",
      "Length: 2, dtype: Int64\n",
      "newVisits <IntegerArray>\n",
      "[1, <NA>]\n",
      "Length: 2, dtype: Int64\n",
      "transactions <IntegerArray>\n",
      "[<NA>, 1, 2, 4, 3, 5, 6, 8, 10, 21, 25, 7, 12, 15]\n",
      "Length: 14, dtype: Int64\n"
     ]
    }
   ],
   "source": [
    "cols = [\"visits\", \"bounces\", \"newVisits\", \"transactions\"]\n",
    "for col in cols:\n",
    "    print(col, totals_df[col].unique())\n",
    "    "
   ]
  },
  {
   "cell_type": "code",
   "execution_count": 19,
   "id": "6aafb5e9-28de-42f5-8ebc-051fd1313e71",
   "metadata": {
    "tags": []
   },
   "outputs": [
    {
     "data": {
      "application/vnd.jupyter.widget-view+json": {
       "model_id": "9bd13325953b4f8baaa3899b2486e473",
       "version_major": 2,
       "version_minor": 0
      },
      "text/plain": [
       "Query is running:   0%|          |"
      ]
     },
     "metadata": {},
     "output_type": "display_data"
    },
    {
     "data": {
      "application/vnd.jupyter.widget-view+json": {
       "model_id": "6c5dd0c147e749d28192e68f8427191c",
       "version_major": 2,
       "version_minor": 0
      },
      "text/plain": [
       "Downloading:   0%|          |"
      ]
     },
     "metadata": {},
     "output_type": "display_data"
    }
   ],
   "source": [
    "%%bigquery device_df --project $PROJECT_ID\n",
    "\n",
    "SELECT device.* FROM  `bigquery-public-data.google_analytics_sample.ga_sessions_*`"
   ]
  },
  {
   "cell_type": "code",
   "execution_count": 20,
   "id": "c348f56a-4db5-4f2d-9f88-debaa0bb8966",
   "metadata": {
    "tags": []
   },
   "outputs": [
    {
     "name": "stdout",
     "output_type": "stream",
     "text": [
      "<class 'pandas.core.frame.DataFrame'>\n",
      "RangeIndex: 903653 entries, 0 to 903652\n",
      "Data columns (total 17 columns):\n",
      " #   Column                     Non-Null Count   Dtype  \n",
      "---  ------                     --------------   -----  \n",
      " 0   browser                    903653 non-null  object \n",
      " 1   browserVersion             903653 non-null  object \n",
      " 2   browserSize                903653 non-null  object \n",
      " 3   operatingSystem            903653 non-null  object \n",
      " 4   operatingSystemVersion     903653 non-null  object \n",
      " 5   isMobile                   903653 non-null  boolean\n",
      " 6   mobileDeviceBranding       903653 non-null  object \n",
      " 7   mobileDeviceModel          903653 non-null  object \n",
      " 8   mobileInputSelector        903653 non-null  object \n",
      " 9   mobileDeviceInfo           903653 non-null  object \n",
      " 10  mobileDeviceMarketingName  903653 non-null  object \n",
      " 11  flashVersion               903653 non-null  object \n",
      " 12  javaEnabled                0 non-null       boolean\n",
      " 13  language                   903653 non-null  object \n",
      " 14  screenColors               903653 non-null  object \n",
      " 15  screenResolution           903653 non-null  object \n",
      " 16  deviceCategory             903653 non-null  object \n",
      "dtypes: boolean(2), object(15)\n",
      "memory usage: 106.9+ MB\n",
      "None\n"
     ]
    }
   ],
   "source": [
    "print(device_df.info())"
   ]
  },
  {
   "cell_type": "code",
   "execution_count": 21,
   "id": "8b7edc6b-81db-4bfe-91a1-adb1603d14a7",
   "metadata": {
    "tags": []
   },
   "outputs": [
    {
     "data": {
      "text/plain": [
       "browser                      54\n",
       "browserVersion                1\n",
       "browserSize                   1\n",
       "operatingSystem              20\n",
       "operatingSystemVersion        1\n",
       "isMobile                      2\n",
       "mobileDeviceBranding          1\n",
       "mobileDeviceModel             1\n",
       "mobileInputSelector           1\n",
       "mobileDeviceInfo              1\n",
       "mobileDeviceMarketingName     1\n",
       "flashVersion                  1\n",
       "javaEnabled                   0\n",
       "language                      1\n",
       "screenColors                  1\n",
       "screenResolution              1\n",
       "deviceCategory                3\n",
       "dtype: int64"
      ]
     },
     "execution_count": 21,
     "metadata": {},
     "output_type": "execute_result"
    }
   ],
   "source": [
    "device_df.nunique()"
   ]
  },
  {
   "cell_type": "code",
   "execution_count": 22,
   "id": "d48e8c79-f358-4a95-89ec-929dcf3d00dd",
   "metadata": {
    "tags": []
   },
   "outputs": [
    {
     "name": "stdout",
     "output_type": "stream",
     "text": [
      "browser ['BlackBerry' 'Firefox' 'Safari' 'Nintendo Browser' 'Edge'\n",
      " 'Internet Explorer' 'Opera Mini' 'UC Browser' 'DoCoMo'\n",
      " 'Mozilla Compatible Agent' 'Chrome' 'NokiaE52-1' 'Safari (in-app)'\n",
      " 'Puffin' '(not set)' 'YaBrowser' 'Reddit' 'Lunascape'\n",
      " 'osee2unifiedRelease' 'Opera' 'SeaMonkey' 'Konqueror' 'Seznam' 'Mozilla'\n",
      " 'Amazon Silk' 'Android Webview' 'Android Browser' 'Coc Coc'\n",
      " 'Nokia Browser' 'Hisense M20-M_LTE' 'TCL P500M' 'HTC802t_TD' 'YE'\n",
      " 'Android Runtime' 'M5' 'MRCHROME' 'Maxthon' 'Iron' 'IE with Chrome Frame'\n",
      " 'Nichrome' 'LYF_LS_4002_12' 'DASH_JR_3G'\n",
      " '[Use default User-agent string] LIVRENPOCHE' 'ADM' 'Apple-iPhone7C2'\n",
      " 'User Agent' 'LYF_LS_4002_11' '0' 'subjectAgent: NoticiasBoom'\n",
      " 'MQQBrowser' 'no-ua' 'ThumbSniper' 'Changa 99695759' 'CSM Click']\n",
      "browserVersion ['not available in demo dataset']\n",
      "browserSize ['not available in demo dataset']\n",
      "operatingSystem ['BlackBerry' 'Firefox OS' 'Windows Phone' 'Nintendo Wii' 'Xbox' 'Samsung'\n",
      " 'Nintendo WiiU' 'FreeBSD' 'NTT DoCoMo' 'SunOS' 'Nintendo 3DS' 'Nokia'\n",
      " 'OpenBSD' 'iOS' 'Linux' 'Android' 'Windows' '(not set)' 'Chrome OS'\n",
      " 'Macintosh']\n",
      "operatingSystemVersion ['not available in demo dataset']\n",
      "isMobile <BooleanArray>\n",
      "[True, False]\n",
      "Length: 2, dtype: boolean\n",
      "mobileDeviceBranding ['not available in demo dataset']\n",
      "mobileDeviceModel ['not available in demo dataset']\n",
      "mobileInputSelector ['not available in demo dataset']\n",
      "mobileDeviceInfo ['not available in demo dataset']\n",
      "mobileDeviceMarketingName ['not available in demo dataset']\n",
      "flashVersion ['not available in demo dataset']\n",
      "javaEnabled <BooleanArray>\n",
      "[<NA>]\n",
      "Length: 1, dtype: boolean\n",
      "language ['not available in demo dataset']\n",
      "screenColors ['not available in demo dataset']\n",
      "screenResolution ['not available in demo dataset']\n",
      "deviceCategory ['mobile' 'desktop' 'tablet']\n"
     ]
    }
   ],
   "source": [
    "cols = device_df.columns\n",
    "for col in cols:\n",
    "    print(col, device_df[col].unique())"
   ]
  },
  {
   "cell_type": "code",
   "execution_count": 23,
   "id": "288e93f6-69a5-423c-adc7-835a072d88b1",
   "metadata": {
    "tags": []
   },
   "outputs": [
    {
     "data": {
      "application/vnd.jupyter.widget-view+json": {
       "model_id": "2d8c34217ff34c6f9c3a908aede1e633",
       "version_major": 2,
       "version_minor": 0
      },
      "text/plain": [
       "Query is running:   0%|          |"
      ]
     },
     "metadata": {},
     "output_type": "display_data"
    },
    {
     "data": {
      "application/vnd.jupyter.widget-view+json": {
       "model_id": "a96785920b2746ed88fd8b88d40afdb5",
       "version_major": 2,
       "version_minor": 0
      },
      "text/plain": [
       "Downloading:   0%|          |"
      ]
     },
     "metadata": {},
     "output_type": "display_data"
    }
   ],
   "source": [
    "%%bigquery geoNetwork_df --project $PROJECT_ID\n",
    "\n",
    "SELECT geoNetwork.* FROM  `bigquery-public-data.google_analytics_sample.ga_sessions_*`"
   ]
  },
  {
   "cell_type": "code",
   "execution_count": 24,
   "id": "717927fc-16c8-401b-b3a6-e625700308b0",
   "metadata": {
    "tags": []
   },
   "outputs": [
    {
     "name": "stdout",
     "output_type": "stream",
     "text": [
      "<class 'pandas.core.frame.DataFrame'>\n",
      "RangeIndex: 903653 entries, 0 to 903652\n",
      "Data columns (total 11 columns):\n",
      " #   Column           Non-Null Count   Dtype \n",
      "---  ------           --------------   ----- \n",
      " 0   continent        903653 non-null  object\n",
      " 1   subContinent     903653 non-null  object\n",
      " 2   country          903653 non-null  object\n",
      " 3   region           903653 non-null  object\n",
      " 4   metro            903653 non-null  object\n",
      " 5   city             903653 non-null  object\n",
      " 6   cityId           903653 non-null  object\n",
      " 7   networkDomain    903653 non-null  object\n",
      " 8   latitude         903653 non-null  object\n",
      " 9   longitude        903653 non-null  object\n",
      " 10  networkLocation  903653 non-null  object\n",
      "dtypes: object(11)\n",
      "memory usage: 75.8+ MB\n"
     ]
    }
   ],
   "source": [
    "geoNetwork_df.info()"
   ]
  },
  {
   "cell_type": "code",
   "execution_count": 25,
   "id": "fee02334-9409-471e-a070-708ba9ea177a",
   "metadata": {
    "tags": []
   },
   "outputs": [
    {
     "data": {
      "text/plain": [
       "continent              6\n",
       "subContinent          23\n",
       "country              222\n",
       "region               376\n",
       "metro                 94\n",
       "city                 649\n",
       "cityId                 1\n",
       "networkDomain      28064\n",
       "latitude               1\n",
       "longitude              1\n",
       "networkLocation        1\n",
       "dtype: int64"
      ]
     },
     "execution_count": 25,
     "metadata": {},
     "output_type": "execute_result"
    }
   ],
   "source": [
    "geoNetwork_df.nunique()"
   ]
  },
  {
   "cell_type": "code",
   "execution_count": 26,
   "id": "b0f48c26-2e11-426a-afe7-1e896a55efc0",
   "metadata": {
    "tags": []
   },
   "outputs": [
    {
     "name": "stdout",
     "output_type": "stream",
     "text": [
      "continent ['Africa' 'Americas' 'Asia' 'Oceania' 'Europe' '(not set)']\n",
      "subContinent ['Northern Africa' 'South America' 'Western Asia' 'Australasia'\n",
      " 'Eastern Europe' 'Caribbean' 'Middle Africa' 'Southern Asia'\n",
      " 'Southern Europe' 'Eastern Asia' 'Western Europe' 'Southern Africa'\n",
      " 'Eastern Africa' 'Northern Europe' 'Central America' 'Western Africa'\n",
      " 'Southeast Asia' '(not set)' 'Central Asia' 'Micronesian Region'\n",
      " 'Northern America' 'Melanesia' 'Polynesia']\n",
      "country ['Egypt' 'Ecuador' 'Bahrain' 'New Zealand' 'Armenia' 'Bulgaria' 'Haiti'\n",
      " 'Czechia' 'Angola' 'Pakistan' 'Croatia' 'Greece' 'China' 'Belgium'\n",
      " 'Portugal' 'Slovakia' 'Austria' 'Switzerland' 'South Africa' 'Sri Lanka'\n",
      " 'Bangladesh' 'Morocco' 'Kenya' 'Hungary' 'Chile' 'Serbia' 'Lithuania'\n",
      " 'Tunisia' 'United Arab Emirates' 'Dominican Republic' 'Algeria'\n",
      " 'Azerbaijan' 'Costa Rica' 'Uruguay' 'Saudi Arabia' 'Bolivia' 'Jordan'\n",
      " 'Palestine' 'Central African Republic' 'Norway' 'Yemen' 'Guinea'\n",
      " 'Nigeria' 'Uganda' 'Albania' 'Slovenia' 'Brunei' 'Bosnia & Herzegovina'\n",
      " 'Macedonia (FYROM)' 'Luxembourg' 'Iceland' 'Oman' 'Kosovo' 'Latvia'\n",
      " 'Qatar' 'Swaziland' 'Jamaica' 'Denmark' 'Burundi' '(not set)' 'Iraq'\n",
      " 'Puerto Rico' 'Mauritania' 'Lebanon' 'Estonia' 'El Salvador' 'Venezuela'\n",
      " 'Bahamas' 'Mozambique' 'Kuwait' 'Gabon' 'Senegal' 'Kazakhstan' 'Moldova'\n",
      " 'Belarus' 'Georgia' 'Kyrgyzstan' 'Montenegro' 'Paraguay' 'Tanzania'\n",
      " 'Finland' 'Maldives' 'Laos' 'Bhutan' 'Guatemala' 'Ghana'\n",
      " 'Trinidad & Tobago' 'Cambodia' 'St. Lucia' 'Libya' 'Barbados' 'Mongolia'\n",
      " 'Cyprus' 'Faroe Islands' 'Côte d’Ivoire' 'Somalia'\n",
      " 'Turks & Caicos Islands' 'Panama' 'Syria' 'Sudan' 'Ethiopia' 'Mauritius'\n",
      " 'Madagascar' 'Honduras' 'Togo' 'Macau' 'Gibraltar' 'Cameroon' 'Nicaragua'\n",
      " 'Nepal' 'Malta' 'Rwanda' 'French Guiana' 'Chad' 'Réunion' 'Djibouti'\n",
      " 'Mayotte' 'Uzbekistan' 'Guam' 'Cayman Islands' 'Iran' 'Afghanistan'\n",
      " 'Bermuda' 'Zimbabwe' 'Grenada' 'Turkmenistan' 'Belize' 'Myanmar (Burma)'\n",
      " 'Cape Verde' 'Martinique' 'Congo - Kinshasa' 'Greenland' 'Tajikistan'\n",
      " 'Fiji' 'American Samoa' 'Zambia' 'Guinea-Bissau' 'Liechtenstein'\n",
      " 'Guernsey' 'Lesotho' 'Burkina Faso' 'St. Kitts & Nevis' 'Jersey'\n",
      " 'New Caledonia' 'French Polynesia' 'U.S. Virgin Islands' 'Mali'\n",
      " 'Timor-Leste' 'Guyana' 'Caribbean Netherlands' 'Vanuatu' 'Botswana'\n",
      " 'Liberia' 'Benin' 'Sint Maarten' 'Namibia' 'Gambia' 'Suriname' 'Aruba'\n",
      " 'Seychelles' 'Dominica' 'Norfolk Island' 'Curaçao' 'Antigua & Barbuda'\n",
      " 'Malawi' 'Guadeloupe' 'Niger' 'St. Martin' 'Northern Mariana Islands'\n",
      " 'Isle of Man' 'Cook Islands' 'St. Barthélemy' 'Papua New Guinea'\n",
      " 'Andorra' 'Sierra Leone' 'St. Vincent & Grenadines' 'Monaco'\n",
      " 'British Virgin Islands' 'Marshall Islands' 'Comoros'\n",
      " 'St. Pierre & Miquelon' 'San Marino' 'Eritrea' 'Congo - Brazzaville'\n",
      " 'Equatorial Guinea' 'Anguilla' 'Åland Islands' 'São Tomé & Príncipe'\n",
      " 'Samoa' 'Peru' 'India' 'Italy' 'Japan' 'Spain' 'Brazil' 'Canada' 'France'\n",
      " 'Israel' 'Mexico' 'Poland' 'Russia' 'Sweden' 'Taiwan' 'Turkey' 'Germany'\n",
      " 'Ireland' 'Romania' 'Ukraine' 'Vietnam' 'Colombia' 'Malaysia' 'Thailand'\n",
      " 'Argentina' 'Australia' 'Hong Kong' 'Indonesia' 'Singapore' 'Netherlands'\n",
      " 'Philippines' 'South Korea' 'United States' 'United Kingdom']\n",
      "region ['not available in demo dataset' '(not set)' 'Dubai'\n",
      " 'South Moravian Region' 'Dhaka Division' 'Sofia City Province'\n",
      " 'Makkah Province' 'Algiers Province' 'Almaty Province' 'Sindh'\n",
      " 'Riyadh Province' 'Attica' 'Olomouc Region' 'Zurich' 'North Holland'\n",
      " 'California' 'Vienna' 'Beijing' 'Western Province' 'Punjab' 'Shanghai'\n",
      " 'Brussels' 'Oran Province' 'Abu Dhabi' 'Tbilisi' 'Flanders'\n",
      " 'Brest Region' 'Zhejiang' 'Minsk Region' 'Budapest' 'Prague' 'Auckland'\n",
      " 'Riga' 'Community of Madrid' 'Lagos' 'Lisbon' 'Vaud' 'Saint Petersburg'\n",
      " 'Salzburg' 'Zulia' 'Masovian Voivodeship' 'New York'\n",
      " 'Santiago Metropolitan Region' 'North Denmark Region' 'County Dublin'\n",
      " 'City of Zagreb' 'Grand Casablanca' 'Bratislava Region' 'Oslo'\n",
      " 'Capital Region of Denmark' 'Pichincha' 'Virginia' 'Sharjah'\n",
      " 'Cairo Governorate' 'Alexandria Governorate' 'Region Syddanmark'\n",
      " 'Telangana' 'Western Cape' 'Central Macedonia' 'Ile-de-France'\n",
      " 'Phnom Penh' 'Amman Governorate' 'New South Wales' 'Taipei City'\n",
      " 'Illinois' 'Panama' 'Capital District' 'KwaZulu-Natal' 'Aust-Agder'\n",
      " 'Usti nad Labem Region' 'Moravian-Silesian Region'\n",
      " 'Hradec Kralove Region' 'Lower Austria' 'Islamabad Capital Territory'\n",
      " 'Bavaria' 'Gauteng' 'England' 'Georgia' 'Doha' 'Nairobi County'\n",
      " 'Beirut Governorate' 'Lombardy' 'Istanbul' 'Berlin' 'Ljubljana'\n",
      " 'Guatemala Department' 'Geneva' 'Wellington' 'Guangdong' 'Seoul'\n",
      " 'Harju County' 'San Salvador Department' 'Vilnius County' 'Washington'\n",
      " 'Faro District' 'Al Madinah Province' 'Vastra Gotaland County' 'Jakarta'\n",
      " 'Osijek-Baranja County' 'Lazio' 'Bogota' 'Ontario' 'Leiria District'\n",
      " 'Region Zealand' 'Central Denmark Region' 'District of Columbia'\n",
      " 'Valparaiso Region' 'Osaka Prefecture' 'Catalonia' 'Texas' 'Metro Manila'\n",
      " 'Kosice Region' 'Lima Region' 'Arequipa' 'Cusco' 'La Libertad' 'Piura'\n",
      " 'Maharashtra' 'Karnataka' 'Delhi' 'Rajasthan' 'West Bengal' 'Gujarat'\n",
      " 'Tamil Nadu' 'Uttar Pradesh' 'Haryana' 'Madhya Pradesh' 'Kerala' 'Odisha'\n",
      " 'Bihar' 'Chandigarh' 'Bangkok' 'Assam' 'New Jersey' 'Emilia-Romagna'\n",
      " 'Campania' 'Tuscany' 'Piedmont' 'Veneto' 'Sardinia' 'Abruzzo'\n",
      " 'Aichi Prefecture' 'Tokyo' 'Kanagawa Prefecture' 'Nagano Prefecture'\n",
      " 'Fukui Prefecture' 'Miyazaki Prefecture' 'Hokkaido' 'Kumamoto Prefecture'\n",
      " 'Okinawa Prefecture' 'Andalusia' 'Massachusetts' 'Basque Country'\n",
      " 'Asturias' 'Aragon' 'Valencian Community' 'Dublin City'\n",
      " 'Castile-La Mancha' 'State of Sao Paulo' 'State of Minas Gerais'\n",
      " 'State of Rio de Janeiro' 'State of Goias' 'Federal District'\n",
      " 'State of Rio Grande do Sul' 'State of Parana' 'State of Ceara'\n",
      " 'Buenos Aires' 'State of Bahia' 'State of Pernambuco'\n",
      " 'State of Santa Catarina' 'State of Mato Grosso' 'State of Amazonas'\n",
      " 'State of Espirito Santo' 'Quebec' 'British Columbia' 'Alberta'\n",
      " 'Tel Aviv District' 'Newfoundland and Labrador' 'Prince Edward Island'\n",
      " 'Manitoba' 'Auvergne-Rhone-Alpes' 'Hauts-de-France' 'Brittany'\n",
      " \"Provence-Alpes-Cote d'Azur\" 'Nouvelle-Aquitaine' 'Rhone-Alpes'\n",
      " 'Aquitaine' 'Pays de la Loire' 'Hanoi' 'Nord-Pas-de-Calais' 'Michigan'\n",
      " 'Grand Est' 'Center District' 'Mexico City' 'Nuevo Leon' 'Florida'\n",
      " 'Sonora' 'State of Mexico' 'Guanajuato' 'Jalisco' 'Quintana Roo'\n",
      " 'Baja California' 'Puebla' 'Sinaloa' 'Queretaro'\n",
      " 'Lesser Poland Voivodeship' 'West Pomeranian Voivodeship'\n",
      " 'Lower Silesian Voivodeship' 'Silesian Voivodeship'\n",
      " 'Greater Poland Voivodeship' 'Podkarpackie Voivodeship' 'Hesse' 'Moscow'\n",
      " 'Primorsky Krai' 'Colorado' 'Vladimir Oblast' 'Stockholm County'\n",
      " 'New Taipei City' 'Taoyuan County' 'Taichung City' 'Kaohsiung City'\n",
      " 'Tainan City' 'Chiayi County' 'Miaoli County'\n",
      " 'Federal Territory of Kuala Lumpur' 'Hsinchu County' 'Pingtung County'\n",
      " 'Changhua County' 'Ankara' 'Izmir' 'Bursa' 'Adana' 'Antalya' 'Samsun'\n",
      " 'Kayseri Province' 'Gaziantep' 'Aydin Province' 'Konya' 'Erzurum'\n",
      " 'Mersin Province' 'Trabzon' 'Kyiv city' 'Eskisehir Province' 'Hamburg'\n",
      " 'Baden-Wurttemberg' 'North Rhine-Westphalia' 'Bremen' 'County Cork'\n",
      " 'County Louth' 'County Wicklow' 'Pennsylvania' 'Bucharest' 'Cluj County'\n",
      " 'Iasi County' 'Alba County' 'Sibiu' 'Hunedoara County' 'Mures County'\n",
      " 'Timis County' 'Bihor County' 'Kharkiv Oblast' 'Odessa Oblast'\n",
      " 'Dnipropetrovsk Oblast' 'Lviv Oblast' 'Ho Chi Minh' 'Haiphong' 'Dong Nai'\n",
      " 'Da Nang' 'Bac Ninh Province' 'Vinh Phuc Province' 'Thai Nguyen'\n",
      " 'Tien Giang' 'Khanh Hoa Province' 'Ba Ria - Vung Tau' 'Nghe An'\n",
      " 'Quang Ngai' 'Thai Binh' 'Tay Ninh Province' 'Hung Yen Province'\n",
      " 'Hai Duong' 'Ho Chi Minh City' 'Can Tho' 'Bac Giang' 'Thua Thien Hue'\n",
      " 'Djong Thap Province' 'Lam Djong' 'Djak Lak Province' 'Kien Giang'\n",
      " 'Nam Dinh' 'Thanh Hoa' 'Binh Dinh Province' 'Quang Nam Province'\n",
      " 'Ha Tinh Province' 'Phu Tho Province' 'Gia Lai Province' 'Binh Phuoc'\n",
      " 'Binh Thuan Province' 'Antioquia' 'Magdalena' 'Atlantico'\n",
      " 'Valle del Cauca' 'Selangor' 'Perak' 'Johor' 'Udon Thani' 'Chon Buri'\n",
      " 'Khon Kaen' 'Chiang Mai' 'Chiang Rai' 'Nakhon Pathom' 'Songkhla'\n",
      " 'Nakhon Ratchasima' 'Nakhon Sawan' 'Surat Thani' 'Saraburi' 'Rayong'\n",
      " 'Phra Nakhon Si Ayutthaya' 'Pathum Thani' 'Phuket' 'Lopburi'\n",
      " 'Nakhon Si Thammarat' 'Sakon Nakhon' 'Ubon Ratchathani' 'Phitsanulok'\n",
      " 'Lampang' 'Prachuap Khiri Khan' 'Maha Sarakham' 'Santa Fe Province'\n",
      " 'Buenos Aires Province' 'Cordoba' 'Victoria' 'Queensland'\n",
      " 'Western Australia' 'South Australia' 'West Java' 'East Java'\n",
      " 'North Sumatra' 'Special Region of Yogyakarta' 'Central Java'\n",
      " 'South Sulawesi' 'South Holland' 'Overijssel' 'Utrecht' 'North Brabant'\n",
      " 'Groningen' 'Gelderland' 'Central Visayas' 'Davao Region' 'Daegu'\n",
      " 'Gyeonggi-do' 'Oregon' 'Minnesota' 'Ohio' 'Utah' 'Wisconsin' 'Iowa'\n",
      " 'Nevada' 'Arizona' 'Louisiana' 'Tennessee' 'North Carolina' 'Nebraska'\n",
      " 'Missouri' 'Kansas' 'Kentucky' 'Hawaii' 'Idaho' 'South Carolina'\n",
      " 'Indiana' 'Maryland' 'Connecticut' 'Oklahoma' 'West Virginia' 'Montana'\n",
      " 'Scotland' 'Wales']\n",
      "metro ['not available in demo dataset' '(not set)'\n",
      " 'San Francisco-Oakland-San Jose CA' 'New York NY' 'Los Angeles CA'\n",
      " 'Washington DC (Hagerstown MD)' 'San Diego CA' 'Chicago IL' 'London'\n",
      " 'Roanoke-Lynchburg VA' 'Atlanta GA' 'Seattle-Tacoma WA' 'Austin TX'\n",
      " 'Dallas-Ft. Worth TX' 'Houston TX' 'JP_KANTO' 'JP_KINKI' 'JP_OTHER'\n",
      " 'Boston MA-Manchester NH' 'Detroit MI' 'Miami-Ft. Lauderdale FL'\n",
      " 'Denver CO' 'Pittsburgh PA' 'Portland OR' 'Lansing MI' 'Philadelphia PA'\n",
      " 'Augusta GA' 'Minneapolis-St. Paul MN' 'Cincinnati OH'\n",
      " 'Fresno-Visalia CA' 'Salt Lake City UT'\n",
      " 'Orlando-Daytona Beach-Melbourne FL' 'Columbus OH'\n",
      " 'La Crosse-Eau Claire WI' 'Omaha NE' 'Green Bay-Appleton WI' 'Phoenix AZ'\n",
      " 'New Orleans LA' 'San Antonio TX' 'Nashville TN' 'Chico-Redding CA'\n",
      " 'Jacksonville FL' 'Tucson (Sierra Vista) AZ' 'El Paso TX'\n",
      " 'Norfolk-Portsmouth-Newport News VA' 'Charlotte NC' 'St. Louis MO'\n",
      " 'Kansas City MO' 'Harlingen-Weslaco-Brownsville-McAllen TX'\n",
      " 'Sacramento-Stockton-Modesto CA' 'Las Vegas NV' 'Louisville KY'\n",
      " 'Mankato MN' 'Honolulu HI' 'Charlottesville VA'\n",
      " 'Raleigh-Durham (Fayetteville) NC' 'Cleveland-Akron (Canton) OH'\n",
      " 'Milwaukee WI' 'Idaho Falls-Pocatello ID'\n",
      " 'Grand Rapids-Kalamazoo-Battle Creek MI'\n",
      " 'Tampa-St. Petersburg (Sarasota) FL' 'Springfield MO' 'Charleston SC'\n",
      " 'Indianapolis IN' 'Baltimore MD' 'Tri-Cities TN-VA' 'Tulsa OK'\n",
      " 'Memphis TN' 'Hartford & New Haven CT'\n",
      " 'Greenville-Spartanburg-Asheville-Anderson' 'Chattanooga TN'\n",
      " 'Tallahassee FL-Thomasville GA' 'Wheeling WV-Steubenville OH'\n",
      " 'Abilene-Sweetwater TX' 'Utica NY' 'Lexington KY'\n",
      " 'Rochester-Mason City-Austin,IA' 'Butte-Bozeman MT' 'Boise ID'\n",
      " 'Albany-Schenectady-Troy NY' 'Syracuse NY' 'Colorado Springs-Pueblo CO'\n",
      " 'Springfield-Holyoke MA' 'Providence-New Bedford,MA' 'Panama City FL'\n",
      " 'Madison WI' 'Midlands' 'North West' 'Central Scotland' 'Yorkshire'\n",
      " 'Meridian (exc. Channel Islands)' 'HTV West' 'North Scotland' 'HTV Wales']\n",
      "city ['not available in demo dataset' '(not set)' 'Tunis' 'Dubai' 'Brno'\n",
      " 'Sofia' 'Jeddah' 'Almaty' 'Karachi' 'Riyadh' 'Athens' 'Belgrade'\n",
      " 'Olomouc' 'Zurich' 'Amsterdam' 'Mountain View' 'Vienna' 'Beijing'\n",
      " 'Colombo' 'Montevideo' 'Lahore' 'Tirana' 'Helsinki' 'Shanghai' 'Brussels'\n",
      " 'Abu Dhabi' 'Tbilisi' 'Ghent' 'Brest' 'Ningbo' 'Minsk' 'Budapest'\n",
      " 'Prague' 'Auckland' 'Riga' 'Madrid' 'Amã' 'Skopje' 'Lagos' 'Lisbon'\n",
      " 'San Jose' 'Kortrijk' 'Lausanne' 'San Francisco' 'Saint Petersburg'\n",
      " 'San Bruno' 'Hallein' 'Maracaibo' 'Warsaw' 'New York' 'Nairobi'\n",
      " 'Santiago' 'Aalborg' 'Dublin' 'Zagreb' 'Santa Clara' 'Casablanca'\n",
      " 'Bratislava' 'Oslo' 'Copenhagen' 'Quito' 'Los Angeles' 'Ashburn'\n",
      " 'Sharjah' 'San Diego' 'Bruges' 'Cairo' 'Alexandria' 'Odense'\n",
      " 'Guatemala City' 'Hyderabad' 'Cape Town' 'Thessaloniki' 'Paris'\n",
      " 'Phnom Penh' 'Sydney' 'Chicago' 'Kuwait City' 'La Chorrera' 'Caracas'\n",
      " 'Westville' 'Birkenes' 'Salzburg' 'Decin' 'Ostrava' 'Hradec Kralove'\n",
      " 'Baku' 'Saint Polten' 'Zaventem' 'Islamabad' 'Munich' 'Sandton' 'London'\n",
      " 'Doha' 'Salem' 'Atlanta' 'Beirut' 'Hong Kong' 'Tampere' 'Milan' 'Esbjerg'\n",
      " 'Istanbul' 'Berlin' 'Ljubljana' 'Geneva' 'Asuncion' 'Wellington'\n",
      " 'Guangzhou' 'Cabimas' 'Seoul' 'Tallinn' 'San Salvador' 'Vilnius'\n",
      " 'Kirkland' 'Hangzhou' 'Faro' 'Mechelen' 'Leuven' 'Medina' 'Gothenburg'\n",
      " 'Jakarta' 'Sunnyvale' 'Osijek' 'Rome' 'Dhaka' 'Bogota' 'Toronto'\n",
      " 'Chisinau' 'Ulaanbaatar' 'Vejle' 'Leiria' 'Greve Strand' 'Nea Erythraia'\n",
      " 'Roskilde' 'Viby' 'Frederiksberg' 'Washington' 'Valparaiso' 'Osaka'\n",
      " 'Randburg' 'Barcelona' 'Palo Alto' 'Austin' 'Dallas' 'Antwerp'\n",
      " 'Faisalabad' 'Luxembourg City' 'Manila' 'Kosice' 'La Victoria' 'Arequipa'\n",
      " 'Santiago de Surco' 'Piura' 'Mumbai' 'Bengaluru' 'Pune' 'New Delhi'\n",
      " 'Jaipur' 'Kolkata' 'Ahmedabad' 'Chennai' 'Lucknow' 'Gurgaon' 'Indore'\n",
      " 'Kochi' 'Bhubaneswar' 'Patna' 'Chandigarh' 'Erode' 'Quezon City'\n",
      " 'Navi Mumbai' 'Noida' 'Bangkok' 'Nanded' 'Coimbatore' 'Kharagpur'\n",
      " 'Milpitas' 'Surat' 'Vadodara' 'Guwahati' 'Jersey City' 'Thane' 'Ludhiana'\n",
      " 'Belagavi' 'Bologna' 'Naples' 'Prato' 'Alba' 'Parma' 'Padua' 'Turin'\n",
      " 'Cagliari' 'Houston' 'Pescara' 'Nagoya' 'Shinjuku' 'Minato' 'Yokohama'\n",
      " 'San Mateo' 'Shibuya' 'Chuo' 'Nagano' 'Sakai' 'Miyazaki' 'Chiyoda'\n",
      " 'Sapporo' 'Kumamoto' 'Naha' 'Cupertino' 'Fukui' 'Pozuelo de Alarcon'\n",
      " 'Malaga' 'Cambridge' 'Villafranca del Castillo' 'Seville' 'Bilbao'\n",
      " 'Gijon' 'Zaragoza' 'Sant Cugat del Valles' 'Valencia' 'Alicante' 'Elche'\n",
      " 'Almeria' 'Toledo' 'Sabadell' 'Granada' 'Ciudad Real' 'Guadalajara'\n",
      " 'Zamudio' 'Sao Paulo' 'Belo Horizonte' 'Rio de Janeiro' 'Goiania'\n",
      " 'Brasilia' 'Porto Alegre' 'Campinas' 'Curitiba' 'Fortaleza'\n",
      " 'Ribeirao Preto' 'Buenos Aires' 'Salvador' 'Recife' 'Florianopolis'\n",
      " 'Seattle' 'Cuiaba' 'Manaus' 'Vila Velha' 'Atibaia' 'Quebec City'\n",
      " 'Montreal' 'Vancouver' 'Barrie' 'Kitchener' 'Stanford' 'Mississauga'\n",
      " 'Waterloo' 'Calgary' 'Ottawa' 'Gatineau' 'Sherbrooke' 'Burnaby'\n",
      " 'Tel Aviv-Yafo' 'Edmonton' 'Singapore' 'Deep River' 'Brampton'\n",
      " \"St. John's\" 'New Westminster' 'Redwood City' 'Charlottetown' 'Winnipeg'\n",
      " 'Lyon' 'Lille' 'Quimper' \"Villeneuve-d'Ascq\" 'Marseille' 'Bordeaux'\n",
      " 'Courbevoie' 'Annecy-le-Vieux' 'Chevilly Larue' 'Nantes' 'Hanoi'\n",
      " 'Issy-les-Moulineaux' 'Seclin' 'Montigny-le-Bretonneux' 'Vincennes'\n",
      " 'Clermont-Ferrand' 'Ann Arbor' 'Pontivy' 'Montreuil' 'Chambery' 'Vannes'\n",
      " 'Nice' 'Metz' \"Saint-Ouen-l'Aumone\" 'Reims' 'Pessac' 'Talence'\n",
      " 'Kiryat Ono' 'Rishon LeTsiyon' 'Netanya' 'Ramat Gan' 'Herzliya'\n",
      " 'Mexico City' 'Monterrey' 'Miami' 'Hermosillo' 'Leon' 'Zapopan' 'Cancun'\n",
      " 'Tijuana' 'Culiacan' 'Santiago de Queretaro' 'Krakow' 'Szczecin'\n",
      " 'Koszalin' 'Wroclaw' 'Katowice' 'Poznan' 'Rzeszow' 'Frankfurt' 'Moscow'\n",
      " 'Vladivostok' 'Petergof' 'Denver' 'Vladimir' 'Kovrov' 'Stockholm'\n",
      " 'Taoyuan District' 'Zhongli District' 'Minxiong Township'\n",
      " 'Zaoqiao Township' 'Kuala Lumpur' 'Hukou Township' 'Neipu Township'\n",
      " 'Toufen City' 'Dacun Township' 'Zhudong Township' 'Longtan District'\n",
      " 'Ankara' 'Izmir' 'Bursa' 'Adana' 'Antalya' 'Samsun' 'Kayseri' 'Gaziantep'\n",
      " 'Aydin' 'Konya' 'Erzurum' 'Mersin' 'Trabzon' 'Kiev' 'Eskisehir' 'Hamburg'\n",
      " 'Weingarten' 'Cologne' 'Dusseldorf' 'Amberg' 'Stuttgart' 'Bremen'\n",
      " 'Spaichingen' 'Nuremberg' 'Furth' 'Aalen' 'Cork' 'Dundalk' 'Greystones'\n",
      " 'Pittsburgh' 'Bucharest' 'Cluj-Napoca' 'Iasi' 'Alba Iulia' 'Sibiu' 'Deva'\n",
      " 'Targu Mures' 'Timisoara' 'Oradea' 'Kharkiv' 'Odessa' 'Kyiv' 'Dnipro'\n",
      " 'Lviv' 'Ho Chi Minh City' 'Hai Phong' 'Bien Hoa' 'Da Nang' 'Thai Nguyen'\n",
      " 'My Tho' 'Nha Trang' 'Vung Tau' 'Vinh' 'Quang Ngai' 'Thai Binh'\n",
      " 'Hai Duong' 'Can Tho' 'Hue' 'Cao Lanh' 'Dalat' 'Buon Ma Thuot' 'Rach Gia'\n",
      " 'Nam Djinh' 'Thanh Hoa' 'Qui Nhon' 'Hoi An' 'Ha Tinh' 'Pleiku'\n",
      " 'Phan Thiet' 'Medellin' 'Barranquilla' 'Cali' 'Subang Jaya'\n",
      " 'Petaling Jaya' 'Kampar' 'Johor Bahru' 'Cyberjaya' 'Shah Alam' 'Ipoh'\n",
      " 'Nakhon Pathom' 'Mueang Khon Kaen District' 'Mueang Chiang Mai District'\n",
      " 'Mueang Songkhla District' 'Mueang Nakhon Ratchasima District' 'Hua Hin'\n",
      " 'Mueang Phitsanulok District' 'Santa Fe' 'Rosario' 'Mar del Plata'\n",
      " 'Cordoba' 'Pinamar' 'Melbourne' 'Brisbane' 'Perth' 'Adelaide'\n",
      " 'Wollongong' 'Boston' 'South San Francisco' 'Fremont' 'Bandung'\n",
      " 'Surabaya' 'Bekasi' 'Medan' 'Depok' 'Semarang' 'Makassar' 'Rotterdam'\n",
      " 'Zwolle' 'Amersfoort' 'Utrecht' 'Piscataway Township' 'Leusden'\n",
      " 'Oude Meer' 'Breda' 'The Hague' 'Groningen' 'Arnhem' 'Oegstgeest'\n",
      " \"'s Hertogenbosch\" 'Eindhoven' 'Schagen' 'Makati' 'Cebu City'\n",
      " 'Davao City' 'Taguig' 'Pasig' 'Muntinlupa' 'Daegu' 'Seongnam-si'\n",
      " 'Boardman' 'Okemos' 'Philadelphia' 'Evans' 'Oakland' 'Ridgewood'\n",
      " 'Minneapolis' 'Cincinnati' 'Irvine' 'Fresno' 'Lehi' 'Orlando' 'Columbus'\n",
      " 'Eau Claire' 'Council Bluffs' 'Oshkosh' 'Douglasville' 'Santa Monica'\n",
      " 'Phoenix' 'New Orleans' 'Portland' 'Redmond' 'San Antonio' 'Nashville'\n",
      " 'Bellflower' 'Chico' 'Tempe' 'Jacksonville' 'Fort Worth' 'Boulder'\n",
      " 'Tucson' 'El Paso' 'Norfolk' 'Charlotte' 'Omaha' 'Salt Lake City'\n",
      " 'Carrollton' 'St. Louis' 'Tigard' 'Newark' 'Kansas City' 'Normandy'\n",
      " 'Wellesley' 'Evanston' 'Richardson' 'McAllen' 'Santa Ana' 'Detroit'\n",
      " 'Overland Park' 'Menlo Park' 'Sacramento' 'Woodbridge Township'\n",
      " 'Berkeley' 'Smyrna' 'Las Vegas' 'Sandy' 'Thornton' 'Louisville' 'Mankato'\n",
      " 'Honolulu' 'Lenoir' 'Danville' 'Charlottesville' 'Raleigh' 'Saratoga'\n",
      " 'Los Gatos' 'Campbell' 'Rockwood' 'Akron' 'Whitewater' 'Appleton' 'Plano'\n",
      " 'Oviedo' 'San Marcos' 'Rexburg' 'Lake Oswego' 'Walnut Creek' 'Bellingham'\n",
      " 'Kalamazoo' 'Orem' 'Manchester' 'Tampa' 'Milwaukee' 'Springfield'\n",
      " 'Goose Creek' 'Indianapolis' 'Forest Park' 'Columbia' 'Druid Hills'\n",
      " 'Johnson City' 'Bellevue' 'Coffeyville' 'Culpeper' 'Pleasanton' 'Memphis'\n",
      " 'Hamden' 'Bothell' 'Greer' 'Collegeville' 'South El Monte'\n",
      " 'University Park' 'Lewisville' 'North Richland Hills' 'Brookline'\n",
      " 'East Lansing' 'Riverside' 'LaFayette' 'Birmingham' 'Westlake Village'\n",
      " 'Lawrence Township' 'Chino' 'Parsippany-Troy Hills' 'Fort Collins'\n",
      " 'Tallahassee' 'Pryor' 'Daly City' 'Camden' 'Laguna Beach' 'Wheeling'\n",
      " 'Ballinger' 'Burlington' 'Oneonta' 'Sandy Springs' 'White Plains'\n",
      " 'Oxford' 'San Carlos' 'Lexington' 'Allendale Charter Township' 'Byron'\n",
      " 'Bozeman' 'Wheaton' 'Farmington Hills' 'Miami Beach' 'Redondo Beach'\n",
      " 'The Dalles' 'Boise' 'Hayward' 'Edison' 'College Park' 'Atwater'\n",
      " 'Union City' 'Dahlonega' 'Anaheim' 'Avon' 'Saint Paul' 'Chamblee'\n",
      " 'Marlboro' 'Newtonville' 'Syracuse' 'Pueblo' 'Villanova' 'Towson'\n",
      " 'Amherst' 'North Attleborough' 'Panama City' 'Madison' 'Paradise'\n",
      " 'Baltimore' 'Shiocton' 'Glasgow' 'Leeds' 'Fareham' 'Salford' 'Canterbury'\n",
      " 'Bournemouth' 'Egham' 'Liverpool' 'Watford' 'Bristol' 'Telford'\n",
      " 'Nottingham' 'Bath' 'Aberdeen' 'Wrexham' 'Coventry' 'Molesey'\n",
      " 'Altrincham' 'Cardiff' 'Lincoln' 'Barnsley' 'Sheffield']\n",
      "cityId ['not available in demo dataset']\n",
      "latitude ['not available in demo dataset']\n",
      "longitude ['not available in demo dataset']\n",
      "networkLocation ['not available in demo dataset']\n"
     ]
    }
   ],
   "source": [
    "geoNetwork_df.drop(\"networkDomain\", axis=1, inplace=True)\n",
    "cols = geoNetwork_df.columns\n",
    "for col in cols:\n",
    "    print(col, geoNetwork_df[col].unique())"
   ]
  },
  {
   "cell_type": "code",
   "execution_count": 38,
   "id": "54ba27b7-2290-4651-af95-165194e2942d",
   "metadata": {
    "tags": []
   },
   "outputs": [
    {
     "data": {
      "application/vnd.jupyter.widget-view+json": {
       "model_id": "7ceafcc4747246b28aa7429aaa6cf01f",
       "version_major": 2,
       "version_minor": 0
      },
      "text/plain": [
       "Query is running:   0%|          |"
      ]
     },
     "metadata": {},
     "output_type": "display_data"
    },
    {
     "data": {
      "application/vnd.jupyter.widget-view+json": {
       "model_id": "cb5f3de6e979468b81259e861b5e9f1a",
       "version_major": 2,
       "version_minor": 0
      },
      "text/plain": [
       "Downloading:   0%|          |"
      ]
     },
     "metadata": {},
     "output_type": "display_data"
    }
   ],
   "source": [
    "%%bigquery trafficSource_df --project $PROJECT_ID\n",
    "\n",
    "SELECT trafficSource.* FROM  `bigquery-public-data.google_analytics_sample.ga_sessions_*`"
   ]
  },
  {
   "cell_type": "code",
   "execution_count": 39,
   "id": "b3c5ca4e-975f-496e-b5af-1e02f2ea59ea",
   "metadata": {
    "tags": []
   },
   "outputs": [
    {
     "name": "stdout",
     "output_type": "stream",
     "text": [
      "<class 'pandas.core.frame.DataFrame'>\n",
      "RangeIndex: 903653 entries, 0 to 903652\n",
      "Data columns (total 9 columns):\n",
      " #   Column            Non-Null Count   Dtype  \n",
      "---  ------            --------------   -----  \n",
      " 0   referralPath      330941 non-null  object \n",
      " 1   campaign          903653 non-null  object \n",
      " 2   source            903653 non-null  object \n",
      " 3   medium            903653 non-null  object \n",
      " 4   keyword           241905 non-null  object \n",
      " 5   adContent         10946 non-null   object \n",
      " 6   adwordsClickInfo  903653 non-null  object \n",
      " 7   isTrueDirect      274005 non-null  boolean\n",
      " 8   campaignCode      1 non-null       object \n",
      "dtypes: boolean(1), object(8)\n",
      "memory usage: 56.9+ MB\n",
      "None\n"
     ]
    }
   ],
   "source": [
    "print(trafficSource_df.info())"
   ]
  },
  {
   "cell_type": "code",
   "execution_count": 28,
   "id": "7c56d946-e030-46b1-8ad6-f160f0df6876",
   "metadata": {
    "tags": []
   },
   "outputs": [
    {
     "data": {
      "application/vnd.jupyter.widget-view+json": {
       "model_id": "13472b9202ed405d90bcc39cbc31ed87",
       "version_major": 2,
       "version_minor": 0
      },
      "text/plain": [
       "Query is running:   0%|          |"
      ]
     },
     "metadata": {},
     "output_type": "display_data"
    },
    {
     "data": {
      "application/vnd.jupyter.widget-view+json": {
       "model_id": "1055790eddeb41208c795f4ed1f07a00",
       "version_major": 2,
       "version_minor": 0
      },
      "text/plain": [
       "Downloading:   0%|          |"
      ]
     },
     "metadata": {},
     "output_type": "display_data"
    }
   ],
   "source": [
    "%%bigquery customDim_df --project $PROJECT_ID\n",
    "\n",
    "SELECT cd.* FROM  `bigquery-public-data.google_analytics_sample.ga_sessions_*`, UNNEST (customDimensions) AS cd"
   ]
  },
  {
   "cell_type": "code",
   "execution_count": 29,
   "id": "38381462-35fa-48af-81ad-fc01726653a8",
   "metadata": {
    "tags": []
   },
   "outputs": [
    {
     "name": "stdout",
     "output_type": "stream",
     "text": [
      "<class 'pandas.core.frame.DataFrame'>\n",
      "RangeIndex: 711673 entries, 0 to 711672\n",
      "Data columns (total 2 columns):\n",
      " #   Column  Non-Null Count   Dtype \n",
      "---  ------  --------------   ----- \n",
      " 0   index   711673 non-null  Int64 \n",
      " 1   value   711673 non-null  object\n",
      "dtypes: Int64(1), object(1)\n",
      "memory usage: 11.5+ MB\n",
      "None\n"
     ]
    }
   ],
   "source": [
    "print(customDim_df.info())"
   ]
  },
  {
   "cell_type": "code",
   "execution_count": 30,
   "id": "3cd00180-42e3-4890-9908-696c6da3396c",
   "metadata": {
    "tags": []
   },
   "outputs": [
    {
     "data": {
      "text/plain": [
       "index    1\n",
       "value    5\n",
       "dtype: int64"
      ]
     },
     "execution_count": 30,
     "metadata": {},
     "output_type": "execute_result"
    }
   ],
   "source": [
    "customDim_df.nunique()"
   ]
  },
  {
   "cell_type": "code",
   "execution_count": 31,
   "id": "218b8679-3b84-4a87-a1e8-9ef5d9761b74",
   "metadata": {
    "tags": []
   },
   "outputs": [
    {
     "name": "stdout",
     "output_type": "stream",
     "text": [
      "index <IntegerArray>\n",
      "[4]\n",
      "Length: 1, dtype: Int64\n",
      "value ['North America' 'South America' 'EMEA' 'APAC' 'Central America']\n"
     ]
    }
   ],
   "source": [
    "for col in customDim_df.columns:\n",
    "    print(col, customDim_df[col].unique())"
   ]
  },
  {
   "cell_type": "code",
   "execution_count": 32,
   "id": "f3d1352e-baaf-4f25-b1df-5e63fef93c4b",
   "metadata": {
    "tags": []
   },
   "outputs": [
    {
     "data": {
      "application/vnd.jupyter.widget-view+json": {
       "model_id": "669031ce8bc64bbe8256c8c390fd1f58",
       "version_major": 2,
       "version_minor": 0
      },
      "text/plain": [
       "Query is running:   0%|          |"
      ]
     },
     "metadata": {},
     "output_type": "display_data"
    },
    {
     "data": {
      "application/vnd.jupyter.widget-view+json": {
       "model_id": "1572819fd965472da47ca179aa95469a",
       "version_major": 2,
       "version_minor": 0
      },
      "text/plain": [
       "Downloading:   0%|          |"
      ]
     },
     "metadata": {},
     "output_type": "display_data"
    }
   ],
   "source": [
    "%%bigquery hits_df --project $PROJECT_ID\n",
    "\n",
    "SELECT h.* FROM `bigquery-public-data.google_analytics_sample.ga_sessions_20160801`, UNNEST(hits) AS h"
   ]
  },
  {
   "cell_type": "code",
   "execution_count": 33,
   "id": "bc8c33f0-050b-485e-acd7-608d7a24c89a",
   "metadata": {
    "tags": []
   },
   "outputs": [
    {
     "name": "stdout",
     "output_type": "stream",
     "text": [
      "<class 'pandas.core.frame.DataFrame'>\n",
      "RangeIndex: 13006 entries, 0 to 13005\n",
      "Data columns (total 33 columns):\n",
      " #   Column               Non-Null Count  Dtype  \n",
      "---  ------               --------------  -----  \n",
      " 0   hitNumber            13006 non-null  Int64  \n",
      " 1   time                 13006 non-null  Int64  \n",
      " 2   hour                 13006 non-null  Int64  \n",
      " 3   minute               13006 non-null  Int64  \n",
      " 4   isSecure             0 non-null      boolean\n",
      " 5   isInteraction        13006 non-null  boolean\n",
      " 6   isEntrance           1711 non-null   boolean\n",
      " 7   isExit               1711 non-null   boolean\n",
      " 8   referer              1686 non-null   object \n",
      " 9   page                 13006 non-null  object \n",
      " 10  transaction          5786 non-null   object \n",
      " 11  item                 5786 non-null   object \n",
      " 12  contentInfo          0 non-null      object \n",
      " 13  appInfo              13006 non-null  object \n",
      " 14  exceptionInfo        13006 non-null  object \n",
      " 15  eventInfo            2988 non-null   object \n",
      " 16  product              13006 non-null  object \n",
      " 17  promotion            13006 non-null  object \n",
      " 18  promotionActionInfo  354 non-null    object \n",
      " 19  refund               0 non-null      object \n",
      " 20  eCommerceAction      13006 non-null  object \n",
      " 21  experiment           13006 non-null  object \n",
      " 22  publisher            0 non-null      object \n",
      " 23  customVariables      13006 non-null  object \n",
      " 24  customDimensions     13006 non-null  object \n",
      " 25  customMetrics        13006 non-null  object \n",
      " 26  type                 13006 non-null  object \n",
      " 27  social               13006 non-null  object \n",
      " 28  latencyTracking      175 non-null    object \n",
      " 29  sourcePropertyInfo   0 non-null      object \n",
      " 30  contentGroup         13006 non-null  object \n",
      " 31  dataSource           0 non-null      object \n",
      " 32  publisher_infos      13006 non-null  object \n",
      "dtypes: Int64(4), boolean(4), object(25)\n",
      "memory usage: 3.0+ MB\n"
     ]
    }
   ],
   "source": [
    "hits_df.info()"
   ]
  },
  {
   "cell_type": "code",
   "execution_count": 34,
   "id": "8cd12bdb-6aad-4711-b234-e776852b2944",
   "metadata": {
    "tags": []
   },
   "outputs": [
    {
     "data": {
      "application/vnd.jupyter.widget-view+json": {
       "model_id": "a15d834a86914b538c379a7d374a7f04",
       "version_major": 2,
       "version_minor": 0
      },
      "text/plain": [
       "Query is running:   0%|          |"
      ]
     },
     "metadata": {},
     "output_type": "display_data"
    },
    {
     "data": {
      "application/vnd.jupyter.widget-view+json": {
       "model_id": "597fc3275c29409ebb44583cbfb59faa",
       "version_major": 2,
       "version_minor": 0
      },
      "text/plain": [
       "Downloading:   0%|          |"
      ]
     },
     "metadata": {},
     "output_type": "display_data"
    }
   ],
   "source": [
    "%%bigquery hits_exp_df --project $PROJECT_ID\n",
    "\n",
    "SELECT h.time, h.eCommerceAction.*, h.page.pagepath, h.page.pageTitle, \n",
    "p.productSKU, p.v2ProductCategory, p.productPrice\n",
    "FROM `bigquery-public-data.google_analytics_sample.ga_sessions_20160801`, \n",
    "UNNEST(hits) AS h, UNNEST(product) AS p"
   ]
  },
  {
   "cell_type": "code",
   "execution_count": 35,
   "id": "eaaa1185-a690-4635-bd75-56c93b01612a",
   "metadata": {},
   "outputs": [
    {
     "name": "stdout",
     "output_type": "stream",
     "text": [
      "<class 'pandas.core.frame.DataFrame'>\n",
      "RangeIndex: 93007 entries, 0 to 93006\n",
      "Data columns (total 9 columns):\n",
      " #   Column             Non-Null Count  Dtype \n",
      "---  ------             --------------  ----- \n",
      " 0   time               93007 non-null  Int64 \n",
      " 1   action_type        93007 non-null  object\n",
      " 2   step               93007 non-null  Int64 \n",
      " 3   option             0 non-null      object\n",
      " 4   pagepath           93007 non-null  object\n",
      " 5   pageTitle          93007 non-null  object\n",
      " 6   productSKU         93007 non-null  object\n",
      " 7   v2ProductCategory  93007 non-null  object\n",
      " 8   productPrice       93007 non-null  Int64 \n",
      "dtypes: Int64(3), object(6)\n",
      "memory usage: 6.7+ MB\n"
     ]
    }
   ],
   "source": [
    "#pd.json_normalize(hits_exp_df, record_path=['eCommerceAction'])\n",
    "hits_exp_df = hits_exp_df.infer_objects()\n",
    "hits_exp_df.info()"
   ]
  },
  {
   "cell_type": "code",
   "execution_count": 36,
   "id": "aaa7124e-5479-4571-8268-96b3d896cedf",
   "metadata": {
    "tags": []
   },
   "outputs": [
    {
     "data": {
      "text/html": [
       "<div>\n",
       "<style scoped>\n",
       "    .dataframe tbody tr th:only-of-type {\n",
       "        vertical-align: middle;\n",
       "    }\n",
       "\n",
       "    .dataframe tbody tr th {\n",
       "        vertical-align: top;\n",
       "    }\n",
       "\n",
       "    .dataframe thead th {\n",
       "        text-align: right;\n",
       "    }\n",
       "</style>\n",
       "<table border=\"1\" class=\"dataframe\">\n",
       "  <thead>\n",
       "    <tr style=\"text-align: right;\">\n",
       "      <th></th>\n",
       "      <th>time</th>\n",
       "      <th>step</th>\n",
       "      <th>productPrice</th>\n",
       "    </tr>\n",
       "  </thead>\n",
       "  <tbody>\n",
       "    <tr>\n",
       "      <th>count</th>\n",
       "      <td>93007.0</td>\n",
       "      <td>93007.0</td>\n",
       "      <td>93007.0</td>\n",
       "    </tr>\n",
       "    <tr>\n",
       "      <th>mean</th>\n",
       "      <td>325540.159472</td>\n",
       "      <td>1.0</td>\n",
       "      <td>23281332.104035</td>\n",
       "    </tr>\n",
       "    <tr>\n",
       "      <th>std</th>\n",
       "      <td>690355.822998</td>\n",
       "      <td>0.0</td>\n",
       "      <td>25731794.115954</td>\n",
       "    </tr>\n",
       "    <tr>\n",
       "      <th>min</th>\n",
       "      <td>0.0</td>\n",
       "      <td>1.0</td>\n",
       "      <td>0.0</td>\n",
       "    </tr>\n",
       "    <tr>\n",
       "      <th>25%</th>\n",
       "      <td>33872.0</td>\n",
       "      <td>1.0</td>\n",
       "      <td>7990000.0</td>\n",
       "    </tr>\n",
       "    <tr>\n",
       "      <th>50%</th>\n",
       "      <td>111426.0</td>\n",
       "      <td>1.0</td>\n",
       "      <td>16990000.0</td>\n",
       "    </tr>\n",
       "    <tr>\n",
       "      <th>75%</th>\n",
       "      <td>294843.0</td>\n",
       "      <td>1.0</td>\n",
       "      <td>21990000.0</td>\n",
       "    </tr>\n",
       "    <tr>\n",
       "      <th>max</th>\n",
       "      <td>7507769.0</td>\n",
       "      <td>1.0</td>\n",
       "      <td>575700000.0</td>\n",
       "    </tr>\n",
       "  </tbody>\n",
       "</table>\n",
       "</div>"
      ],
      "text/plain": [
       "                time     step     productPrice\n",
       "count        93007.0  93007.0          93007.0\n",
       "mean   325540.159472      1.0  23281332.104035\n",
       "std    690355.822998      0.0  25731794.115954\n",
       "min              0.0      1.0              0.0\n",
       "25%          33872.0      1.0        7990000.0\n",
       "50%         111426.0      1.0       16990000.0\n",
       "75%         294843.0      1.0       21990000.0\n",
       "max        7507769.0      1.0      575700000.0"
      ]
     },
     "execution_count": 36,
     "metadata": {},
     "output_type": "execute_result"
    }
   ],
   "source": [
    "hits_exp_df.describe()"
   ]
  },
  {
   "cell_type": "code",
   "execution_count": 37,
   "id": "4760b659-2119-49e8-bdc4-5051543bff2d",
   "metadata": {
    "tags": []
   },
   "outputs": [
    {
     "data": {
      "text/plain": [
       "time                 8268\n",
       "action_type             7\n",
       "step                    1\n",
       "option                  0\n",
       "pagepath              208\n",
       "pageTitle             170\n",
       "productSKU            361\n",
       "v2ProductCategory      36\n",
       "productPrice          156\n",
       "dtype: int64"
      ]
     },
     "execution_count": 37,
     "metadata": {},
     "output_type": "execute_result"
    }
   ],
   "source": [
    "hits_exp_df.nunique()"
   ]
  }
 ],
 "metadata": {
  "environment": {
   "kernel": "conda-root-py",
   "name": "workbench-notebooks.m115",
   "type": "gcloud",
   "uri": "gcr.io/deeplearning-platform-release/workbench-notebooks:m115"
  },
  "kernelspec": {
   "display_name": "Python 3 (ipykernel) (Local)",
   "language": "python",
   "name": "conda-root-py"
  },
  "language_info": {
   "codemirror_mode": {
    "name": "ipython",
    "version": 3
   },
   "file_extension": ".py",
   "mimetype": "text/x-python",
   "name": "python",
   "nbconvert_exporter": "python",
   "pygments_lexer": "ipython3",
   "version": "3.10.13"
  }
 },
 "nbformat": 4,
 "nbformat_minor": 5
}
