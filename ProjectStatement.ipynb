{
 "cells": [
  {
   "cell_type": "markdown",
   "id": "c03399e1-b41b-4b61-bd45-4ea3dad15368",
   "metadata": {},
   "source": [
    "Customer Propensity – Google Analytics Sample Data\n",
    "\n",
    "Description:\n",
    "This assignment is to design, build, evaluate, and deploy an ML model to predict customer\n",
    "propensity to perform the “Add To Cart” action. The model should accurately predict whether\n",
    "this action will be performed or not based on the features selected or developed from the given\n",
    "dataset. This model is essential as part of the Q2 business goal to increase the return on ad-\n",
    "spending of the company employing google analytics.\n",
    "Goals:\n",
    "Using the google analytics 360 sample dataset on BigQuery, develop and deploy a model in\n",
    "VertexAI to predict when a ‘hit’ will have an event action of “Add To Cart”. To start with, a 1-\n",
    "month period of your choice should be used to train the model, with the goal of being able to\n",
    "easily substitute in the 12-month period (full dataset) after validating the model. Because of\n",
    "the dataset size, it is assumed that data cleaning and feature selection will take place to test\n",
    "and train the model in a timely manner. All decisions on this must be documented.\n",
    "Dataset Information:\n",
    "https://support.google.com/analytics/answer/7586738\n",
    "Requirements:\n",
    "- All code shall be written in python, SQL, or the GCP console\n",
    "- The model will be trained and deployed using GCP\n",
    "- All code shall be managed via git\n",
    "- The repository shall be named ‘<first_name>-<last_name>-aml-capstone' (all lowercase,\n",
    "i.e. Tom Cruise’s repository name is ‘tom-cruise-aml-capstone')\n",
    "- All code shall be written by you. Any suspicion of direct code copying shall result in\n",
    "termination from this program.\n",
    "The allowed Python dependencies are:\n",
    "- Scikit-learn\n",
    "- NumPy\n",
    "- SciPy\n",
    "- Pandas\n",
    "- Seaborn\n",
    "- Google-cloud-\n",
    "*\n",
    "Deliverables:\n",
    "- Analysis report covering the following:\n",
    "o EDA (exploratory data analysis)\n",
    "o Data pre-processing\n",
    "o Feature Selection and Engineering\n",
    "o Model Choice\n",
    "o Model Evaluation Metrics\n",
    "o Model Tuning\n",
    "o Performance Monitoring & Maintenance Plan\n",
    "- Deployed GCP model to respond to prediction requests\n",
    "- Deployment documentation – documentation on how the model was deployed to GCP,\n",
    "with all necessary steps for redeployment.\n",
    "- Project cost report – report on the total cost to get model deployed, including any\n",
    "additional cost monitoring or resource optimization done"
   ]
  }
 ],
 "metadata": {
  "environment": {
   "kernel": "conda-root-py",
   "name": "workbench-notebooks.m115",
   "type": "gcloud",
   "uri": "gcr.io/deeplearning-platform-release/workbench-notebooks:m115"
  },
  "kernelspec": {
   "display_name": "Python 3 (ipykernel) (Local)",
   "language": "python",
   "name": "conda-root-py"
  },
  "language_info": {
   "codemirror_mode": {
    "name": "ipython",
    "version": 3
   },
   "file_extension": ".py",
   "mimetype": "text/x-python",
   "name": "python",
   "nbconvert_exporter": "python",
   "pygments_lexer": "ipython3",
   "version": "3.10.13"
  }
 },
 "nbformat": 4,
 "nbformat_minor": 5
}
