{
 "cells": [
  {
   "cell_type": "code",
   "execution_count": null,
   "id": "1dd3f62a-0514-4450-b138-ab95d04ce53d",
   "metadata": {
    "tags": []
   },
   "outputs": [],
   "source": [
    "#Install the following packages required to execute this notebook\n",
    "!pip3 install google-cloud-aiplatform --user\n",
    "!pip3 install pyarrow==11.0.0 --user\n",
    "!pip3 install --upgrade google-cloud-bigquery --user\n",
    "!pip3 install --upgrade google-cloud-bigquery-storage --user\n",
    "!pip3 install --upgrade google-cloud-storage --user\n",
    "!pip install db-dtypes"
   ]
  },
  {
   "cell_type": "code",
   "execution_count": 2,
   "id": "35a8ee17-8c87-438b-aec0-082d17fdf8b3",
   "metadata": {
    "tags": []
   },
   "outputs": [],
   "source": [
    "from google.cloud import bigquery\n",
    "from google.cloud import aiplatform as vertexai\n",
    "import numpy as np\n",
    "import pandas as pd\n",
    "import matplotlib.pyplot as plt\n",
    "from sklearn import metrics"
   ]
  },
  {
   "cell_type": "code",
   "execution_count": 3,
   "id": "3de82513-63ce-4235-8ac8-ad08a0cd6c10",
   "metadata": {
    "tags": []
   },
   "outputs": [],
   "source": [
    "# Retrieve and set PROJECT_ID environment variable\n",
    "PROJECT_ID = !(gcloud config get-value core/project)\n",
    "PROJECT_ID = PROJECT_ID[0]"
   ]
  },
  {
   "cell_type": "code",
   "execution_count": 4,
   "id": "da0ed3ac-b196-4227-8db1-9115642dfc7e",
   "metadata": {
    "tags": []
   },
   "outputs": [
    {
     "name": "stdout",
     "output_type": "stream",
     "text": [
      "us-east4\n"
     ]
    }
   ],
   "source": [
    "# Set REGION environment variable\n",
    "REGION = 'us-east4'\n",
    "print(REGION)\n",
    "BQ_LOCATION = 'US'"
   ]
  },
  {
   "cell_type": "code",
   "execution_count": 5,
   "id": "598509ed-1199-4bf2-bf26-649e6bfc8081",
   "metadata": {
    "tags": []
   },
   "outputs": [],
   "source": [
    "# Create a storage bucket to serve as a staging bucket for Vertex AI.\n",
    "GCS_BUCKET = f\"{PROJECT_ID}-kavi_capstone_bucket\""
   ]
  },
  {
   "cell_type": "code",
   "execution_count": null,
   "id": "4226833d-eec6-4793-9288-15d6b11016d4",
   "metadata": {
    "tags": []
   },
   "outputs": [],
   "source": [
    "# Run this command only one time to create a storage bucket\n",
    "#!gsutil mb -l $REGION gs://$GCS_BUCKET"
   ]
  },
  {
   "cell_type": "code",
   "execution_count": 8,
   "id": "8394ec04-2222-4f45-91de-93b6b1318b53",
   "metadata": {
    "tags": []
   },
   "outputs": [],
   "source": [
    "# Next, create a BigQuery dataset from this notebook using the Python-based [`bq` command line utility](https://cloud.google.com/bigquery/docs/bq-command-line-tool). \n",
    "# This dataset will group your feature views, model, and predictions table together. You can view it in the [BigQuery](https://pantheon.corp.google.com/bigquery) console.\n",
    "\n",
    "BQ_DATASET = f\"{PROJECT_ID}:kavitha_capstone_dataset\""
   ]
  },
  {
   "cell_type": "code",
   "execution_count": 9,
   "id": "8372fbcb-8f1e-4dce-8ce4-71af5707b973",
   "metadata": {
    "tags": []
   },
   "outputs": [],
   "source": [
    "# Run this command only once to create a dataset\n",
    "#!bq mk --location={BQ_LOCATION} --dataset {BQ_DATASET}"
   ]
  },
  {
   "cell_type": "code",
   "execution_count": 10,
   "id": "dc831c08-1292-48b2-a672-e2de41775017",
   "metadata": {
    "tags": []
   },
   "outputs": [],
   "source": [
    "# initialize the vertex ai sdk\n",
    "vertexai.init(project=PROJECT_ID, location=REGION, staging_bucket=f\"gs://{GCS_BUCKET}\")"
   ]
  },
  {
   "cell_type": "code",
   "execution_count": 11,
   "id": "c21d64ff-28f5-48ea-9035-ade2aff9eec1",
   "metadata": {
    "tags": []
   },
   "outputs": [
    {
     "data": {
      "application/vnd.jupyter.widget-view+json": {
       "model_id": "1e70b585f4974528b221a4ac536759e2",
       "version_major": 2,
       "version_minor": 0
      },
      "text/plain": [
       "Query is running:   0%|          |"
      ]
     },
     "metadata": {},
     "output_type": "display_data"
    },
    {
     "data": {
      "text/html": [
       "<div>\n",
       "<style scoped>\n",
       "    .dataframe tbody tr th:only-of-type {\n",
       "        vertical-align: middle;\n",
       "    }\n",
       "\n",
       "    .dataframe tbody tr th {\n",
       "        vertical-align: top;\n",
       "    }\n",
       "\n",
       "    .dataframe thead th {\n",
       "        text-align: right;\n",
       "    }\n",
       "</style>\n",
       "<table border=\"1\" class=\"dataframe\">\n",
       "  <thead>\n",
       "    <tr style=\"text-align: right;\">\n",
       "      <th></th>\n",
       "    </tr>\n",
       "  </thead>\n",
       "  <tbody>\n",
       "  </tbody>\n",
       "</table>\n",
       "</div>"
      ],
      "text/plain": [
       "Empty DataFrame\n",
       "Columns: []\n",
       "Index: []"
      ]
     },
     "execution_count": 11,
     "metadata": {},
     "output_type": "execute_result"
    }
   ],
   "source": [
    "%%bigquery --project $PROJECT_ID\n",
    "DROP VIEW `kavitha_capstone_dataset.ga_data` "
   ]
  },
  {
   "cell_type": "code",
   "execution_count": 12,
   "id": "ac76d438-16fb-47cf-b7b9-f6f4f74e6939",
   "metadata": {
    "tags": []
   },
   "outputs": [],
   "source": [
    "def test_metrics(df):\n",
    "    y_actual = df[\"will_add_to_cart\"].values\n",
    "    y_pred = df[\"predicted_will_add_to_cart\"].values\n",
    "    accuracy = metrics.accuracy_score(y_actual, y_pred)\n",
    "    precision = metrics.precision_score(y_actual, y_pred)\n",
    "    recall = metrics.recall_score(y_actual, y_pred)\n",
    "    confusion = metrics.confusion_matrix(y_actual, y_pred)\n",
    "    print(f\"Accuracy : {accuracy:.4f}\")\n",
    "    print(f\"Precision : {precision:.4f}\")\n",
    "    print(f\"Recall : {recall:.4f}\")\n",
    "    print(f\"Confusion Matrix : \\n{confusion}\")"
   ]
  },
  {
   "cell_type": "code",
   "execution_count": 13,
   "id": "b9806e3b-ee7b-4927-b34c-727fdab0095e",
   "metadata": {
    "tags": []
   },
   "outputs": [
    {
     "data": {
      "application/vnd.jupyter.widget-view+json": {
       "model_id": "d470418fccbb436cbf34434cdbfe44c2",
       "version_major": 2,
       "version_minor": 0
      },
      "text/plain": [
       "Query is running:   0%|          |"
      ]
     },
     "metadata": {},
     "output_type": "display_data"
    },
    {
     "data": {
      "text/html": [
       "<div>\n",
       "<style scoped>\n",
       "    .dataframe tbody tr th:only-of-type {\n",
       "        vertical-align: middle;\n",
       "    }\n",
       "\n",
       "    .dataframe tbody tr th {\n",
       "        vertical-align: top;\n",
       "    }\n",
       "\n",
       "    .dataframe thead th {\n",
       "        text-align: right;\n",
       "    }\n",
       "</style>\n",
       "<table border=\"1\" class=\"dataframe\">\n",
       "  <thead>\n",
       "    <tr style=\"text-align: right;\">\n",
       "      <th></th>\n",
       "    </tr>\n",
       "  </thead>\n",
       "  <tbody>\n",
       "  </tbody>\n",
       "</table>\n",
       "</div>"
      ],
      "text/plain": [
       "Empty DataFrame\n",
       "Columns: []\n",
       "Index: []"
      ]
     },
     "execution_count": 13,
     "metadata": {},
     "output_type": "execute_result"
    }
   ],
   "source": [
    "%%bigquery --project $PROJECT_ID\n",
    "\n",
    "CREATE OR REPLACE VIEW kavitha_capstone_dataset.ga_data AS (\n",
    "    \n",
    "  SELECT\n",
    "    CONCAT(fullVisitorId, CAST(visitId AS STRING)) AS Id,\n",
    "    IFNULL(channelGrouping, \"(other)\") AS channel_grouping,\n",
    "    IFNULL(device.browser, \"Unknown\") AS browser,\n",
    "    IFNULL(device.operatingSystem, \"Unknown\") AS operatingSystem,\n",
    "    IFNULL(device.deviceCategory, \"Unknown\") AS deviceCategory,\n",
    "    IFNULL(trafficSource.source, \"Unknown\") AS source,\n",
    "    IFNULL(trafficSource.medium, \"Unknown\") AS medium,\n",
    "    IFNULL(geoNetwork.country, \"Unknown\") AS country,\n",
    "    IFNULL(h.social.socialNetwork, \"Unknown\") AS socialNetwork,\n",
    "    IFNULL(h.social.hasSocialSourceReferral, \"No\") AS hasSocialSourceReferral,\n",
    "    IFNULL(totals.hits, 0) AS hits,\n",
    "    IFNULL(totals.bounces, 0) AS bounces,\n",
    "    IFNULL(totals.pageViews, 0) AS pageViews,\n",
    "    IFNULL(totals.timeOnSite, 0) AS timeOnSite,\n",
    "    IF(MAX(CAST(h.eCommerceAction.action_type AS INT64) > 2), 1, 0) AS will_add_to_cart,\n",
    "    # BQML Hyperparameter tuning requires STRING 3 partition data_split column.\n",
    "    # 80% 'TRAIN' | 10%'EVAL' | 10% 'TEST'  \n",
    "    CASE\n",
    "      WHEN ABS(MOD(FARM_FINGERPRINT(CONCAT(fullVisitorId, CAST(visitId AS STRING))), 10)) <= 7\n",
    "        THEN 'TRAIN'\n",
    "      WHEN ABS(MOD(FARM_FINGERPRINT(CONCAT(fullVisitorId, CAST(visitId AS STRING))), 10)) = 8\n",
    "        THEN 'EVAL'\n",
    "      WHEN ABS(MOD(FARM_FINGERPRINT(CONCAT(fullVisitorId, CAST(visitId AS STRING))), 10)) = 9\n",
    "        THEN 'TEST'    \n",
    "          ELSE '' END AS data_split\n",
    "    FROM `bigquery-public-data.google_analytics_sample.ga_sessions_201705*`, \n",
    "    UNNEST(hits) AS h \n",
    "    GROUP BY fullVisitorId, visitId , \n",
    "            channel_grouping, \n",
    "            hits, \n",
    "            bounces, \n",
    "            pageViews, \n",
    "            timeOnSite, \n",
    "            browser, \n",
    "            operatingSystem, \n",
    "            deviceCategory,\n",
    "            source,\n",
    "            medium,\n",
    "            country,\n",
    "            socialNetwork,\n",
    "            hasSocialSourceReferral\n",
    "            \n",
    "  );\n"
   ]
  },
  {
   "cell_type": "code",
   "execution_count": 14,
   "id": "5d6c2f0c-e829-43ef-b2f5-d74501c0c137",
   "metadata": {
    "tags": []
   },
   "outputs": [
    {
     "data": {
      "application/vnd.jupyter.widget-view+json": {
       "model_id": "e765cd0bf9094402bbe0404813226c02",
       "version_major": 2,
       "version_minor": 0
      },
      "text/plain": [
       "Query is running:   0%|          |"
      ]
     },
     "metadata": {},
     "output_type": "display_data"
    },
    {
     "data": {
      "application/vnd.jupyter.widget-view+json": {
       "model_id": "71ca023bb7a94cc99d9794c880bec3ff",
       "version_major": 2,
       "version_minor": 0
      },
      "text/plain": [
       "Downloading:   0%|          |"
      ]
     },
     "metadata": {},
     "output_type": "display_data"
    },
    {
     "data": {
      "text/html": [
       "<div>\n",
       "<style scoped>\n",
       "    .dataframe tbody tr th:only-of-type {\n",
       "        vertical-align: middle;\n",
       "    }\n",
       "\n",
       "    .dataframe tbody tr th {\n",
       "        vertical-align: top;\n",
       "    }\n",
       "\n",
       "    .dataframe thead th {\n",
       "        text-align: right;\n",
       "    }\n",
       "</style>\n",
       "<table border=\"1\" class=\"dataframe\">\n",
       "  <thead>\n",
       "    <tr style=\"text-align: right;\">\n",
       "      <th></th>\n",
       "      <th>Id</th>\n",
       "      <th>channel_grouping</th>\n",
       "      <th>browser</th>\n",
       "      <th>operatingSystem</th>\n",
       "      <th>deviceCategory</th>\n",
       "      <th>source</th>\n",
       "      <th>medium</th>\n",
       "      <th>country</th>\n",
       "      <th>socialNetwork</th>\n",
       "      <th>hasSocialSourceReferral</th>\n",
       "      <th>hits</th>\n",
       "      <th>bounces</th>\n",
       "      <th>pageViews</th>\n",
       "      <th>timeOnSite</th>\n",
       "      <th>will_add_to_cart</th>\n",
       "      <th>data_split</th>\n",
       "    </tr>\n",
       "  </thead>\n",
       "  <tbody>\n",
       "    <tr>\n",
       "      <th>0</th>\n",
       "      <td>38031994080107751601494576091</td>\n",
       "      <td>Organic Search</td>\n",
       "      <td>Chrome</td>\n",
       "      <td>Android</td>\n",
       "      <td>mobile</td>\n",
       "      <td>google</td>\n",
       "      <td>organic</td>\n",
       "      <td>Portugal</td>\n",
       "      <td>(not set)</td>\n",
       "      <td>No</td>\n",
       "      <td>20</td>\n",
       "      <td>0</td>\n",
       "      <td>14</td>\n",
       "      <td>293</td>\n",
       "      <td>1</td>\n",
       "      <td>TEST</td>\n",
       "    </tr>\n",
       "    <tr>\n",
       "      <th>1</th>\n",
       "      <td>8523825258403937671494646362</td>\n",
       "      <td>Referral</td>\n",
       "      <td>Chrome</td>\n",
       "      <td>Macintosh</td>\n",
       "      <td>desktop</td>\n",
       "      <td>(direct)</td>\n",
       "      <td>(none)</td>\n",
       "      <td>United States</td>\n",
       "      <td>(not set)</td>\n",
       "      <td>No</td>\n",
       "      <td>20</td>\n",
       "      <td>0</td>\n",
       "      <td>10</td>\n",
       "      <td>282</td>\n",
       "      <td>1</td>\n",
       "      <td>EVAL</td>\n",
       "    </tr>\n",
       "    <tr>\n",
       "      <th>2</th>\n",
       "      <td>67116191132872398131494644842</td>\n",
       "      <td>Direct</td>\n",
       "      <td>Chrome</td>\n",
       "      <td>Android</td>\n",
       "      <td>mobile</td>\n",
       "      <td>(direct)</td>\n",
       "      <td>(none)</td>\n",
       "      <td>India</td>\n",
       "      <td>(not set)</td>\n",
       "      <td>No</td>\n",
       "      <td>20</td>\n",
       "      <td>0</td>\n",
       "      <td>17</td>\n",
       "      <td>451</td>\n",
       "      <td>0</td>\n",
       "      <td>TRAIN</td>\n",
       "    </tr>\n",
       "    <tr>\n",
       "      <th>3</th>\n",
       "      <td>13176892531500023581494607446</td>\n",
       "      <td>Organic Search</td>\n",
       "      <td>Chrome</td>\n",
       "      <td>Macintosh</td>\n",
       "      <td>desktop</td>\n",
       "      <td>google</td>\n",
       "      <td>organic</td>\n",
       "      <td>United States</td>\n",
       "      <td>(not set)</td>\n",
       "      <td>No</td>\n",
       "      <td>21</td>\n",
       "      <td>0</td>\n",
       "      <td>15</td>\n",
       "      <td>733</td>\n",
       "      <td>0</td>\n",
       "      <td>TRAIN</td>\n",
       "    </tr>\n",
       "    <tr>\n",
       "      <th>4</th>\n",
       "      <td>00927874859284611551494620536</td>\n",
       "      <td>Referral</td>\n",
       "      <td>Chrome</td>\n",
       "      <td>Macintosh</td>\n",
       "      <td>desktop</td>\n",
       "      <td>(direct)</td>\n",
       "      <td>(none)</td>\n",
       "      <td>United States</td>\n",
       "      <td>(not set)</td>\n",
       "      <td>No</td>\n",
       "      <td>21</td>\n",
       "      <td>0</td>\n",
       "      <td>15</td>\n",
       "      <td>465</td>\n",
       "      <td>1</td>\n",
       "      <td>TRAIN</td>\n",
       "    </tr>\n",
       "    <tr>\n",
       "      <th>5</th>\n",
       "      <td>49747987015514920651494631595</td>\n",
       "      <td>Referral</td>\n",
       "      <td>Chrome</td>\n",
       "      <td>Macintosh</td>\n",
       "      <td>desktop</td>\n",
       "      <td>(direct)</td>\n",
       "      <td>(none)</td>\n",
       "      <td>United States</td>\n",
       "      <td>(not set)</td>\n",
       "      <td>No</td>\n",
       "      <td>23</td>\n",
       "      <td>0</td>\n",
       "      <td>18</td>\n",
       "      <td>461</td>\n",
       "      <td>1</td>\n",
       "      <td>TRAIN</td>\n",
       "    </tr>\n",
       "    <tr>\n",
       "      <th>6</th>\n",
       "      <td>70595523965049289421494621444</td>\n",
       "      <td>Direct</td>\n",
       "      <td>Chrome</td>\n",
       "      <td>Windows</td>\n",
       "      <td>desktop</td>\n",
       "      <td>(direct)</td>\n",
       "      <td>(none)</td>\n",
       "      <td>Canada</td>\n",
       "      <td>(not set)</td>\n",
       "      <td>No</td>\n",
       "      <td>23</td>\n",
       "      <td>0</td>\n",
       "      <td>11</td>\n",
       "      <td>481</td>\n",
       "      <td>0</td>\n",
       "      <td>TRAIN</td>\n",
       "    </tr>\n",
       "    <tr>\n",
       "      <th>7</th>\n",
       "      <td>4680960806168064621494610384</td>\n",
       "      <td>Organic Search</td>\n",
       "      <td>Chrome</td>\n",
       "      <td>Macintosh</td>\n",
       "      <td>desktop</td>\n",
       "      <td>google</td>\n",
       "      <td>organic</td>\n",
       "      <td>United States</td>\n",
       "      <td>(not set)</td>\n",
       "      <td>No</td>\n",
       "      <td>23</td>\n",
       "      <td>0</td>\n",
       "      <td>18</td>\n",
       "      <td>1843</td>\n",
       "      <td>1</td>\n",
       "      <td>TRAIN</td>\n",
       "    </tr>\n",
       "    <tr>\n",
       "      <th>8</th>\n",
       "      <td>13682039619919987671494608774</td>\n",
       "      <td>Organic Search</td>\n",
       "      <td>Chrome</td>\n",
       "      <td>Linux</td>\n",
       "      <td>desktop</td>\n",
       "      <td>google</td>\n",
       "      <td>organic</td>\n",
       "      <td>United States</td>\n",
       "      <td>(not set)</td>\n",
       "      <td>No</td>\n",
       "      <td>23</td>\n",
       "      <td>0</td>\n",
       "      <td>17</td>\n",
       "      <td>222</td>\n",
       "      <td>1</td>\n",
       "      <td>TRAIN</td>\n",
       "    </tr>\n",
       "    <tr>\n",
       "      <th>9</th>\n",
       "      <td>49746908473549577511494629815</td>\n",
       "      <td>Referral</td>\n",
       "      <td>Chrome</td>\n",
       "      <td>Macintosh</td>\n",
       "      <td>desktop</td>\n",
       "      <td>(direct)</td>\n",
       "      <td>(none)</td>\n",
       "      <td>United States</td>\n",
       "      <td>(not set)</td>\n",
       "      <td>No</td>\n",
       "      <td>26</td>\n",
       "      <td>0</td>\n",
       "      <td>22</td>\n",
       "      <td>846</td>\n",
       "      <td>1</td>\n",
       "      <td>TRAIN</td>\n",
       "    </tr>\n",
       "  </tbody>\n",
       "</table>\n",
       "</div>"
      ],
      "text/plain": [
       "                              Id channel_grouping browser operatingSystem  \\\n",
       "0  38031994080107751601494576091   Organic Search  Chrome         Android   \n",
       "1   8523825258403937671494646362         Referral  Chrome       Macintosh   \n",
       "2  67116191132872398131494644842           Direct  Chrome         Android   \n",
       "3  13176892531500023581494607446   Organic Search  Chrome       Macintosh   \n",
       "4  00927874859284611551494620536         Referral  Chrome       Macintosh   \n",
       "5  49747987015514920651494631595         Referral  Chrome       Macintosh   \n",
       "6  70595523965049289421494621444           Direct  Chrome         Windows   \n",
       "7   4680960806168064621494610384   Organic Search  Chrome       Macintosh   \n",
       "8  13682039619919987671494608774   Organic Search  Chrome           Linux   \n",
       "9  49746908473549577511494629815         Referral  Chrome       Macintosh   \n",
       "\n",
       "  deviceCategory    source   medium        country socialNetwork  \\\n",
       "0         mobile    google  organic       Portugal     (not set)   \n",
       "1        desktop  (direct)   (none)  United States     (not set)   \n",
       "2         mobile  (direct)   (none)          India     (not set)   \n",
       "3        desktop    google  organic  United States     (not set)   \n",
       "4        desktop  (direct)   (none)  United States     (not set)   \n",
       "5        desktop  (direct)   (none)  United States     (not set)   \n",
       "6        desktop  (direct)   (none)         Canada     (not set)   \n",
       "7        desktop    google  organic  United States     (not set)   \n",
       "8        desktop    google  organic  United States     (not set)   \n",
       "9        desktop  (direct)   (none)  United States     (not set)   \n",
       "\n",
       "  hasSocialSourceReferral  hits  bounces  pageViews  timeOnSite  \\\n",
       "0                      No    20        0         14         293   \n",
       "1                      No    20        0         10         282   \n",
       "2                      No    20        0         17         451   \n",
       "3                      No    21        0         15         733   \n",
       "4                      No    21        0         15         465   \n",
       "5                      No    23        0         18         461   \n",
       "6                      No    23        0         11         481   \n",
       "7                      No    23        0         18        1843   \n",
       "8                      No    23        0         17         222   \n",
       "9                      No    26        0         22         846   \n",
       "\n",
       "   will_add_to_cart data_split  \n",
       "0                 1       TEST  \n",
       "1                 1       EVAL  \n",
       "2                 0      TRAIN  \n",
       "3                 0      TRAIN  \n",
       "4                 1      TRAIN  \n",
       "5                 1      TRAIN  \n",
       "6                 0      TRAIN  \n",
       "7                 1      TRAIN  \n",
       "8                 1      TRAIN  \n",
       "9                 1      TRAIN  "
      ]
     },
     "execution_count": 14,
     "metadata": {},
     "output_type": "execute_result"
    }
   ],
   "source": [
    "%%bigquery --project $PROJECT_ID\n",
    "SELECT\n",
    "  *\n",
    "FROM\n",
    "  kavitha_capstone_dataset.ga_data\n",
    "LIMIT 10"
   ]
  },
  {
   "cell_type": "code",
   "execution_count": 15,
   "id": "1d45bc7e-10a9-40b5-b9d7-b3a3d70b7a50",
   "metadata": {
    "tags": []
   },
   "outputs": [
    {
     "data": {
      "application/vnd.jupyter.widget-view+json": {
       "model_id": "5d6d9841e801436f8a332e5d0fd2957b",
       "version_major": 2,
       "version_minor": 0
      },
      "text/plain": [
       "Query is running:   0%|          |"
      ]
     },
     "metadata": {},
     "output_type": "display_data"
    },
    {
     "data": {
      "application/vnd.jupyter.widget-view+json": {
       "model_id": "cde01122e1aa424f8254a0e592622e09",
       "version_major": 2,
       "version_minor": 0
      },
      "text/plain": [
       "Downloading:   0%|          |"
      ]
     },
     "metadata": {},
     "output_type": "display_data"
    },
    {
     "data": {
      "text/html": [
       "<div>\n",
       "<style scoped>\n",
       "    .dataframe tbody tr th:only-of-type {\n",
       "        vertical-align: middle;\n",
       "    }\n",
       "\n",
       "    .dataframe tbody tr th {\n",
       "        vertical-align: top;\n",
       "    }\n",
       "\n",
       "    .dataframe thead th {\n",
       "        text-align: right;\n",
       "    }\n",
       "</style>\n",
       "<table border=\"1\" class=\"dataframe\">\n",
       "  <thead>\n",
       "    <tr style=\"text-align: right;\">\n",
       "      <th></th>\n",
       "      <th>will_add_to_cart</th>\n",
       "      <th>count</th>\n",
       "    </tr>\n",
       "  </thead>\n",
       "  <tbody>\n",
       "    <tr>\n",
       "      <th>0</th>\n",
       "      <td>0</td>\n",
       "      <td>60473</td>\n",
       "    </tr>\n",
       "    <tr>\n",
       "      <th>1</th>\n",
       "      <td>1</td>\n",
       "      <td>4886</td>\n",
       "    </tr>\n",
       "  </tbody>\n",
       "</table>\n",
       "</div>"
      ],
      "text/plain": [
       "   will_add_to_cart  count\n",
       "0                 0  60473\n",
       "1                 1   4886"
      ]
     },
     "execution_count": 15,
     "metadata": {},
     "output_type": "execute_result"
    }
   ],
   "source": [
    "%%bigquery --project $PROJECT_ID\n",
    "SELECT\n",
    "  DISTINCT(will_add_to_cart), COUNT(*) AS count\n",
    "FROM\n",
    "  kavitha_capstone_dataset.ga_data\n",
    "GROUP BY will_add_to_cart\n",
    "LIMIT 10"
   ]
  },
  {
   "cell_type": "code",
   "execution_count": null,
   "id": "7576f961-4e0b-4f0f-b087-5cd7b2bbe868",
   "metadata": {
    "tags": []
   },
   "outputs": [],
   "source": [
    "%%bigquery --project $PROJECT_ID\n",
    "\n",
    "CREATE OR REPLACE MODEL kavitha_capstone_dataset.addtocart_xgb12\n",
    "\n",
    "OPTIONS(\n",
    "  MODEL_TYPE=\"BOOSTED_TREE_CLASSIFIER\",\n",
    "  # Declare label column.\n",
    "  INPUT_LABEL_COLS=[\"will_add_to_cart\"],\n",
    "  # Specify custom data splitting using the `data_split` column.\n",
    "  DATA_SPLIT_METHOD=\"CUSTOM\",\n",
    "  DATA_SPLIT_COL=\"data_split\",\n",
    "  # Enable Vertex Explainable AI aggregated feature attributions.\n",
    "  ENABLE_GLOBAL_EXPLAIN=True,\n",
    "  # Hyperparameter tuning arguments.\n",
    "  num_trials=8,\n",
    "  max_parallel_trials=4,\n",
    "  HPARAM_TUNING_OBJECTIVES=[\"roc_auc\"],\n",
    "  EARLY_STOP=True,\n",
    "  # Hyperpameter search space.\n",
    "  LEARN_RATE=HPARAM_RANGE(0.01, 0.1),\n",
    "  MAX_TREE_DEPTH=HPARAM_CANDIDATES([5,6])\n",
    ") AS\n",
    "\n",
    "SELECT\n",
    "   * EXCEPT(Id)\n",
    "FROM\n",
    "  kavitha_capstone_dataset.ga_data"
   ]
  },
  {
   "cell_type": "code",
   "execution_count": null,
   "id": "97b87c8a-c656-496d-86d7-3c2b977a97b3",
   "metadata": {
    "tags": []
   },
   "outputs": [],
   "source": [
    "%%bigquery --project $PROJECT_ID\n",
    "\n",
    "SELECT *\n",
    "FROM\n",
    "  ML.TRIAL_INFO(MODEL `kavitha_capstone_dataset.addtocart_xgb12`);"
   ]
  },
  {
   "cell_type": "code",
   "execution_count": null,
   "id": "61c02811-2d2b-4ee3-9e78-5d7881b9b13f",
   "metadata": {
    "tags": []
   },
   "outputs": [],
   "source": [
    "%%bigquery --project $PROJECT_ID\n",
    "\n",
    "SELECT\n",
    "  *\n",
    "FROM\n",
    "  ML.EVALUATE(MODEL kavitha_capstone_dataset.addtocart_xgb12)\n",
    "WHERE trial_id=1;"
   ]
  },
  {
   "cell_type": "code",
   "execution_count": null,
   "id": "ae33d8cd-aa5d-432f-9d70-7653a6cada28",
   "metadata": {
    "tags": []
   },
   "outputs": [],
   "source": [
    "%%bigquery --project $PROJECT_ID\n",
    "\n",
    "SELECT\n",
    "  expected_label,\n",
    "    _0 AS predicted_0,\n",
    "      _1 AS predicted_1\n",
    "      \n",
    "FROM\n",
    "  ML.CONFUSION_MATRIX(MODEL kavitha_capstone_dataset.addtocart_xgb12) \n"
   ]
  },
  {
   "cell_type": "code",
   "execution_count": null,
   "id": "4963cf85-55f7-4ba5-afd5-45e06cdcc271",
   "metadata": {
    "tags": []
   },
   "outputs": [],
   "source": [
    "%%bigquery --project $PROJECT_ID\n",
    "\n",
    "SELECT\n",
    "  *\n",
    "FROM\n",
    "  ML.GLOBAL_EXPLAIN(MODEL kavitha_capstone_dataset.addtocart_xgb12)\n",
    "ORDER BY\n",
    "  attribution DESC;"
   ]
  },
  {
   "cell_type": "code",
   "execution_count": null,
   "id": "523f3550-776f-48bd-9a33-210a0eec0b55",
   "metadata": {
    "tags": []
   },
   "outputs": [],
   "source": [
    "%%bigquery df --project $PROJECT_ID\n",
    "\n",
    "SELECT\n",
    "  *\n",
    "FROM\n",
    "  ML.PREDICT(MODEL kavitha_capstone_dataset.addtocart_xgb12,\n",
    "  (SELECT * EXCEPT(Id) FROM kavitha_capstone_dataset.ga_data WHERE data_split = \"TEST\" ))"
   ]
  },
  {
   "cell_type": "code",
   "execution_count": null,
   "id": "d66a34a8-c6d1-4ae2-9a55-e55d1d4cb711",
   "metadata": {
    "tags": []
   },
   "outputs": [],
   "source": [
    "test_metrics(df)"
   ]
  },
  {
   "cell_type": "code",
   "execution_count": 16,
   "id": "22a0a1c6-ce80-454c-8a84-36b9519af72a",
   "metadata": {
    "tags": []
   },
   "outputs": [
    {
     "data": {
      "application/vnd.jupyter.widget-view+json": {
       "model_id": "5433dbed7b814a41a4429f1ac144efd6",
       "version_major": 2,
       "version_minor": 0
      },
      "text/plain": [
       "Query is running:   0%|          |"
      ]
     },
     "metadata": {},
     "output_type": "display_data"
    },
    {
     "data": {
      "text/html": [
       "<div>\n",
       "<style scoped>\n",
       "    .dataframe tbody tr th:only-of-type {\n",
       "        vertical-align: middle;\n",
       "    }\n",
       "\n",
       "    .dataframe tbody tr th {\n",
       "        vertical-align: top;\n",
       "    }\n",
       "\n",
       "    .dataframe thead th {\n",
       "        text-align: right;\n",
       "    }\n",
       "</style>\n",
       "<table border=\"1\" class=\"dataframe\">\n",
       "  <thead>\n",
       "    <tr style=\"text-align: right;\">\n",
       "      <th></th>\n",
       "    </tr>\n",
       "  </thead>\n",
       "  <tbody>\n",
       "  </tbody>\n",
       "</table>\n",
       "</div>"
      ],
      "text/plain": [
       "Empty DataFrame\n",
       "Columns: []\n",
       "Index: []"
      ]
     },
     "execution_count": 16,
     "metadata": {},
     "output_type": "execute_result"
    }
   ],
   "source": [
    "%%bigquery --project $PROJECT_ID\n",
    "\n",
    "CREATE OR REPLACE MODEL kavitha_capstone_dataset.addtocart_xgb16\n",
    "\n",
    "OPTIONS(\n",
    "  MODEL_TYPE=\"BOOSTED_TREE_CLASSIFIER\",\n",
    "  # Declare label column.\n",
    "  INPUT_LABEL_COLS=[\"will_add_to_cart\"],\n",
    "  # Specify custom data splitting using the `data_split` column.\n",
    "  DATA_SPLIT_METHOD=\"CUSTOM\",\n",
    "  DATA_SPLIT_COL=\"data_split\",\n",
    "  # Enable Vertex Explainable AI aggregated feature attributions.\n",
    "  ENABLE_GLOBAL_EXPLAIN=True,\n",
    "  # Hyperparameter tuning arguments.\n",
    "  num_trials=5,\n",
    "  max_parallel_trials=4,\n",
    "  HPARAM_TUNING_OBJECTIVES=[\"roc_auc\"],\n",
    "  EARLY_STOP=True,\n",
    "  # Hyperpameter search space.\n",
    "  LEARN_RATE=HPARAM_RANGE(0.01, 0.1),\n",
    "  MAX_TREE_DEPTH=HPARAM_CANDIDATES([5,6])\n",
    ") AS\n",
    "\n",
    "SELECT\n",
    "   * EXCEPT(Id, hasSocialSourceReferral, socialNetwork, browser)\n",
    "FROM\n",
    "  kavitha_capstone_dataset.ga_data"
   ]
  },
  {
   "cell_type": "code",
   "execution_count": 17,
   "id": "edce45a1-7db1-4953-9a60-a0252b2cd2e3",
   "metadata": {
    "tags": []
   },
   "outputs": [
    {
     "data": {
      "application/vnd.jupyter.widget-view+json": {
       "model_id": "16c46d40ac3d4ba28f40b2d1ef74a7d6",
       "version_major": 2,
       "version_minor": 0
      },
      "text/plain": [
       "Query is running:   0%|          |"
      ]
     },
     "metadata": {},
     "output_type": "display_data"
    },
    {
     "data": {
      "application/vnd.jupyter.widget-view+json": {
       "model_id": "83a9cf10e7964bda833668671d7488b1",
       "version_major": 2,
       "version_minor": 0
      },
      "text/plain": [
       "Downloading:   0%|          |"
      ]
     },
     "metadata": {},
     "output_type": "display_data"
    },
    {
     "data": {
      "text/html": [
       "<div>\n",
       "<style scoped>\n",
       "    .dataframe tbody tr th:only-of-type {\n",
       "        vertical-align: middle;\n",
       "    }\n",
       "\n",
       "    .dataframe tbody tr th {\n",
       "        vertical-align: top;\n",
       "    }\n",
       "\n",
       "    .dataframe thead th {\n",
       "        text-align: right;\n",
       "    }\n",
       "</style>\n",
       "<table border=\"1\" class=\"dataframe\">\n",
       "  <thead>\n",
       "    <tr style=\"text-align: right;\">\n",
       "      <th></th>\n",
       "      <th>trial_id</th>\n",
       "      <th>hyperparameters</th>\n",
       "      <th>hparam_tuning_evaluation_metrics</th>\n",
       "      <th>training_loss</th>\n",
       "      <th>eval_loss</th>\n",
       "      <th>status</th>\n",
       "      <th>error_message</th>\n",
       "      <th>is_optimal</th>\n",
       "    </tr>\n",
       "  </thead>\n",
       "  <tbody>\n",
       "    <tr>\n",
       "      <th>0</th>\n",
       "      <td>1</td>\n",
       "      <td>{'learn_rate': 0.1, 'max_tree_depth': 6}</td>\n",
       "      <td>{'roc_auc': 0.969012987012987}</td>\n",
       "      <td>0.164175</td>\n",
       "      <td>0.167775</td>\n",
       "      <td>SUCCEEDED</td>\n",
       "      <td>None</td>\n",
       "      <td>True</td>\n",
       "    </tr>\n",
       "    <tr>\n",
       "      <th>1</th>\n",
       "      <td>2</td>\n",
       "      <td>{'learn_rate': 0.08037568518392833, 'max_tree_...</td>\n",
       "      <td>{'roc_auc': 0.9646453546453546}</td>\n",
       "      <td>0.197534</td>\n",
       "      <td>0.199113</td>\n",
       "      <td>SUCCEEDED</td>\n",
       "      <td>None</td>\n",
       "      <td>False</td>\n",
       "    </tr>\n",
       "    <tr>\n",
       "      <th>2</th>\n",
       "      <td>3</td>\n",
       "      <td>{'learn_rate': 0.058869980332422585, 'max_tree...</td>\n",
       "      <td>{'roc_auc': 0.9668451548451549}</td>\n",
       "      <td>0.248451</td>\n",
       "      <td>0.249617</td>\n",
       "      <td>SUCCEEDED</td>\n",
       "      <td>None</td>\n",
       "      <td>False</td>\n",
       "    </tr>\n",
       "    <tr>\n",
       "      <th>3</th>\n",
       "      <td>4</td>\n",
       "      <td>{'learn_rate': 0.08225741056931951, 'max_tree_...</td>\n",
       "      <td>{'roc_auc': 0.9686253746253747}</td>\n",
       "      <td>0.190284</td>\n",
       "      <td>0.193419</td>\n",
       "      <td>SUCCEEDED</td>\n",
       "      <td>None</td>\n",
       "      <td>False</td>\n",
       "    </tr>\n",
       "    <tr>\n",
       "      <th>4</th>\n",
       "      <td>5</td>\n",
       "      <td>{'learn_rate': 0.0848660211495532, 'max_tree_d...</td>\n",
       "      <td>{'roc_auc': 0.9645034965034965}</td>\n",
       "      <td>0.189796</td>\n",
       "      <td>0.191551</td>\n",
       "      <td>SUCCEEDED</td>\n",
       "      <td>None</td>\n",
       "      <td>False</td>\n",
       "    </tr>\n",
       "  </tbody>\n",
       "</table>\n",
       "</div>"
      ],
      "text/plain": [
       "   trial_id                                    hyperparameters  \\\n",
       "0         1           {'learn_rate': 0.1, 'max_tree_depth': 6}   \n",
       "1         2  {'learn_rate': 0.08037568518392833, 'max_tree_...   \n",
       "2         3  {'learn_rate': 0.058869980332422585, 'max_tree...   \n",
       "3         4  {'learn_rate': 0.08225741056931951, 'max_tree_...   \n",
       "4         5  {'learn_rate': 0.0848660211495532, 'max_tree_d...   \n",
       "\n",
       "  hparam_tuning_evaluation_metrics  training_loss  eval_loss     status  \\\n",
       "0   {'roc_auc': 0.969012987012987}       0.164175   0.167775  SUCCEEDED   \n",
       "1  {'roc_auc': 0.9646453546453546}       0.197534   0.199113  SUCCEEDED   \n",
       "2  {'roc_auc': 0.9668451548451549}       0.248451   0.249617  SUCCEEDED   \n",
       "3  {'roc_auc': 0.9686253746253747}       0.190284   0.193419  SUCCEEDED   \n",
       "4  {'roc_auc': 0.9645034965034965}       0.189796   0.191551  SUCCEEDED   \n",
       "\n",
       "  error_message  is_optimal  \n",
       "0          None        True  \n",
       "1          None       False  \n",
       "2          None       False  \n",
       "3          None       False  \n",
       "4          None       False  "
      ]
     },
     "execution_count": 17,
     "metadata": {},
     "output_type": "execute_result"
    }
   ],
   "source": [
    "%%bigquery --project $PROJECT_ID\n",
    "\n",
    "SELECT *\n",
    "FROM\n",
    "  ML.TRIAL_INFO(MODEL `kavitha_capstone_dataset.addtocart_xgb16`);"
   ]
  },
  {
   "cell_type": "code",
   "execution_count": 18,
   "id": "0cec3a7c-eb5a-4a76-b5f6-9bf2f774533e",
   "metadata": {
    "tags": []
   },
   "outputs": [
    {
     "data": {
      "application/vnd.jupyter.widget-view+json": {
       "model_id": "3b7bc75f7a284b8aa8c31eaa0db911ce",
       "version_major": 2,
       "version_minor": 0
      },
      "text/plain": [
       "Query is running:   0%|          |"
      ]
     },
     "metadata": {},
     "output_type": "display_data"
    },
    {
     "data": {
      "application/vnd.jupyter.widget-view+json": {
       "model_id": "b1ad2e2da44549cb8ea21ac0bc7a0e61",
       "version_major": 2,
       "version_minor": 0
      },
      "text/plain": [
       "Downloading:   0%|          |"
      ]
     },
     "metadata": {},
     "output_type": "display_data"
    },
    {
     "data": {
      "text/html": [
       "<div>\n",
       "<style scoped>\n",
       "    .dataframe tbody tr th:only-of-type {\n",
       "        vertical-align: middle;\n",
       "    }\n",
       "\n",
       "    .dataframe tbody tr th {\n",
       "        vertical-align: top;\n",
       "    }\n",
       "\n",
       "    .dataframe thead th {\n",
       "        text-align: right;\n",
       "    }\n",
       "</style>\n",
       "<table border=\"1\" class=\"dataframe\">\n",
       "  <thead>\n",
       "    <tr style=\"text-align: right;\">\n",
       "      <th></th>\n",
       "      <th>trial_id</th>\n",
       "      <th>precision</th>\n",
       "      <th>recall</th>\n",
       "      <th>accuracy</th>\n",
       "      <th>f1_score</th>\n",
       "      <th>log_loss</th>\n",
       "      <th>roc_auc</th>\n",
       "    </tr>\n",
       "  </thead>\n",
       "  <tbody>\n",
       "    <tr>\n",
       "      <th>0</th>\n",
       "      <td>1</td>\n",
       "      <td>0.697368</td>\n",
       "      <td>0.475336</td>\n",
       "      <td>0.949269</td>\n",
       "      <td>0.565333</td>\n",
       "      <td>0.160076</td>\n",
       "      <td>0.970337</td>\n",
       "    </tr>\n",
       "  </tbody>\n",
       "</table>\n",
       "</div>"
      ],
      "text/plain": [
       "   trial_id  precision    recall  accuracy  f1_score  log_loss   roc_auc\n",
       "0         1   0.697368  0.475336  0.949269  0.565333  0.160076  0.970337"
      ]
     },
     "execution_count": 18,
     "metadata": {},
     "output_type": "execute_result"
    }
   ],
   "source": [
    "%%bigquery --project $PROJECT_ID\n",
    "\n",
    "SELECT\n",
    "  *\n",
    "FROM\n",
    "  ML.EVALUATE(MODEL kavitha_capstone_dataset.addtocart_xgb16)\n",
    "WHERE trial_id=1;"
   ]
  },
  {
   "cell_type": "code",
   "execution_count": 19,
   "id": "bed9cdf4-6cec-4498-a367-cd7b34012514",
   "metadata": {
    "tags": []
   },
   "outputs": [
    {
     "data": {
      "application/vnd.jupyter.widget-view+json": {
       "model_id": "d6d1d5deb3854a8f8be407653120abec",
       "version_major": 2,
       "version_minor": 0
      },
      "text/plain": [
       "Query is running:   0%|          |"
      ]
     },
     "metadata": {},
     "output_type": "display_data"
    },
    {
     "data": {
      "application/vnd.jupyter.widget-view+json": {
       "model_id": "5d083a3f0cce48df905b1974c57c4724",
       "version_major": 2,
       "version_minor": 0
      },
      "text/plain": [
       "Downloading:   0%|          |"
      ]
     },
     "metadata": {},
     "output_type": "display_data"
    },
    {
     "data": {
      "text/html": [
       "<div>\n",
       "<style scoped>\n",
       "    .dataframe tbody tr th:only-of-type {\n",
       "        vertical-align: middle;\n",
       "    }\n",
       "\n",
       "    .dataframe tbody tr th {\n",
       "        vertical-align: top;\n",
       "    }\n",
       "\n",
       "    .dataframe thead th {\n",
       "        text-align: right;\n",
       "    }\n",
       "</style>\n",
       "<table border=\"1\" class=\"dataframe\">\n",
       "  <thead>\n",
       "    <tr style=\"text-align: right;\">\n",
       "      <th></th>\n",
       "      <th>expected_label</th>\n",
       "      <th>predicted_0</th>\n",
       "      <th>predicted_1</th>\n",
       "    </tr>\n",
       "  </thead>\n",
       "  <tbody>\n",
       "    <tr>\n",
       "      <th>0</th>\n",
       "      <td>0</td>\n",
       "      <td>5888</td>\n",
       "      <td>92</td>\n",
       "    </tr>\n",
       "    <tr>\n",
       "      <th>1</th>\n",
       "      <td>1</td>\n",
       "      <td>234</td>\n",
       "      <td>212</td>\n",
       "    </tr>\n",
       "    <tr>\n",
       "      <th>2</th>\n",
       "      <td>0</td>\n",
       "      <td>5885</td>\n",
       "      <td>95</td>\n",
       "    </tr>\n",
       "    <tr>\n",
       "      <th>3</th>\n",
       "      <td>1</td>\n",
       "      <td>241</td>\n",
       "      <td>205</td>\n",
       "    </tr>\n",
       "    <tr>\n",
       "      <th>4</th>\n",
       "      <td>0</td>\n",
       "      <td>5880</td>\n",
       "      <td>100</td>\n",
       "    </tr>\n",
       "    <tr>\n",
       "      <th>5</th>\n",
       "      <td>1</td>\n",
       "      <td>242</td>\n",
       "      <td>204</td>\n",
       "    </tr>\n",
       "    <tr>\n",
       "      <th>6</th>\n",
       "      <td>0</td>\n",
       "      <td>5889</td>\n",
       "      <td>91</td>\n",
       "    </tr>\n",
       "    <tr>\n",
       "      <th>7</th>\n",
       "      <td>1</td>\n",
       "      <td>231</td>\n",
       "      <td>215</td>\n",
       "    </tr>\n",
       "    <tr>\n",
       "      <th>8</th>\n",
       "      <td>0</td>\n",
       "      <td>5878</td>\n",
       "      <td>102</td>\n",
       "    </tr>\n",
       "    <tr>\n",
       "      <th>9</th>\n",
       "      <td>1</td>\n",
       "      <td>239</td>\n",
       "      <td>207</td>\n",
       "    </tr>\n",
       "  </tbody>\n",
       "</table>\n",
       "</div>"
      ],
      "text/plain": [
       "  expected_label  predicted_0  predicted_1\n",
       "0              0         5888           92\n",
       "1              1          234          212\n",
       "2              0         5885           95\n",
       "3              1          241          205\n",
       "4              0         5880          100\n",
       "5              1          242          204\n",
       "6              0         5889           91\n",
       "7              1          231          215\n",
       "8              0         5878          102\n",
       "9              1          239          207"
      ]
     },
     "execution_count": 19,
     "metadata": {},
     "output_type": "execute_result"
    }
   ],
   "source": [
    "%%bigquery --project $PROJECT_ID\n",
    "\n",
    "SELECT\n",
    "  expected_label,\n",
    "    _0 AS predicted_0,\n",
    "      _1 AS predicted_1\n",
    "      \n",
    "FROM\n",
    "  ML.CONFUSION_MATRIX(MODEL kavitha_capstone_dataset.addtocart_xgb16) "
   ]
  },
  {
   "cell_type": "code",
   "execution_count": 20,
   "id": "8f6687c5-328c-4dba-9085-b0b7c3a985a7",
   "metadata": {
    "tags": []
   },
   "outputs": [
    {
     "data": {
      "application/vnd.jupyter.widget-view+json": {
       "model_id": "ea9eb8fd434a4c5d801aa676ab3bd477",
       "version_major": 2,
       "version_minor": 0
      },
      "text/plain": [
       "Query is running:   0%|          |"
      ]
     },
     "metadata": {},
     "output_type": "display_data"
    },
    {
     "data": {
      "application/vnd.jupyter.widget-view+json": {
       "model_id": "4276ce1a3af343b497293b8a69f91efc",
       "version_major": 2,
       "version_minor": 0
      },
      "text/plain": [
       "Downloading:   0%|          |"
      ]
     },
     "metadata": {},
     "output_type": "display_data"
    },
    {
     "data": {
      "text/html": [
       "<div>\n",
       "<style scoped>\n",
       "    .dataframe tbody tr th:only-of-type {\n",
       "        vertical-align: middle;\n",
       "    }\n",
       "\n",
       "    .dataframe tbody tr th {\n",
       "        vertical-align: top;\n",
       "    }\n",
       "\n",
       "    .dataframe thead th {\n",
       "        text-align: right;\n",
       "    }\n",
       "</style>\n",
       "<table border=\"1\" class=\"dataframe\">\n",
       "  <thead>\n",
       "    <tr style=\"text-align: right;\">\n",
       "      <th></th>\n",
       "      <th>trial_id</th>\n",
       "      <th>feature</th>\n",
       "      <th>attribution</th>\n",
       "    </tr>\n",
       "  </thead>\n",
       "  <tbody>\n",
       "    <tr>\n",
       "      <th>0</th>\n",
       "      <td>1</td>\n",
       "      <td>hits</td>\n",
       "      <td>0.410175</td>\n",
       "    </tr>\n",
       "    <tr>\n",
       "      <th>1</th>\n",
       "      <td>1</td>\n",
       "      <td>pageViews</td>\n",
       "      <td>0.141595</td>\n",
       "    </tr>\n",
       "    <tr>\n",
       "      <th>2</th>\n",
       "      <td>1</td>\n",
       "      <td>bounces</td>\n",
       "      <td>0.045911</td>\n",
       "    </tr>\n",
       "    <tr>\n",
       "      <th>3</th>\n",
       "      <td>1</td>\n",
       "      <td>timeOnSite</td>\n",
       "      <td>0.036549</td>\n",
       "    </tr>\n",
       "    <tr>\n",
       "      <th>4</th>\n",
       "      <td>1</td>\n",
       "      <td>country</td>\n",
       "      <td>0.010229</td>\n",
       "    </tr>\n",
       "    <tr>\n",
       "      <th>5</th>\n",
       "      <td>1</td>\n",
       "      <td>operatingSystem</td>\n",
       "      <td>0.007042</td>\n",
       "    </tr>\n",
       "    <tr>\n",
       "      <th>6</th>\n",
       "      <td>1</td>\n",
       "      <td>source</td>\n",
       "      <td>0.006906</td>\n",
       "    </tr>\n",
       "    <tr>\n",
       "      <th>7</th>\n",
       "      <td>1</td>\n",
       "      <td>channel_grouping</td>\n",
       "      <td>0.004591</td>\n",
       "    </tr>\n",
       "    <tr>\n",
       "      <th>8</th>\n",
       "      <td>1</td>\n",
       "      <td>deviceCategory</td>\n",
       "      <td>0.002933</td>\n",
       "    </tr>\n",
       "    <tr>\n",
       "      <th>9</th>\n",
       "      <td>1</td>\n",
       "      <td>medium</td>\n",
       "      <td>0.001394</td>\n",
       "    </tr>\n",
       "  </tbody>\n",
       "</table>\n",
       "</div>"
      ],
      "text/plain": [
       "   trial_id           feature  attribution\n",
       "0         1              hits     0.410175\n",
       "1         1         pageViews     0.141595\n",
       "2         1           bounces     0.045911\n",
       "3         1        timeOnSite     0.036549\n",
       "4         1           country     0.010229\n",
       "5         1   operatingSystem     0.007042\n",
       "6         1            source     0.006906\n",
       "7         1  channel_grouping     0.004591\n",
       "8         1    deviceCategory     0.002933\n",
       "9         1            medium     0.001394"
      ]
     },
     "execution_count": 20,
     "metadata": {},
     "output_type": "execute_result"
    }
   ],
   "source": [
    "%%bigquery --project $PROJECT_ID\n",
    "\n",
    "SELECT\n",
    "  *\n",
    "FROM\n",
    "  ML.GLOBAL_EXPLAIN(MODEL kavitha_capstone_dataset.addtocart_xgb16)\n",
    "ORDER BY\n",
    "  attribution DESC;"
   ]
  },
  {
   "cell_type": "code",
   "execution_count": 21,
   "id": "f92b7568-a54d-4ddb-9338-5254f725bdc7",
   "metadata": {
    "tags": []
   },
   "outputs": [
    {
     "data": {
      "application/vnd.jupyter.widget-view+json": {
       "model_id": "8f183af2a6d84264aeb5adf0e2ab3cf0",
       "version_major": 2,
       "version_minor": 0
      },
      "text/plain": [
       "Query is running:   0%|          |"
      ]
     },
     "metadata": {},
     "output_type": "display_data"
    },
    {
     "data": {
      "application/vnd.jupyter.widget-view+json": {
       "model_id": "b8e60b79ae3a49a4879e3ad0dcdce4df",
       "version_major": 2,
       "version_minor": 0
      },
      "text/plain": [
       "Downloading:   0%|          |"
      ]
     },
     "metadata": {},
     "output_type": "display_data"
    }
   ],
   "source": [
    "%%bigquery feature_attribution_df --project $PROJECT_ID\n",
    "\n",
    "SELECT\n",
    "  *\n",
    "FROM\n",
    "  ML.GLOBAL_EXPLAIN(MODEL kavitha_capstone_dataset.addtocart_xgb16)\n",
    "ORDER BY\n",
    "  attribution DESC;"
   ]
  },
  {
   "cell_type": "code",
   "execution_count": 22,
   "id": "cf05a7e9-c869-439d-a4ad-1e367cb656dc",
   "metadata": {
    "tags": []
   },
   "outputs": [
    {
     "data": {
      "image/png": "[encoded data removed]",
      "text/plain": [
       "<Figure size 600x300 with 1 Axes>"
      ]
     },
     "metadata": {},
     "output_type": "display_data"
    }
   ],
   "source": [
    "feature_attribution_df.plot.bar(x=\"feature\", y=\"attribution\", figsize = (6,3), color = \"orange\")\n",
    "plt.title(\"Model:addtocart_xgb16\")\n",
    "plt.xlabel(\"Features\")\n",
    "plt.ylabel(\"Attribution\")\n",
    "plt.show()"
   ]
  },
  {
   "cell_type": "code",
   "execution_count": 23,
   "id": "2948b253-dd56-4963-9601-b44c1f2facf7",
   "metadata": {
    "tags": []
   },
   "outputs": [
    {
     "data": {
      "application/vnd.jupyter.widget-view+json": {
       "model_id": "8694a6ea55a34791a5c0a1754ce731ea",
       "version_major": 2,
       "version_minor": 0
      },
      "text/plain": [
       "Query is running:   0%|          |"
      ]
     },
     "metadata": {},
     "output_type": "display_data"
    },
    {
     "data": {
      "application/vnd.jupyter.widget-view+json": {
       "model_id": "c00b9b8d1f314f67ae1fb664dca1e392",
       "version_major": 2,
       "version_minor": 0
      },
      "text/plain": [
       "Downloading:   0%|          |"
      ]
     },
     "metadata": {},
     "output_type": "display_data"
    }
   ],
   "source": [
    "%%bigquery df --project $PROJECT_ID\n",
    "\n",
    "SELECT\n",
    "  *\n",
    "FROM\n",
    "  ML.PREDICT(MODEL kavitha_capstone_dataset.addtocart_xgb16,\n",
    "  (SELECT * EXCEPT(Id) FROM kavitha_capstone_dataset.ga_data WHERE data_split = \"TEST\" ))"
   ]
  },
  {
   "cell_type": "code",
   "execution_count": 24,
   "id": "90be4d30-b5b7-4114-beda-c5a14469977f",
   "metadata": {
    "tags": []
   },
   "outputs": [
    {
     "name": "stdout",
     "output_type": "stream",
     "text": [
      "Accuracy : 0.9493\n",
      "Precision : 0.6974\n",
      "Recall : 0.4753\n",
      "Confusion Matrix : \n",
      "[[5888   92]\n",
      " [ 234  212]]\n"
     ]
    }
   ],
   "source": [
    "results_df = test_metrics(df)"
   ]
  },
  {
   "cell_type": "code",
   "execution_count": 25,
   "id": "7fc44e63-2b4d-45a8-9a64-80133a7057f2",
   "metadata": {
    "tags": []
   },
   "outputs": [
    {
     "data": {
      "application/vnd.jupyter.widget-view+json": {
       "model_id": "d4ec2dfdd29d4c86a65523afe66ba10a",
       "version_major": 2,
       "version_minor": 0
      },
      "text/plain": [
       "Query is running:   0%|          |"
      ]
     },
     "metadata": {},
     "output_type": "display_data"
    },
    {
     "data": {
      "text/html": [
       "<div>\n",
       "<style scoped>\n",
       "    .dataframe tbody tr th:only-of-type {\n",
       "        vertical-align: middle;\n",
       "    }\n",
       "\n",
       "    .dataframe tbody tr th {\n",
       "        vertical-align: top;\n",
       "    }\n",
       "\n",
       "    .dataframe thead th {\n",
       "        text-align: right;\n",
       "    }\n",
       "</style>\n",
       "<table border=\"1\" class=\"dataframe\">\n",
       "  <thead>\n",
       "    <tr style=\"text-align: right;\">\n",
       "      <th></th>\n",
       "    </tr>\n",
       "  </thead>\n",
       "  <tbody>\n",
       "  </tbody>\n",
       "</table>\n",
       "</div>"
      ],
      "text/plain": [
       "Empty DataFrame\n",
       "Columns: []\n",
       "Index: []"
      ]
     },
     "execution_count": 25,
     "metadata": {},
     "output_type": "execute_result"
    }
   ],
   "source": [
    "%%bigquery --project $PROJECT_ID\n",
    "\n",
    "CREATE OR REPLACE MODEL kavitha_capstone_dataset.addtocart_xgb15\n",
    "\n",
    "OPTIONS(\n",
    "  MODEL_TYPE=\"LOGISTIC_REG\",\n",
    "  # Declare label column.\n",
    "  INPUT_LABEL_COLS=[\"will_add_to_cart\"],\n",
    "# Enable Vertex Explainable AI aggregated feature attributions.\n",
    "  ENABLE_GLOBAL_EXPLAIN=True,\n",
    "  MODEL_REGISTRY=\"VERTEX_AI\"\n",
    ") AS\n",
    "\n",
    "SELECT\n",
    "    channel_grouping, hits, timeOnSite, pageViews, operatingSystem, country, will_add_to_cart\n",
    "FROM\n",
    "  kavitha_capstone_dataset.ga_data\n",
    "WHERE \n",
    "    data_split = \"TRAIN\""
   ]
  },
  {
   "cell_type": "code",
   "execution_count": 26,
   "id": "ab361a0c-e62d-4404-9719-721d92f7bf1f",
   "metadata": {
    "tags": []
   },
   "outputs": [
    {
     "data": {
      "application/vnd.jupyter.widget-view+json": {
       "model_id": "476296ab0b3e4296aa1b4fa206099ef3",
       "version_major": 2,
       "version_minor": 0
      },
      "text/plain": [
       "Query is running:   0%|          |"
      ]
     },
     "metadata": {},
     "output_type": "display_data"
    },
    {
     "data": {
      "application/vnd.jupyter.widget-view+json": {
       "model_id": "f04a0bf156454c6e860d9193471ef433",
       "version_major": 2,
       "version_minor": 0
      },
      "text/plain": [
       "Downloading:   0%|          |"
      ]
     },
     "metadata": {},
     "output_type": "display_data"
    },
    {
     "data": {
      "text/html": [
       "<div>\n",
       "<style scoped>\n",
       "    .dataframe tbody tr th:only-of-type {\n",
       "        vertical-align: middle;\n",
       "    }\n",
       "\n",
       "    .dataframe tbody tr th {\n",
       "        vertical-align: top;\n",
       "    }\n",
       "\n",
       "    .dataframe thead th {\n",
       "        text-align: right;\n",
       "    }\n",
       "</style>\n",
       "<table border=\"1\" class=\"dataframe\">\n",
       "  <thead>\n",
       "    <tr style=\"text-align: right;\">\n",
       "      <th></th>\n",
       "      <th>precision</th>\n",
       "      <th>recall</th>\n",
       "      <th>accuracy</th>\n",
       "      <th>f1_score</th>\n",
       "      <th>log_loss</th>\n",
       "      <th>roc_auc</th>\n",
       "    </tr>\n",
       "  </thead>\n",
       "  <tbody>\n",
       "    <tr>\n",
       "      <th>0</th>\n",
       "      <td>0.724057</td>\n",
       "      <td>0.403947</td>\n",
       "      <td>0.942529</td>\n",
       "      <td>0.518581</td>\n",
       "      <td>0.159882</td>\n",
       "      <td>0.938353</td>\n",
       "    </tr>\n",
       "  </tbody>\n",
       "</table>\n",
       "</div>"
      ],
      "text/plain": [
       "   precision    recall  accuracy  f1_score  log_loss   roc_auc\n",
       "0   0.724057  0.403947  0.942529  0.518581  0.159882  0.938353"
      ]
     },
     "execution_count": 26,
     "metadata": {},
     "output_type": "execute_result"
    }
   ],
   "source": [
    "%%bigquery --project $PROJECT_ID\n",
    "\n",
    "SELECT\n",
    "  *\n",
    "FROM\n",
    "  ML.EVALUATE(MODEL kavitha_capstone_dataset.addtocart_xgb15)"
   ]
  },
  {
   "cell_type": "code",
   "execution_count": 27,
   "id": "a621a903-9d8a-47fb-a2a5-dae0aaecd3db",
   "metadata": {
    "tags": []
   },
   "outputs": [
    {
     "data": {
      "application/vnd.jupyter.widget-view+json": {
       "model_id": "36555e68c7ef4207ba3e69349a1f8a27",
       "version_major": 2,
       "version_minor": 0
      },
      "text/plain": [
       "Query is running:   0%|          |"
      ]
     },
     "metadata": {},
     "output_type": "display_data"
    },
    {
     "data": {
      "application/vnd.jupyter.widget-view+json": {
       "model_id": "0c18af91c29d4eb19139466a7e33d6de",
       "version_major": 2,
       "version_minor": 0
      },
      "text/plain": [
       "Downloading:   0%|          |"
      ]
     },
     "metadata": {},
     "output_type": "display_data"
    },
    {
     "data": {
      "text/html": [
       "<div>\n",
       "<style scoped>\n",
       "    .dataframe tbody tr th:only-of-type {\n",
       "        vertical-align: middle;\n",
       "    }\n",
       "\n",
       "    .dataframe tbody tr th {\n",
       "        vertical-align: top;\n",
       "    }\n",
       "\n",
       "    .dataframe thead th {\n",
       "        text-align: right;\n",
       "    }\n",
       "</style>\n",
       "<table border=\"1\" class=\"dataframe\">\n",
       "  <thead>\n",
       "    <tr style=\"text-align: right;\">\n",
       "      <th></th>\n",
       "      <th>expected_label</th>\n",
       "      <th>predicted_0</th>\n",
       "      <th>predicted_1</th>\n",
       "    </tr>\n",
       "  </thead>\n",
       "  <tbody>\n",
       "    <tr>\n",
       "      <th>0</th>\n",
       "      <td>0</td>\n",
       "      <td>9041</td>\n",
       "      <td>117</td>\n",
       "    </tr>\n",
       "    <tr>\n",
       "      <th>1</th>\n",
       "      <td>1</td>\n",
       "      <td>453</td>\n",
       "      <td>307</td>\n",
       "    </tr>\n",
       "  </tbody>\n",
       "</table>\n",
       "</div>"
      ],
      "text/plain": [
       "  expected_label  predicted_0  predicted_1\n",
       "0              0         9041          117\n",
       "1              1          453          307"
      ]
     },
     "execution_count": 27,
     "metadata": {},
     "output_type": "execute_result"
    }
   ],
   "source": [
    "%%bigquery --project $PROJECT_ID\n",
    "\n",
    "SELECT\n",
    "  expected_label,\n",
    "    _0 AS predicted_0,\n",
    "      _1 AS predicted_1\n",
    "      \n",
    "FROM\n",
    "  ML.CONFUSION_MATRIX(MODEL kavitha_capstone_dataset.addtocart_xgb15) "
   ]
  },
  {
   "cell_type": "code",
   "execution_count": 28,
   "id": "818d0916-2eda-4f1b-9779-76c1165ce888",
   "metadata": {
    "tags": []
   },
   "outputs": [
    {
     "data": {
      "application/vnd.jupyter.widget-view+json": {
       "model_id": "ecfdc95799d242a89345b1bb001a855d",
       "version_major": 2,
       "version_minor": 0
      },
      "text/plain": [
       "Query is running:   0%|          |"
      ]
     },
     "metadata": {},
     "output_type": "display_data"
    },
    {
     "data": {
      "application/vnd.jupyter.widget-view+json": {
       "model_id": "210e27b9e25d437d9a4aa796640ebba9",
       "version_major": 2,
       "version_minor": 0
      },
      "text/plain": [
       "Downloading:   0%|          |"
      ]
     },
     "metadata": {},
     "output_type": "display_data"
    },
    {
     "data": {
      "text/html": [
       "<div>\n",
       "<style scoped>\n",
       "    .dataframe tbody tr th:only-of-type {\n",
       "        vertical-align: middle;\n",
       "    }\n",
       "\n",
       "    .dataframe tbody tr th {\n",
       "        vertical-align: top;\n",
       "    }\n",
       "\n",
       "    .dataframe thead th {\n",
       "        text-align: right;\n",
       "    }\n",
       "</style>\n",
       "<table border=\"1\" class=\"dataframe\">\n",
       "  <thead>\n",
       "    <tr style=\"text-align: right;\">\n",
       "      <th></th>\n",
       "      <th>feature</th>\n",
       "      <th>attribution</th>\n",
       "    </tr>\n",
       "  </thead>\n",
       "  <tbody>\n",
       "    <tr>\n",
       "      <th>0</th>\n",
       "      <td>country</td>\n",
       "      <td>0.805337</td>\n",
       "    </tr>\n",
       "    <tr>\n",
       "      <th>1</th>\n",
       "      <td>channel_grouping</td>\n",
       "      <td>0.804291</td>\n",
       "    </tr>\n",
       "    <tr>\n",
       "      <th>2</th>\n",
       "      <td>operatingSystem</td>\n",
       "      <td>0.802220</td>\n",
       "    </tr>\n",
       "    <tr>\n",
       "      <th>3</th>\n",
       "      <td>hits</td>\n",
       "      <td>0.428778</td>\n",
       "    </tr>\n",
       "    <tr>\n",
       "      <th>4</th>\n",
       "      <td>pageViews</td>\n",
       "      <td>0.377067</td>\n",
       "    </tr>\n",
       "    <tr>\n",
       "      <th>5</th>\n",
       "      <td>timeOnSite</td>\n",
       "      <td>0.088520</td>\n",
       "    </tr>\n",
       "  </tbody>\n",
       "</table>\n",
       "</div>"
      ],
      "text/plain": [
       "            feature  attribution\n",
       "0           country     0.805337\n",
       "1  channel_grouping     0.804291\n",
       "2   operatingSystem     0.802220\n",
       "3              hits     0.428778\n",
       "4         pageViews     0.377067\n",
       "5        timeOnSite     0.088520"
      ]
     },
     "execution_count": 28,
     "metadata": {},
     "output_type": "execute_result"
    }
   ],
   "source": [
    "%%bigquery --project $PROJECT_ID\n",
    "\n",
    "SELECT\n",
    "  *\n",
    "FROM\n",
    "  ML.GLOBAL_EXPLAIN(MODEL kavitha_capstone_dataset.addtocart_xgb15)\n",
    "ORDER BY\n",
    "  attribution DESC;"
   ]
  },
  {
   "cell_type": "code",
   "execution_count": 29,
   "id": "94d36108-b49d-479a-8682-94134f9a811e",
   "metadata": {
    "tags": []
   },
   "outputs": [
    {
     "data": {
      "application/vnd.jupyter.widget-view+json": {
       "model_id": "af4cff41fe134c98ab899bc628f82cb7",
       "version_major": 2,
       "version_minor": 0
      },
      "text/plain": [
       "Query is running:   0%|          |"
      ]
     },
     "metadata": {},
     "output_type": "display_data"
    },
    {
     "data": {
      "application/vnd.jupyter.widget-view+json": {
       "model_id": "11398773ed88452ab0dc2ab02552820b",
       "version_major": 2,
       "version_minor": 0
      },
      "text/plain": [
       "Downloading:   0%|          |"
      ]
     },
     "metadata": {},
     "output_type": "display_data"
    }
   ],
   "source": [
    "%%bigquery df --project $PROJECT_ID\n",
    "\n",
    "SELECT\n",
    "  *\n",
    "FROM\n",
    "  ML.PREDICT(MODEL kavitha_capstone_dataset.addtocart_xgb15,\n",
    "  (SELECT\n",
    "    channel_grouping, hits, timeOnSite, pageViews, operatingSystem, bounces, source,medium, country, hasSocialSourceReferral,data_split, will_add_to_cart\n",
    "FROM\n",
    "  kavitha_capstone_dataset.ga_data WHERE data_split = \"TEST\"))"
   ]
  },
  {
   "cell_type": "code",
   "execution_count": 31,
   "id": "2d3ac6cb-9311-4384-99e2-b3fc42fa837b",
   "metadata": {
    "tags": []
   },
   "outputs": [
    {
     "name": "stdout",
     "output_type": "stream",
     "text": [
      "Accuracy : 0.9483\n",
      "Precision : 0.7436\n",
      "Recall : 0.3901\n",
      "Confusion Matrix : \n",
      "[[5920   60]\n",
      " [ 272  174]]\n"
     ]
    }
   ],
   "source": [
    "test_metrics(df)"
   ]
  },
  {
   "cell_type": "code",
   "execution_count": 32,
   "id": "925fbecc-358c-476c-bbd9-ec988424336b",
   "metadata": {
    "tags": []
   },
   "outputs": [
    {
     "data": {
      "application/vnd.jupyter.widget-view+json": {
       "model_id": "507fe0e05bf54023913cef1b776f8d03",
       "version_major": 2,
       "version_minor": 0
      },
      "text/plain": [
       "Query is running:   0%|          |"
      ]
     },
     "metadata": {},
     "output_type": "display_data"
    },
    {
     "data": {
      "text/html": [
       "<div>\n",
       "<style scoped>\n",
       "    .dataframe tbody tr th:only-of-type {\n",
       "        vertical-align: middle;\n",
       "    }\n",
       "\n",
       "    .dataframe tbody tr th {\n",
       "        vertical-align: top;\n",
       "    }\n",
       "\n",
       "    .dataframe thead th {\n",
       "        text-align: right;\n",
       "    }\n",
       "</style>\n",
       "<table border=\"1\" class=\"dataframe\">\n",
       "  <thead>\n",
       "    <tr style=\"text-align: right;\">\n",
       "      <th></th>\n",
       "    </tr>\n",
       "  </thead>\n",
       "  <tbody>\n",
       "  </tbody>\n",
       "</table>\n",
       "</div>"
      ],
      "text/plain": [
       "Empty DataFrame\n",
       "Columns: []\n",
       "Index: []"
      ]
     },
     "execution_count": 32,
     "metadata": {},
     "output_type": "execute_result"
    }
   ],
   "source": [
    "%%bigquery --project $PROJECT_ID\n",
    "\n",
    "CREATE OR REPLACE MODEL kavitha_capstone_dataset.addtocart_xgb13\n",
    "\n",
    "OPTIONS(\n",
    "  MODEL_TYPE=\"LOGISTIC_REG\",\n",
    "  AUTO_CLASS_WEIGHTS=TRUE,  \n",
    "  # Declare label column.\n",
    "  INPUT_LABEL_COLS=[\"will_add_to_cart\"],\n",
    "  # Specify custom data splitting using the `data_split` column.\n",
    "  DATA_SPLIT_METHOD=\"NO_SPLIT\",\n",
    "  MODEL_REGISTRY=\"VERTEX_AI\"\n",
    ") AS\n",
    "\n",
    "SELECT\n",
    "    channel_grouping, hits, timeOnSite, pageViews, operatingSystem, country, will_add_to_cart\n",
    "FROM\n",
    "  kavitha_capstone_dataset.ga_data\n",
    "WHERE \n",
    "    data_split = \"TRAIN\""
   ]
  },
  {
   "cell_type": "code",
   "execution_count": 33,
   "id": "bd76191d-a637-441c-a7b3-f572cad5994c",
   "metadata": {
    "tags": []
   },
   "outputs": [
    {
     "data": {
      "application/vnd.jupyter.widget-view+json": {
       "model_id": "86c42e07dbed4985adf63d1c38f00355",
       "version_major": 2,
       "version_minor": 0
      },
      "text/plain": [
       "Query is running:   0%|          |"
      ]
     },
     "metadata": {},
     "output_type": "display_data"
    },
    {
     "data": {
      "application/vnd.jupyter.widget-view+json": {
       "model_id": "6619367a70f84359a2797368ddffee63",
       "version_major": 2,
       "version_minor": 0
      },
      "text/plain": [
       "Downloading:   0%|          |"
      ]
     },
     "metadata": {},
     "output_type": "display_data"
    },
    {
     "data": {
      "text/html": [
       "<div>\n",
       "<style scoped>\n",
       "    .dataframe tbody tr th:only-of-type {\n",
       "        vertical-align: middle;\n",
       "    }\n",
       "\n",
       "    .dataframe tbody tr th {\n",
       "        vertical-align: top;\n",
       "    }\n",
       "\n",
       "    .dataframe thead th {\n",
       "        text-align: right;\n",
       "    }\n",
       "</style>\n",
       "<table border=\"1\" class=\"dataframe\">\n",
       "  <thead>\n",
       "    <tr style=\"text-align: right;\">\n",
       "      <th></th>\n",
       "      <th>precision</th>\n",
       "      <th>recall</th>\n",
       "      <th>accuracy</th>\n",
       "      <th>f1_score</th>\n",
       "      <th>log_loss</th>\n",
       "      <th>roc_auc</th>\n",
       "    </tr>\n",
       "  </thead>\n",
       "  <tbody>\n",
       "    <tr>\n",
       "      <th>0</th>\n",
       "      <td>0.411548</td>\n",
       "      <td>0.823933</td>\n",
       "      <td>0.898273</td>\n",
       "      <td>0.548917</td>\n",
       "      <td>0.365603</td>\n",
       "      <td>0.946312</td>\n",
       "    </tr>\n",
       "  </tbody>\n",
       "</table>\n",
       "</div>"
      ],
      "text/plain": [
       "   precision    recall  accuracy  f1_score  log_loss   roc_auc\n",
       "0   0.411548  0.823933  0.898273  0.548917  0.365603  0.946312"
      ]
     },
     "execution_count": 33,
     "metadata": {},
     "output_type": "execute_result"
    }
   ],
   "source": [
    "%%bigquery --project $PROJECT_ID\n",
    "\n",
    "SELECT\n",
    "  *\n",
    "FROM\n",
    "  ML.EVALUATE(MODEL kavitha_capstone_dataset.addtocart_xgb13)"
   ]
  },
  {
   "cell_type": "code",
   "execution_count": 35,
   "id": "caac7968-3045-4e1c-9de1-02829ceb790f",
   "metadata": {
    "tags": []
   },
   "outputs": [
    {
     "data": {
      "application/vnd.jupyter.widget-view+json": {
       "model_id": "ca99734857794b3e907c5dc809f8479d",
       "version_major": 2,
       "version_minor": 0
      },
      "text/plain": [
       "Query is running:   0%|          |"
      ]
     },
     "metadata": {},
     "output_type": "display_data"
    },
    {
     "data": {
      "application/vnd.jupyter.widget-view+json": {
       "model_id": "80b3ab4b6bb84d1cba906f6cf320961d",
       "version_major": 2,
       "version_minor": 0
      },
      "text/plain": [
       "Downloading:   0%|          |"
      ]
     },
     "metadata": {},
     "output_type": "display_data"
    },
    {
     "data": {
      "text/html": [
       "<div>\n",
       "<style scoped>\n",
       "    .dataframe tbody tr th:only-of-type {\n",
       "        vertical-align: middle;\n",
       "    }\n",
       "\n",
       "    .dataframe tbody tr th {\n",
       "        vertical-align: top;\n",
       "    }\n",
       "\n",
       "    .dataframe thead th {\n",
       "        text-align: right;\n",
       "    }\n",
       "</style>\n",
       "<table border=\"1\" class=\"dataframe\">\n",
       "  <thead>\n",
       "    <tr style=\"text-align: right;\">\n",
       "      <th></th>\n",
       "      <th>expected_label</th>\n",
       "      <th>predicted_0</th>\n",
       "      <th>predicted_1</th>\n",
       "    </tr>\n",
       "  </thead>\n",
       "  <tbody>\n",
       "    <tr>\n",
       "      <th>0</th>\n",
       "      <td>0</td>\n",
       "      <td>43822</td>\n",
       "      <td>4637</td>\n",
       "    </tr>\n",
       "    <tr>\n",
       "      <th>1</th>\n",
       "      <td>1</td>\n",
       "      <td>693</td>\n",
       "      <td>3243</td>\n",
       "    </tr>\n",
       "  </tbody>\n",
       "</table>\n",
       "</div>"
      ],
      "text/plain": [
       "  expected_label  predicted_0  predicted_1\n",
       "0              0        43822         4637\n",
       "1              1          693         3243"
      ]
     },
     "execution_count": 35,
     "metadata": {},
     "output_type": "execute_result"
    }
   ],
   "source": [
    "%%bigquery --project $PROJECT_ID\n",
    "\n",
    "SELECT\n",
    "  expected_label,    \n",
    "      _0 AS predicted_0,\n",
    "    _1 AS predicted_1,\n",
    "FROM\n",
    "  ML.CONFUSION_MATRIX(MODEL kavitha_capstone_dataset.addtocart_xgb13) "
   ]
  },
  {
   "cell_type": "code",
   "execution_count": 36,
   "id": "bfc7d1c7-f0c3-45f1-a88b-c23eb61dada1",
   "metadata": {
    "tags": []
   },
   "outputs": [
    {
     "data": {
      "application/vnd.jupyter.widget-view+json": {
       "model_id": "4e108bd767e248779b7bc8af022f5165",
       "version_major": 2,
       "version_minor": 0
      },
      "text/plain": [
       "Query is running:   0%|          |"
      ]
     },
     "metadata": {},
     "output_type": "display_data"
    },
    {
     "data": {
      "text/html": [
       "<div>\n",
       "<style scoped>\n",
       "    .dataframe tbody tr th:only-of-type {\n",
       "        vertical-align: middle;\n",
       "    }\n",
       "\n",
       "    .dataframe tbody tr th {\n",
       "        vertical-align: top;\n",
       "    }\n",
       "\n",
       "    .dataframe thead th {\n",
       "        text-align: right;\n",
       "    }\n",
       "</style>\n",
       "<table border=\"1\" class=\"dataframe\">\n",
       "  <thead>\n",
       "    <tr style=\"text-align: right;\">\n",
       "      <th></th>\n",
       "    </tr>\n",
       "  </thead>\n",
       "  <tbody>\n",
       "  </tbody>\n",
       "</table>\n",
       "</div>"
      ],
      "text/plain": [
       "Empty DataFrame\n",
       "Columns: []\n",
       "Index: []"
      ]
     },
     "execution_count": 36,
     "metadata": {},
     "output_type": "execute_result"
    }
   ],
   "source": [
    "%%bigquery --project $PROJECT_ID\n",
    "\n",
    "CREATE OR REPLACE MODEL kavitha_capstone_dataset.addtocart_xgb8\n",
    "\n",
    "OPTIONS(\n",
    "  MODEL_TYPE=\"LOGISTIC_REG\",\n",
    "  # Declare label column\n",
    "  INPUT_LABEL_COLS=[\"will_add_to_cart\"],\n",
    "  MODEL_REGISTRY=\"VERTEX_AI\"\n",
    ") AS\n",
    "\n",
    "SELECT\n",
    "    bounces, timeOnSite, browser, country, socialNetwork, will_add_to_cart\n",
    "FROM\n",
    "  kavitha_capstone_dataset.ga_data"
   ]
  },
  {
   "cell_type": "code",
   "execution_count": 37,
   "id": "64e629d2-6989-4740-9e0a-47fe1017cd2f",
   "metadata": {
    "tags": []
   },
   "outputs": [
    {
     "data": {
      "application/vnd.jupyter.widget-view+json": {
       "model_id": "47e8ed1fc2df47928bded570e5a014c5",
       "version_major": 2,
       "version_minor": 0
      },
      "text/plain": [
       "Query is running:   0%|          |"
      ]
     },
     "metadata": {},
     "output_type": "display_data"
    },
    {
     "data": {
      "application/vnd.jupyter.widget-view+json": {
       "model_id": "6333064147604ccba30675eafce77aa4",
       "version_major": 2,
       "version_minor": 0
      },
      "text/plain": [
       "Downloading:   0%|          |"
      ]
     },
     "metadata": {},
     "output_type": "display_data"
    },
    {
     "data": {
      "text/html": [
       "<div>\n",
       "<style scoped>\n",
       "    .dataframe tbody tr th:only-of-type {\n",
       "        vertical-align: middle;\n",
       "    }\n",
       "\n",
       "    .dataframe tbody tr th {\n",
       "        vertical-align: top;\n",
       "    }\n",
       "\n",
       "    .dataframe thead th {\n",
       "        text-align: right;\n",
       "    }\n",
       "</style>\n",
       "<table border=\"1\" class=\"dataframe\">\n",
       "  <thead>\n",
       "    <tr style=\"text-align: right;\">\n",
       "      <th></th>\n",
       "      <th>precision</th>\n",
       "      <th>recall</th>\n",
       "      <th>accuracy</th>\n",
       "      <th>f1_score</th>\n",
       "      <th>log_loss</th>\n",
       "      <th>roc_auc</th>\n",
       "    </tr>\n",
       "  </thead>\n",
       "  <tbody>\n",
       "    <tr>\n",
       "      <th>0</th>\n",
       "      <td>0.57346</td>\n",
       "      <td>0.161549</td>\n",
       "      <td>0.928699</td>\n",
       "      <td>0.252083</td>\n",
       "      <td>0.189775</td>\n",
       "      <td>0.896545</td>\n",
       "    </tr>\n",
       "  </tbody>\n",
       "</table>\n",
       "</div>"
      ],
      "text/plain": [
       "   precision    recall  accuracy  f1_score  log_loss   roc_auc\n",
       "0    0.57346  0.161549  0.928699  0.252083  0.189775  0.896545"
      ]
     },
     "execution_count": 37,
     "metadata": {},
     "output_type": "execute_result"
    }
   ],
   "source": [
    "%%bigquery --project $PROJECT_ID\n",
    "\n",
    "SELECT\n",
    "  *\n",
    "FROM\n",
    "  ML.EVALUATE(MODEL kavitha_capstone_dataset.addtocart_xgb8)"
   ]
  },
  {
   "cell_type": "code",
   "execution_count": 38,
   "id": "0755bf84-095b-41e2-87a3-d9303654411e",
   "metadata": {
    "tags": []
   },
   "outputs": [
    {
     "data": {
      "application/vnd.jupyter.widget-view+json": {
       "model_id": "825e87e49fc34209b5a42c642d51ba3b",
       "version_major": 2,
       "version_minor": 0
      },
      "text/plain": [
       "Query is running:   0%|          |"
      ]
     },
     "metadata": {},
     "output_type": "display_data"
    },
    {
     "data": {
      "application/vnd.jupyter.widget-view+json": {
       "model_id": "32c25d2f69124934ab6888367e2ab06d",
       "version_major": 2,
       "version_minor": 0
      },
      "text/plain": [
       "Downloading:   0%|          |"
      ]
     },
     "metadata": {},
     "output_type": "display_data"
    },
    {
     "data": {
      "text/html": [
       "<div>\n",
       "<style scoped>\n",
       "    .dataframe tbody tr th:only-of-type {\n",
       "        vertical-align: middle;\n",
       "    }\n",
       "\n",
       "    .dataframe tbody tr th {\n",
       "        vertical-align: top;\n",
       "    }\n",
       "\n",
       "    .dataframe thead th {\n",
       "        text-align: right;\n",
       "    }\n",
       "</style>\n",
       "<table border=\"1\" class=\"dataframe\">\n",
       "  <thead>\n",
       "    <tr style=\"text-align: right;\">\n",
       "      <th></th>\n",
       "      <th>expected_label</th>\n",
       "      <th>predicted_1</th>\n",
       "      <th>predicted_0</th>\n",
       "    </tr>\n",
       "  </thead>\n",
       "  <tbody>\n",
       "    <tr>\n",
       "      <th>0</th>\n",
       "      <td>1</td>\n",
       "      <td>121</td>\n",
       "      <td>628</td>\n",
       "    </tr>\n",
       "    <tr>\n",
       "      <th>1</th>\n",
       "      <td>0</td>\n",
       "      <td>90</td>\n",
       "      <td>9231</td>\n",
       "    </tr>\n",
       "  </tbody>\n",
       "</table>\n",
       "</div>"
      ],
      "text/plain": [
       "  expected_label  predicted_1  predicted_0\n",
       "0              1          121          628\n",
       "1              0           90         9231"
      ]
     },
     "execution_count": 38,
     "metadata": {},
     "output_type": "execute_result"
    }
   ],
   "source": [
    "%%bigquery --project $PROJECT_ID\n",
    "\n",
    "SELECT\n",
    "  expected_label,\n",
    "      _1 AS predicted_1,\n",
    "      _0 AS predicted_0\n",
    "FROM\n",
    "  ML.CONFUSION_MATRIX(MODEL kavitha_capstone_dataset.addtocart_xgb8) ORDER BY expected_label DESC\n"
   ]
  },
  {
   "cell_type": "code",
   "execution_count": 39,
   "id": "1d9fd4d6-68e6-424f-a641-bc6425714c60",
   "metadata": {
    "tags": []
   },
   "outputs": [
    {
     "data": {
      "application/vnd.jupyter.widget-view+json": {
       "model_id": "ae5fc890501b4df18f37c0439173a54f",
       "version_major": 2,
       "version_minor": 0
      },
      "text/plain": [
       "Query is running:   0%|          |"
      ]
     },
     "metadata": {},
     "output_type": "display_data"
    },
    {
     "data": {
      "text/html": [
       "<div>\n",
       "<style scoped>\n",
       "    .dataframe tbody tr th:only-of-type {\n",
       "        vertical-align: middle;\n",
       "    }\n",
       "\n",
       "    .dataframe tbody tr th {\n",
       "        vertical-align: top;\n",
       "    }\n",
       "\n",
       "    .dataframe thead th {\n",
       "        text-align: right;\n",
       "    }\n",
       "</style>\n",
       "<table border=\"1\" class=\"dataframe\">\n",
       "  <thead>\n",
       "    <tr style=\"text-align: right;\">\n",
       "      <th></th>\n",
       "    </tr>\n",
       "  </thead>\n",
       "  <tbody>\n",
       "  </tbody>\n",
       "</table>\n",
       "</div>"
      ],
      "text/plain": [
       "Empty DataFrame\n",
       "Columns: []\n",
       "Index: []"
      ]
     },
     "execution_count": 39,
     "metadata": {},
     "output_type": "execute_result"
    }
   ],
   "source": [
    "%%bigquery --project $PROJECT_ID\n",
    "\n",
    "CREATE OR REPLACE MODEL kavitha_capstone_dataset.addtocart_xgb9\n",
    "\n",
    "OPTIONS(\n",
    "  MODEL_TYPE=\"LOGISTIC_REG\",\n",
    "  # Declare label column.\n",
    "  INPUT_LABEL_COLS=[\"will_add_to_cart\"],\n",
    "  MODEL_REGISTRY=\"VERTEX_AI\"\n",
    ") AS\n",
    "\n",
    "SELECT\n",
    "    bounces, source,medium, country, hasSocialSourceReferral, will_add_to_cart\n",
    "FROM\n",
    "  kavitha_capstone_dataset.ga_data"
   ]
  },
  {
   "cell_type": "code",
   "execution_count": 40,
   "id": "5f9553f7-d0d3-4468-9d34-5298a5143769",
   "metadata": {
    "tags": []
   },
   "outputs": [
    {
     "data": {
      "application/vnd.jupyter.widget-view+json": {
       "model_id": "18aaea8d6ea7484784b51351964c0cf7",
       "version_major": 2,
       "version_minor": 0
      },
      "text/plain": [
       "Query is running:   0%|          |"
      ]
     },
     "metadata": {},
     "output_type": "display_data"
    },
    {
     "data": {
      "application/vnd.jupyter.widget-view+json": {
       "model_id": "52318281fcca4876a758a52817cd21e6",
       "version_major": 2,
       "version_minor": 0
      },
      "text/plain": [
       "Downloading:   0%|          |"
      ]
     },
     "metadata": {},
     "output_type": "display_data"
    },
    {
     "data": {
      "text/html": [
       "<div>\n",
       "<style scoped>\n",
       "    .dataframe tbody tr th:only-of-type {\n",
       "        vertical-align: middle;\n",
       "    }\n",
       "\n",
       "    .dataframe tbody tr th {\n",
       "        vertical-align: top;\n",
       "    }\n",
       "\n",
       "    .dataframe thead th {\n",
       "        text-align: right;\n",
       "    }\n",
       "</style>\n",
       "<table border=\"1\" class=\"dataframe\">\n",
       "  <thead>\n",
       "    <tr style=\"text-align: right;\">\n",
       "      <th></th>\n",
       "      <th>precision</th>\n",
       "      <th>recall</th>\n",
       "      <th>accuracy</th>\n",
       "      <th>f1_score</th>\n",
       "      <th>log_loss</th>\n",
       "      <th>roc_auc</th>\n",
       "    </tr>\n",
       "  </thead>\n",
       "  <tbody>\n",
       "    <tr>\n",
       "      <th>0</th>\n",
       "      <td>0.0</td>\n",
       "      <td>0.0</td>\n",
       "      <td>0.924557</td>\n",
       "      <td>0.0</td>\n",
       "      <td>0.218864</td>\n",
       "      <td>0.774226</td>\n",
       "    </tr>\n",
       "  </tbody>\n",
       "</table>\n",
       "</div>"
      ],
      "text/plain": [
       "   precision  recall  accuracy  f1_score  log_loss   roc_auc\n",
       "0        0.0     0.0  0.924557       0.0  0.218864  0.774226"
      ]
     },
     "execution_count": 40,
     "metadata": {},
     "output_type": "execute_result"
    }
   ],
   "source": [
    "%%bigquery --project $PROJECT_ID\n",
    "\n",
    "SELECT\n",
    "  *\n",
    "FROM\n",
    "  ML.EVALUATE(MODEL kavitha_capstone_dataset.addtocart_xgb9)"
   ]
  },
  {
   "cell_type": "code",
   "execution_count": 41,
   "id": "a6308373-d950-499c-9bca-fbf1a06c3d40",
   "metadata": {
    "tags": []
   },
   "outputs": [
    {
     "data": {
      "application/vnd.jupyter.widget-view+json": {
       "model_id": "6496a86d4b3d46bca210fd548e46127c",
       "version_major": 2,
       "version_minor": 0
      },
      "text/plain": [
       "Query is running:   0%|          |"
      ]
     },
     "metadata": {},
     "output_type": "display_data"
    },
    {
     "data": {
      "application/vnd.jupyter.widget-view+json": {
       "model_id": "cc3d615e89f34aaaac9f84c9d8b7c349",
       "version_major": 2,
       "version_minor": 0
      },
      "text/plain": [
       "Downloading:   0%|          |"
      ]
     },
     "metadata": {},
     "output_type": "display_data"
    },
    {
     "data": {
      "text/html": [
       "<div>\n",
       "<style scoped>\n",
       "    .dataframe tbody tr th:only-of-type {\n",
       "        vertical-align: middle;\n",
       "    }\n",
       "\n",
       "    .dataframe tbody tr th {\n",
       "        vertical-align: top;\n",
       "    }\n",
       "\n",
       "    .dataframe thead th {\n",
       "        text-align: right;\n",
       "    }\n",
       "</style>\n",
       "<table border=\"1\" class=\"dataframe\">\n",
       "  <thead>\n",
       "    <tr style=\"text-align: right;\">\n",
       "      <th></th>\n",
       "      <th>expected_label</th>\n",
       "      <th>predicted_0</th>\n",
       "      <th>predicted_1</th>\n",
       "    </tr>\n",
       "  </thead>\n",
       "  <tbody>\n",
       "    <tr>\n",
       "      <th>0</th>\n",
       "      <td>0</td>\n",
       "      <td>9179</td>\n",
       "      <td>2</td>\n",
       "    </tr>\n",
       "    <tr>\n",
       "      <th>1</th>\n",
       "      <td>1</td>\n",
       "      <td>747</td>\n",
       "      <td>0</td>\n",
       "    </tr>\n",
       "  </tbody>\n",
       "</table>\n",
       "</div>"
      ],
      "text/plain": [
       "  expected_label  predicted_0  predicted_1\n",
       "0              0         9179            2\n",
       "1              1          747            0"
      ]
     },
     "execution_count": 41,
     "metadata": {},
     "output_type": "execute_result"
    }
   ],
   "source": [
    "%%bigquery --project $PROJECT_ID\n",
    "\n",
    "SELECT\n",
    "  expected_label,\n",
    "    _0 AS predicted_0,\n",
    "    _1 AS predicted_1\n",
    "      \n",
    "FROM\n",
    "  ML.CONFUSION_MATRIX(MODEL kavitha_capstone_dataset.addtocart_xgb9) \n"
   ]
  },
  {
   "cell_type": "code",
   "execution_count": 49,
   "id": "57c9ca10-5429-4922-917c-1bbddbc3e421",
   "metadata": {
    "tags": []
   },
   "outputs": [
    {
     "data": {
      "application/vnd.jupyter.widget-view+json": {
       "model_id": "5eec1a7ea92c495bb00a36c1712d0445",
       "version_major": 2,
       "version_minor": 0
      },
      "text/plain": [
       "Query is running:   0%|          |"
      ]
     },
     "metadata": {},
     "output_type": "display_data"
    },
    {
     "data": {
      "text/html": [
       "<div>\n",
       "<style scoped>\n",
       "    .dataframe tbody tr th:only-of-type {\n",
       "        vertical-align: middle;\n",
       "    }\n",
       "\n",
       "    .dataframe tbody tr th {\n",
       "        vertical-align: top;\n",
       "    }\n",
       "\n",
       "    .dataframe thead th {\n",
       "        text-align: right;\n",
       "    }\n",
       "</style>\n",
       "<table border=\"1\" class=\"dataframe\">\n",
       "  <thead>\n",
       "    <tr style=\"text-align: right;\">\n",
       "      <th></th>\n",
       "    </tr>\n",
       "  </thead>\n",
       "  <tbody>\n",
       "  </tbody>\n",
       "</table>\n",
       "</div>"
      ],
      "text/plain": [
       "Empty DataFrame\n",
       "Columns: []\n",
       "Index: []"
      ]
     },
     "execution_count": 49,
     "metadata": {},
     "output_type": "execute_result"
    }
   ],
   "source": [
    "%%bigquery --project $PROJECT_ID\n",
    "\n",
    "CREATE OR REPLACE MODEL kavitha_capstone_dataset.addtocart_xgb10\n",
    "\n",
    "OPTIONS(\n",
    "  MODEL_TYPE=\"LOGISTIC_REG\",\n",
    "  AUTO_CLASS_WEIGHTS=TRUE,  \n",
    "  # Declare label column.\n",
    "  INPUT_LABEL_COLS=[\"will_add_to_cart\"],\n",
    "  # Specify custom data splitting using the `data_split` column.\n",
    "  DATA_SPLIT_METHOD=\"NO_SPLIT\",\n",
    "  #DATA_SPLIT_COL=\"data_split\",\n",
    "  MODEL_REGISTRY=\"VERTEX_AI\"\n",
    ") AS\n",
    "\n",
    "SELECT\n",
    "    channel_grouping, hits, timeOnSite, pageViews, operatingSystem, bounces, source,medium, country, hasSocialSourceReferral, will_add_to_cart \n",
    "FROM\n",
    "  kavitha_capstone_dataset.ga_data \n",
    "    WHERE data_split = \"TRAIN\""
   ]
  },
  {
   "cell_type": "code",
   "execution_count": 50,
   "id": "79c108fa-e365-4743-b774-cea04673c5f7",
   "metadata": {
    "tags": []
   },
   "outputs": [
    {
     "data": {
      "application/vnd.jupyter.widget-view+json": {
       "model_id": "bcd44869b7ef4d7db78a3e66f6be77ad",
       "version_major": 2,
       "version_minor": 0
      },
      "text/plain": [
       "Query is running:   0%|          |"
      ]
     },
     "metadata": {},
     "output_type": "display_data"
    },
    {
     "data": {
      "application/vnd.jupyter.widget-view+json": {
       "model_id": "41a048d78d604421873622c1f12e1acb",
       "version_major": 2,
       "version_minor": 0
      },
      "text/plain": [
       "Downloading:   0%|          |"
      ]
     },
     "metadata": {},
     "output_type": "display_data"
    },
    {
     "data": {
      "text/html": [
       "<div>\n",
       "<style scoped>\n",
       "    .dataframe tbody tr th:only-of-type {\n",
       "        vertical-align: middle;\n",
       "    }\n",
       "\n",
       "    .dataframe tbody tr th {\n",
       "        vertical-align: top;\n",
       "    }\n",
       "\n",
       "    .dataframe thead th {\n",
       "        text-align: right;\n",
       "    }\n",
       "</style>\n",
       "<table border=\"1\" class=\"dataframe\">\n",
       "  <thead>\n",
       "    <tr style=\"text-align: right;\">\n",
       "      <th></th>\n",
       "      <th>precision</th>\n",
       "      <th>recall</th>\n",
       "      <th>accuracy</th>\n",
       "      <th>f1_score</th>\n",
       "      <th>log_loss</th>\n",
       "      <th>roc_auc</th>\n",
       "    </tr>\n",
       "  </thead>\n",
       "  <tbody>\n",
       "    <tr>\n",
       "      <th>0</th>\n",
       "      <td>0.394563</td>\n",
       "      <td>0.833333</td>\n",
       "      <td>0.891421</td>\n",
       "      <td>0.535554</td>\n",
       "      <td>0.337965</td>\n",
       "      <td>0.946646</td>\n",
       "    </tr>\n",
       "  </tbody>\n",
       "</table>\n",
       "</div>"
      ],
      "text/plain": [
       "   precision    recall  accuracy  f1_score  log_loss   roc_auc\n",
       "0   0.394563  0.833333  0.891421  0.535554  0.337965  0.946646"
      ]
     },
     "execution_count": 50,
     "metadata": {},
     "output_type": "execute_result"
    }
   ],
   "source": [
    "%%bigquery --project $PROJECT_ID\n",
    "\n",
    "SELECT\n",
    "  *\n",
    "FROM\n",
    "  ML.EVALUATE(MODEL kavitha_capstone_dataset.addtocart_xgb10)"
   ]
  },
  {
   "cell_type": "code",
   "execution_count": 51,
   "id": "8630d657-034d-4b88-a807-78e02994836b",
   "metadata": {
    "tags": []
   },
   "outputs": [
    {
     "data": {
      "application/vnd.jupyter.widget-view+json": {
       "model_id": "83144d5bf32949b8b5541d5902487ea5",
       "version_major": 2,
       "version_minor": 0
      },
      "text/plain": [
       "Query is running:   0%|          |"
      ]
     },
     "metadata": {},
     "output_type": "display_data"
    },
    {
     "data": {
      "application/vnd.jupyter.widget-view+json": {
       "model_id": "2aa163f09480499ab5d01554227d3b0e",
       "version_major": 2,
       "version_minor": 0
      },
      "text/plain": [
       "Downloading:   0%|          |"
      ]
     },
     "metadata": {},
     "output_type": "display_data"
    },
    {
     "data": {
      "text/html": [
       "<div>\n",
       "<style scoped>\n",
       "    .dataframe tbody tr th:only-of-type {\n",
       "        vertical-align: middle;\n",
       "    }\n",
       "\n",
       "    .dataframe tbody tr th {\n",
       "        vertical-align: top;\n",
       "    }\n",
       "\n",
       "    .dataframe thead th {\n",
       "        text-align: right;\n",
       "    }\n",
       "</style>\n",
       "<table border=\"1\" class=\"dataframe\">\n",
       "  <thead>\n",
       "    <tr style=\"text-align: right;\">\n",
       "      <th></th>\n",
       "      <th>expected_label</th>\n",
       "      <th>predicted_0</th>\n",
       "      <th>predicted_1</th>\n",
       "    </tr>\n",
       "  </thead>\n",
       "  <tbody>\n",
       "    <tr>\n",
       "      <th>0</th>\n",
       "      <td>0</td>\n",
       "      <td>43426</td>\n",
       "      <td>5033</td>\n",
       "    </tr>\n",
       "    <tr>\n",
       "      <th>1</th>\n",
       "      <td>1</td>\n",
       "      <td>656</td>\n",
       "      <td>3280</td>\n",
       "    </tr>\n",
       "  </tbody>\n",
       "</table>\n",
       "</div>"
      ],
      "text/plain": [
       "  expected_label  predicted_0  predicted_1\n",
       "0              0        43426         5033\n",
       "1              1          656         3280"
      ]
     },
     "execution_count": 51,
     "metadata": {},
     "output_type": "execute_result"
    }
   ],
   "source": [
    "%%bigquery --project $PROJECT_ID\n",
    "\n",
    "SELECT\n",
    "  expected_label,\n",
    "    _0 AS predicted_0,\n",
    "    _1 AS predicted_1\n",
    "      \n",
    "FROM\n",
    "  ML.CONFUSION_MATRIX(MODEL kavitha_capstone_dataset.addtocart_xgb10) \n"
   ]
  },
  {
   "cell_type": "code",
   "execution_count": 52,
   "id": "d84802a7-0632-4fde-9516-6fbf9cde0acc",
   "metadata": {
    "tags": []
   },
   "outputs": [
    {
     "data": {
      "application/vnd.jupyter.widget-view+json": {
       "model_id": "9863ac7a0c0c4de08ac8216805ad6746",
       "version_major": 2,
       "version_minor": 0
      },
      "text/plain": [
       "Query is running:   0%|          |"
      ]
     },
     "metadata": {},
     "output_type": "display_data"
    },
    {
     "data": {
      "application/vnd.jupyter.widget-view+json": {
       "model_id": "91f1562a0be54068b020efb8812b6353",
       "version_major": 2,
       "version_minor": 0
      },
      "text/plain": [
       "Downloading:   0%|          |"
      ]
     },
     "metadata": {},
     "output_type": "display_data"
    }
   ],
   "source": [
    "%%bigquery df_roc --project $PROJECT_ID\n",
    "\n",
    "SELECT * FROM ML.ROC_CURVE(MODEL kavitha_capstone_dataset.addtocart_xgb10)"
   ]
  },
  {
   "cell_type": "code",
   "execution_count": 53,
   "id": "9c31a754-49aa-44e0-9dec-b424445c44e9",
   "metadata": {
    "tags": []
   },
   "outputs": [
    {
     "data": {
      "text/plain": [
       "<Axes: title={'center': 'AUC-ROC curve'}, xlabel='false_positive_rate'>"
      ]
     },
     "execution_count": 53,
     "metadata": {},
     "output_type": "execute_result"
    },
    {
     "data": {
      "image/png": "[encoded data removed]",
      "text/plain": [
       "<Figure size 640x480 with 1 Axes>"
      ]
     },
     "metadata": {},
     "output_type": "display_data"
    }
   ],
   "source": [
    "df_roc.plot(x=\"false_positive_rate\", y=\"recall\", title=\"AUC-ROC curve\")"
   ]
  },
  {
   "cell_type": "code",
   "execution_count": 54,
   "id": "5ac0e7e5-9630-4382-92c6-b285860eac83",
   "metadata": {
    "tags": []
   },
   "outputs": [
    {
     "data": {
      "application/vnd.jupyter.widget-view+json": {
       "model_id": "cfc021dc201c41969ea07b0a1f75da05",
       "version_major": 2,
       "version_minor": 0
      },
      "text/plain": [
       "Query is running:   0%|          |"
      ]
     },
     "metadata": {},
     "output_type": "display_data"
    },
    {
     "data": {
      "application/vnd.jupyter.widget-view+json": {
       "model_id": "a2cf8cabf5764c30af8d1a6f97f268d7",
       "version_major": 2,
       "version_minor": 0
      },
      "text/plain": [
       "Downloading:   0%|          |"
      ]
     },
     "metadata": {},
     "output_type": "display_data"
    }
   ],
   "source": [
    "%%bigquery xgb5_df --project $PROJECT_ID\n",
    "\n",
    "SELECT\n",
    "  *\n",
    "FROM\n",
    "  ML.PREDICT(MODEL kavitha_capstone_dataset.addtocart_xgb10,\n",
    "  (SELECT\n",
    "    channel_grouping, hits, timeOnSite, pageViews, operatingSystem, bounces, source,medium, country, hasSocialSourceReferral, will_add_to_cart\n",
    "FROM\n",
    "  kavitha_capstone_dataset.ga_data WHERE data_split = \"TEST\"))"
   ]
  },
  {
   "cell_type": "code",
   "execution_count": 55,
   "id": "5801d5eb-0196-478b-bb14-352401cc8b73",
   "metadata": {
    "tags": []
   },
   "outputs": [
    {
     "data": {
      "application/vnd.jupyter.widget-view+json": {
       "model_id": "45dd18c48b7344d4806bd00d96cb4983",
       "version_major": 2,
       "version_minor": 0
      },
      "text/plain": [
       "Query is running:   0%|          |"
      ]
     },
     "metadata": {},
     "output_type": "display_data"
    },
    {
     "data": {
      "application/vnd.jupyter.widget-view+json": {
       "model_id": "34f8d39db9514bd09875d387fcc098dd",
       "version_major": 2,
       "version_minor": 0
      },
      "text/plain": [
       "Downloading:   0%|          |"
      ]
     },
     "metadata": {},
     "output_type": "display_data"
    },
    {
     "data": {
      "text/html": [
       "<div>\n",
       "<style scoped>\n",
       "    .dataframe tbody tr th:only-of-type {\n",
       "        vertical-align: middle;\n",
       "    }\n",
       "\n",
       "    .dataframe tbody tr th {\n",
       "        vertical-align: top;\n",
       "    }\n",
       "\n",
       "    .dataframe thead th {\n",
       "        text-align: right;\n",
       "    }\n",
       "</style>\n",
       "<table border=\"1\" class=\"dataframe\">\n",
       "  <thead>\n",
       "    <tr style=\"text-align: right;\">\n",
       "      <th></th>\n",
       "      <th>precision</th>\n",
       "      <th>recall</th>\n",
       "      <th>accuracy</th>\n",
       "      <th>f1_score</th>\n",
       "      <th>log_loss</th>\n",
       "      <th>roc_auc</th>\n",
       "    </tr>\n",
       "  </thead>\n",
       "  <tbody>\n",
       "    <tr>\n",
       "      <th>0</th>\n",
       "      <td>0.394563</td>\n",
       "      <td>0.833333</td>\n",
       "      <td>0.891421</td>\n",
       "      <td>0.535554</td>\n",
       "      <td>0.337965</td>\n",
       "      <td>0.946646</td>\n",
       "    </tr>\n",
       "  </tbody>\n",
       "</table>\n",
       "</div>"
      ],
      "text/plain": [
       "   precision    recall  accuracy  f1_score  log_loss   roc_auc\n",
       "0   0.394563  0.833333  0.891421  0.535554  0.337965  0.946646"
      ]
     },
     "execution_count": 55,
     "metadata": {},
     "output_type": "execute_result"
    }
   ],
   "source": [
    "%%bigquery --project $PROJECT_ID\n",
    "\n",
    "SELECT\n",
    "  *\n",
    "FROM\n",
    "  ML.EVALUATE(MODEL kavitha_capstone_dataset.addtocart_xgb10)"
   ]
  },
  {
   "cell_type": "code",
   "execution_count": 56,
   "id": "4b551bfd-d2cb-4336-8b3d-69f5c310c999",
   "metadata": {
    "tags": []
   },
   "outputs": [],
   "source": [
    "MODEL_NAME=\"addtocart_xgb16\""
   ]
  },
  {
   "cell_type": "code",
   "execution_count": 109,
   "id": "eb12f581-ce63-491b-b03f-49ed8414459b",
   "metadata": {
    "tags": []
   },
   "outputs": [],
   "source": [
    "BQ_MODEL = f\"{BQ_DATASET}.{MODEL_NAME}\"\n",
    "BQ_MODEL_EXPORT_DIR = f\"gs://{GCS_BUCKET}/{MODEL_NAME}\""
   ]
  },
  {
   "cell_type": "code",
   "execution_count": 110,
   "id": "f20b54e7-35cf-42a8-80ac-3e1606ec5042",
   "metadata": {
    "tags": []
   },
   "outputs": [
    {
     "name": "stdout",
     "output_type": "stream",
     "text": [
      "york-bb-cohort:kavitha_capstone_dataset.addtocart_xgb16\n",
      "gs://york-bb-cohort-kavi_capstone_bucket/addtocart_xgb16\n"
     ]
    }
   ],
   "source": [
    "print(BQ_MODEL)\n",
    "print(BQ_MODEL_EXPORT_DIR )"
   ]
  },
  {
   "cell_type": "code",
   "execution_count": 111,
   "id": "9e12dea2-84dd-4b07-ae91-62d458712d14",
   "metadata": {
    "tags": []
   },
   "outputs": [
    {
     "name": "stdout",
     "output_type": "stream",
     "text": [
      "Waiting on bqjob_r72cdb3a772ae593b_0000018dc3e9c202_1 ... (3s) Current status: DONE   \n"
     ]
    }
   ],
   "source": [
    "!bq --location=$BQ_LOCATION extract \\\n",
    "--destination_format ML_XGBOOST_BOOSTER \\\n",
    "--model $BQ_MODEL \\\n",
    "$BQ_MODEL_EXPORT_DIR"
   ]
  },
  {
   "cell_type": "code",
   "execution_count": 112,
   "id": "b6fe3386-5a33-4f33-8ad7-220fb36e6d5a",
   "metadata": {
    "tags": []
   },
   "outputs": [],
   "source": [
    "IMAGE_URI='us-docker.pkg.dev/vertex-ai/prediction/xgboost-cpu.1-4:latest'"
   ]
  },
  {
   "cell_type": "code",
   "execution_count": 113,
   "id": "25b603d0-02a4-49d5-84c9-64c231a4e5fb",
   "metadata": {
    "tags": []
   },
   "outputs": [
    {
     "name": "stdout",
     "output_type": "stream",
     "text": [
      "Creating Model\n",
      "Create Model backing LRO: projects/319407066227/locations/us-east4/models/7154997150961631232/operations/1799422247111229440\n",
      "Model created. Resource name: projects/319407066227/locations/us-east4/models/7154997150961631232@1\n",
      "To use this Model in another session:\n",
      "model = aiplatform.Model('projects/319407066227/locations/us-east4/models/7154997150961631232@1')\n"
     ]
    }
   ],
   "source": [
    "model = vertexai.Model.upload(\n",
    "    display_name=MODEL_NAME,\n",
    "    artifact_uri=BQ_MODEL_EXPORT_DIR,\n",
    "    serving_container_image_uri=IMAGE_URI,\n",
    ")"
   ]
  },
  {
   "cell_type": "code",
   "execution_count": null,
   "id": "9b46bf68-1533-43fd-bdad-6f99623fa71e",
   "metadata": {},
   "outputs": [],
   "source": [
    "#model = aiplatform.Model('projects/319407066227/locations/us-east4/models/7154997150961631232@1')"
   ]
  },
  {
   "cell_type": "code",
   "execution_count": 114,
   "id": "7161f08b-05f2-45a4-b775-c1d3ca254b8e",
   "metadata": {
    "tags": []
   },
   "outputs": [
    {
     "name": "stdout",
     "output_type": "stream",
     "text": [
      "Creating Endpoint\n",
      "Create Endpoint backing LRO: projects/319407066227/locations/us-east4/endpoints/3987189802129686528/operations/493378355173785600\n",
      "Endpoint created. Resource name: projects/319407066227/locations/us-east4/endpoints/3987189802129686528\n",
      "To use this Endpoint in another session:\n",
      "endpoint = aiplatform.Endpoint('projects/319407066227/locations/us-east4/endpoints/3987189802129686528')\n",
      "Deploying model to Endpoint : projects/319407066227/locations/us-east4/endpoints/3987189802129686528\n",
      "Deploy Endpoint model backing LRO: projects/319407066227/locations/us-east4/endpoints/3987189802129686528/operations/3285610124143493120\n",
      "Endpoint model deployed. Resource name: projects/319407066227/locations/us-east4/endpoints/3987189802129686528\n"
     ]
    }
   ],
   "source": [
    "endpoint = model.deploy(\n",
    "    traffic_split={\"0\": 100},\n",
    "    machine_type=\"e2-standard-2\",\n",
    ")"
   ]
  },
  {
   "cell_type": "code",
   "execution_count": 61,
   "id": "8a95f276-6ccb-4a07-94a3-2fb2de5da526",
   "metadata": {
    "tags": []
   },
   "outputs": [],
   "source": [
    "CATEGORICAL_FEATURES = ['channel_grouping',\n",
    "                        'operatingSystem',\n",
    "                        'deviceCategory',\n",
    "                        'source',\n",
    "                        'medium',\n",
    "                        'country'\n",
    "                       ]"
   ]
  },
  {
   "cell_type": "code",
   "execution_count": 62,
   "id": "343f3fa1-afc2-44a3-8b41-b7cb90cd4986",
   "metadata": {
    "tags": []
   },
   "outputs": [],
   "source": [
    "from sklearn.preprocessing import OrdinalEncoder"
   ]
  },
  {
   "cell_type": "code",
   "execution_count": 63,
   "id": "099abead-a9fc-4a43-88ff-74603ad3d6b5",
   "metadata": {
    "tags": []
   },
   "outputs": [],
   "source": [
    "def _build_cat_feature_encoders(cat_feature_list, gcs_bucket, model_name, na_value='Unknown'): \n",
    "    feature_encoders = {}\n",
    "    \n",
    "    for idx, feature in enumerate(cat_feature_list):\n",
    "        feature_encoder = OrdinalEncoder(handle_unknown=\"use_encoded_value\", unknown_value=-1)\n",
    "        feature_vocab_file = f\"gs://{gcs_bucket}/{model_name}/assets/{idx}_categorical_label.txt\"\n",
    "        feature_vocab_df = pd.read_csv(feature_vocab_file, delimiter = \"\\t\", header=None).fillna(na_value)\n",
    "        feature_encoder.fit(feature_vocab_df.values)\n",
    "        feature_encoders[feature] = feature_encoder\n",
    "    \n",
    "    return feature_encoders"
   ]
  },
  {
   "cell_type": "code",
   "execution_count": 64,
   "id": "5eb2fb3e-fbd6-4ad7-8549-8d6cff0c192e",
   "metadata": {
    "tags": []
   },
   "outputs": [],
   "source": [
    "def preprocess_xgboost(instances, cat_feature_list, feature_encoders):\n",
    "    transformed_instances = []\n",
    "    \n",
    "    for instance in instances:\n",
    "        for feature in cat_feature_list:\n",
    "            feature_int = feature_encoders[feature].transform([[instance[feature]]]).item()\n",
    "            instance[feature] = feature_int\n",
    "            instance_list = list(instance.values())\n",
    "        transformed_instances.append(instance_list)\n",
    "\n",
    "    return transformed_instances"
   ]
  },
  {
   "cell_type": "code",
   "execution_count": 65,
   "id": "6cd5a557-a677-492b-a8ee-7f31ff58e76c",
   "metadata": {
    "tags": []
   },
   "outputs": [],
   "source": [
    "# Build a dictionary of ordinal categorical feature encoders.\n",
    "feature_encoders = _build_cat_feature_encoders(CATEGORICAL_FEATURES, GCS_BUCKET, MODEL_NAME)"
   ]
  },
  {
   "cell_type": "code",
   "execution_count": 66,
   "id": "676e18f0-253a-4bd5-8b0f-babf6c6d826d",
   "metadata": {
    "tags": []
   },
   "outputs": [
    {
     "data": {
      "application/vnd.jupyter.widget-view+json": {
       "model_id": "4271f10af14d42c891f01a7695bf0f72",
       "version_major": 2,
       "version_minor": 0
      },
      "text/plain": [
       "Query is running:   0%|          |"
      ]
     },
     "metadata": {},
     "output_type": "display_data"
    },
    {
     "data": {
      "application/vnd.jupyter.widget-view+json": {
       "model_id": "dde1d20838ee4fd2ac3fb1f7ccb1ca08",
       "version_major": 2,
       "version_minor": 0
      },
      "text/plain": [
       "Downloading:   0%|          |"
      ]
     },
     "metadata": {},
     "output_type": "display_data"
    }
   ],
   "source": [
    "%%bigquery test_df --project $PROJECT_ID \n",
    "\n",
    "SELECT* EXCEPT (Id, will_add_to_cart, data_split, hasSocialSourceReferral, socialNetwork, browser)\n",
    "FROM kavitha_capstone_dataset.ga_data\n",
    "WHERE data_split=\"TEST\"\n",
    "LIMIT 12;"
   ]
  },
  {
   "cell_type": "code",
   "execution_count": 67,
   "id": "7014f913-d3fd-4024-967d-8644a8c21b1e",
   "metadata": {
    "tags": []
   },
   "outputs": [
    {
     "name": "stdout",
     "output_type": "stream",
     "text": [
      "  channel_grouping operatingSystem deviceCategory  source   medium  \\\n",
      "0   Organic Search         Windows        desktop  google  organic   \n",
      "1   Organic Search         Android         mobile  google  organic   \n",
      "2   Organic Search         Windows        desktop  google  organic   \n",
      "3      Paid Search         Android         mobile  google      cpc   \n",
      "4      Paid Search             iOS         mobile  google      cpc   \n",
      "\n",
      "         country  hits  bounces  pageViews  timeOnSite  \n",
      "0       Bulgaria    18        0         12          95  \n",
      "1  United States    29        0         26        1789  \n",
      "2         Turkey     2        0          2          22  \n",
      "3  United States     2        0          2           7  \n",
      "4  United States     2        0          2         121  \n"
     ]
    }
   ],
   "source": [
    "print(test_df)"
   ]
  },
  {
   "cell_type": "code",
   "execution_count": 68,
   "id": "57d1d64e-29ed-4b68-a476-db2aab34176e",
   "metadata": {
    "tags": []
   },
   "outputs": [],
   "source": [
    "# Convert dataframe records to feature dictionaries for preprocessing by feature name.\n",
    "test_instances = test_df.astype(str).to_dict(orient='records')"
   ]
  },
  {
   "cell_type": "code",
   "execution_count": 69,
   "id": "1b264188-d9cf-464d-8001-74537f290002",
   "metadata": {
    "tags": []
   },
   "outputs": [],
   "source": [
    "# Apply preprocessing to transform categorical features and return numerical instances for prediction.\n",
    "transformed_test_instances = preprocess_xgboost(test_instances, CATEGORICAL_FEATURES, feature_encoders)"
   ]
  },
  {
   "cell_type": "code",
   "execution_count": null,
   "id": "6cf19b8d-2c54-45e5-956f-d2dc15618d02",
   "metadata": {
    "tags": []
   },
   "outputs": [],
   "source": [
    "# Generate predictions from model deployed to Vertex AI Endpoint.\n",
    "predictions = endpoint.predict(instances=transformed_test_instances)"
   ]
  },
  {
   "cell_type": "code",
   "execution_count": 153,
   "id": "87c3db48-2e87-4276-85e1-db1de79e3f88",
   "metadata": {
    "tags": []
   },
   "outputs": [
    {
     "name": "stdout",
     "output_type": "stream",
     "text": [
      "Prediction: Visitor 0 - Did Not Add To Cart [0.06581871956586838, 0.934181272983551]\n",
      "{\"channel_grouping\":\"Direct\",\"operatingSystem\":\"Macintosh\",\"deviceCategory\":\"desktop\",\"source\":\"(direct)\",\"medium\":\"(none)\",\"country\":\"Germany\",\"hits\":\"1\",\"bounces\":\"1\",\"pageViews\":\"1\",\"timeOnSite\":\"0\"}\n",
      "\n",
      "Prediction: Visitor 1 - Did Not Add To Cart [0.06581871956586838, 0.934181272983551]\n",
      "{\"channel_grouping\":\"Direct\",\"operatingSystem\":\"Linux\",\"deviceCategory\":\"desktop\",\"source\":\"(direct)\",\"medium\":\"(none)\",\"country\":\"United States\",\"hits\":\"1\",\"bounces\":\"1\",\"pageViews\":\"1\",\"timeOnSite\":\"0\"}\n",
      "\n",
      "Prediction: Visitor 2 - Did Not Add To Cart [0.06581871956586838, 0.934181272983551]\n",
      "{\"channel_grouping\":\"Organic Search\",\"operatingSystem\":\"Macintosh\",\"deviceCategory\":\"desktop\",\"source\":\"google\",\"medium\":\"organic\",\"country\":\"Belgium\",\"hits\":\"1\",\"bounces\":\"1\",\"pageViews\":\"1\",\"timeOnSite\":\"0\"}\n",
      "\n",
      "Prediction: Visitor 3 - Did Not Add To Cart [0.06581871956586838, 0.934181272983551]\n",
      "{\"channel_grouping\":\"Organic Search\",\"operatingSystem\":\"Windows\",\"deviceCategory\":\"desktop\",\"source\":\"google\",\"medium\":\"organic\",\"country\":\"El Salvador\",\"hits\":\"1\",\"bounces\":\"1\",\"pageViews\":\"1\",\"timeOnSite\":\"0\"}\n",
      "\n",
      "Prediction: Visitor 4 - Did Not Add To Cart [0.06581871956586838, 0.934181272983551]\n",
      "{\"channel_grouping\":\"Organic Search\",\"operatingSystem\":\"Windows\",\"deviceCategory\":\"desktop\",\"source\":\"google\",\"medium\":\"organic\",\"country\":\"Vietnam\",\"hits\":\"1\",\"bounces\":\"1\",\"pageViews\":\"1\",\"timeOnSite\":\"0\"}\n",
      "\n",
      "Prediction: Visitor 5 - Did Not Add To Cart [0.06581871956586838, 0.934181272983551]\n",
      "{\"channel_grouping\":\"Organic Search\",\"operatingSystem\":\"Linux\",\"deviceCategory\":\"desktop\",\"source\":\"google\",\"medium\":\"organic\",\"country\":\"India\",\"hits\":\"1\",\"bounces\":\"1\",\"pageViews\":\"1\",\"timeOnSite\":\"0\"}\n",
      "\n",
      "Prediction: Visitor 6 - Did Not Add To Cart [0.06581871956586838, 0.934181272983551]\n",
      "{\"channel_grouping\":\"Organic Search\",\"operatingSystem\":\"Windows\",\"deviceCategory\":\"desktop\",\"source\":\"google\",\"medium\":\"organic\",\"country\":\"Pakistan\",\"hits\":\"1\",\"bounces\":\"1\",\"pageViews\":\"1\",\"timeOnSite\":\"0\"}\n",
      "\n",
      "Prediction: Visitor 7 - Did Not Add To Cart [0.06581871956586838, 0.934181272983551]\n",
      "{\"channel_grouping\":\"Organic Search\",\"operatingSystem\":\"Macintosh\",\"deviceCategory\":\"desktop\",\"source\":\"google\",\"medium\":\"organic\",\"country\":\"United States\",\"hits\":\"1\",\"bounces\":\"1\",\"pageViews\":\"1\",\"timeOnSite\":\"0\"}\n",
      "\n",
      "Prediction: Visitor 8 - Did Not Add To Cart [0.06581871956586838, 0.934181272983551]\n",
      "{\"channel_grouping\":\"Organic Search\",\"operatingSystem\":\"iOS\",\"deviceCategory\":\"mobile\",\"source\":\"google\",\"medium\":\"organic\",\"country\":\"Taiwan\",\"hits\":\"1\",\"bounces\":\"1\",\"pageViews\":\"1\",\"timeOnSite\":\"0\"}\n",
      "\n",
      "Prediction: Visitor 9 - Did Not Add To Cart [0.06581871956586838, 0.934181272983551]\n",
      "{\"channel_grouping\":\"Direct\",\"operatingSystem\":\"Android\",\"deviceCategory\":\"mobile\",\"source\":\"(direct)\",\"medium\":\"(none)\",\"country\":\"United States\",\"hits\":\"1\",\"bounces\":\"1\",\"pageViews\":\"1\",\"timeOnSite\":\"0\"}\n",
      "\n",
      "Prediction: Visitor 10 - Did Not Add To Cart [0.06581871956586838, 0.934181272983551]\n",
      "{\"channel_grouping\":\"Direct\",\"operatingSystem\":\"iOS\",\"deviceCategory\":\"mobile\",\"source\":\"(direct)\",\"medium\":\"(none)\",\"country\":\"Poland\",\"hits\":\"1\",\"bounces\":\"1\",\"pageViews\":\"1\",\"timeOnSite\":\"0\"}\n",
      "\n",
      "Prediction: Visitor 11 - Did Not Add To Cart [0.06581871956586838, 0.934181272983551]\n",
      "{\"channel_grouping\":\"Paid Search\",\"operatingSystem\":\"iOS\",\"deviceCategory\":\"tablet\",\"source\":\"google\",\"medium\":\"cpc\",\"country\":\"United States\",\"hits\":\"1\",\"bounces\":\"1\",\"pageViews\":\"1\",\"timeOnSite\":\"0\"}\n",
      "\n"
     ]
    }
   ],
   "source": [
    "for idx, prediction in enumerate(predictions.predictions):\n",
    "    # Class labels [1,0] retrieved from model_metadata.json in GCS model dir.\n",
    "    # BQML binary classification default is 0.5 with above \"Churn\" and below \"Not Churn\".\n",
    "    is_add_to_cart = \"Added To Cart\" if prediction[0] >= 0.5 else \"Did Not Add To Cart\"\n",
    "    print(f\"Prediction: Visitor {idx} - {is_add_to_cart} {prediction}\")\n",
    "    print(test_df.iloc[idx].astype(str).to_json() + \"\\n\")"
   ]
  }
 ],
 "metadata": {
  "environment": {
   "kernel": "conda-root-py",
   "name": "workbench-notebooks.m115",
   "type": "gcloud",
   "uri": "gcr.io/deeplearning-platform-release/workbench-notebooks:m115"
  },
  "kernelspec": {
   "display_name": "Python 3 (ipykernel) (Local)",
   "language": "python",
   "name": "conda-root-py"
  },
  "language_info": {
   "codemirror_mode": {
    "name": "ipython",
    "version": 3
   },
   "file_extension": ".py",
   "mimetype": "text/x-python",
   "name": "python",
   "nbconvert_exporter": "python",
   "pygments_lexer": "ipython3",
   "version": "3.10.13"
  }
 },
 "nbformat": 4,
 "nbformat_minor": 5
}
